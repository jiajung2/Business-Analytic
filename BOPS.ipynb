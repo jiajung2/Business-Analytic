{
 "cells": [
  {
   "cell_type": "markdown",
   "metadata": {},
   "source": [
    "# Business Analytics\n",
    "## Testing Channel Management in Retail\n",
    "(C) 2021"
   ]
  },
  {
   "cell_type": "code",
   "execution_count": 1,
   "metadata": {},
   "outputs": [
    {
     "data": {
      "text/html": [
       "<img src onerror=\"var cell = this.closest('.code_cell');var editor = cell.querySelector('.input_area');editor.style.background='#bde4f0';this.parentNode.removeChild(this)\">"
      ],
      "text/plain": [
       "<IPython.core.display.HTML object>"
      ]
     },
     "metadata": {},
     "output_type": "display_data"
    },
    {
     "data": {
      "text/html": [
       "<style>.container { width:900px !important; }</style>"
      ],
      "text/plain": [
       "<IPython.core.display.HTML object>"
      ]
     },
     "metadata": {},
     "output_type": "display_data"
    }
   ],
   "source": [
    "from IPython.display import HTML, display\n",
    "\n",
    "def optional_material():\n",
    "    '''\n",
    "    When run in a cell, this function will color the cell blue to indicate\n",
    "    the material is optional\n",
    "    '''\n",
    "    script =  \"var cell = this.closest('.code_cell');\"\n",
    "    script += \"var editor = cell.querySelector('.input_area');\"\n",
    "    script += \"editor.style.background='#bde4f0';\"\n",
    "    script += \"this.parentNode.removeChild(this)\"\n",
    "    \n",
    "    display(HTML(f'<img src onerror=\"{script}\">'))\n",
    "    \n",
    "optional_material()\n",
    "\n",
    "from IPython.core.display import display, HTML\n",
    "display(HTML(\"<style>.container { width:900px !important; }</style>\"))"
   ]
  },
  {
   "cell_type": "markdown",
   "metadata": {},
   "source": [
    "# BOPS at Home and Kitchen"
   ]
  },
  {
   "cell_type": "markdown",
   "metadata": {},
   "source": [
    "### Load data"
   ]
  },
  {
   "cell_type": "code",
   "execution_count": 2,
   "metadata": {},
   "outputs": [],
   "source": [
    "import pandas as pd"
   ]
  },
  {
   "cell_type": "code",
   "execution_count": 4,
   "metadata": {},
   "outputs": [],
   "source": [
    "df_bm = pd.read_excel('/Users/gujiajun/Downloads/BOPS data.xlsx', sheet_name='B&M Sales')\n",
    "df_online = pd.read_excel('/Users/gujiajun/Downloads/BOPS data.xlsx', sheet_name='Online Sales')"
   ]
  },
  {
   "cell_type": "code",
   "execution_count": 5,
   "metadata": {},
   "outputs": [
    {
     "data": {
      "text/html": [
       "<div>\n",
       "<style scoped>\n",
       "    .dataframe tbody tr th:only-of-type {\n",
       "        vertical-align: middle;\n",
       "    }\n",
       "\n",
       "    .dataframe tbody tr th {\n",
       "        vertical-align: top;\n",
       "    }\n",
       "\n",
       "    .dataframe thead th {\n",
       "        text-align: right;\n",
       "    }\n",
       "</style>\n",
       "<table border=\"1\" class=\"dataframe\">\n",
       "  <thead>\n",
       "    <tr style=\"text-align: right;\">\n",
       "      <th></th>\n",
       "      <th>id (store)</th>\n",
       "      <th>date</th>\n",
       "      <th>year</th>\n",
       "      <th>month</th>\n",
       "      <th>week</th>\n",
       "      <th>usa</th>\n",
       "      <th>after</th>\n",
       "      <th>sales</th>\n",
       "    </tr>\n",
       "  </thead>\n",
       "  <tbody>\n",
       "    <tr>\n",
       "      <th>0</th>\n",
       "      <td>1</td>\n",
       "      <td>2011-04-17</td>\n",
       "      <td>2011</td>\n",
       "      <td>4</td>\n",
       "      <td>16</td>\n",
       "      <td>0</td>\n",
       "      <td>0</td>\n",
       "      <td>118690.700000</td>\n",
       "    </tr>\n",
       "    <tr>\n",
       "      <th>1</th>\n",
       "      <td>1</td>\n",
       "      <td>2011-04-24</td>\n",
       "      <td>2011</td>\n",
       "      <td>4</td>\n",
       "      <td>17</td>\n",
       "      <td>0</td>\n",
       "      <td>0</td>\n",
       "      <td>113804.266667</td>\n",
       "    </tr>\n",
       "    <tr>\n",
       "      <th>2</th>\n",
       "      <td>1</td>\n",
       "      <td>2011-05-01</td>\n",
       "      <td>2011</td>\n",
       "      <td>4</td>\n",
       "      <td>18</td>\n",
       "      <td>0</td>\n",
       "      <td>0</td>\n",
       "      <td>172104.333333</td>\n",
       "    </tr>\n",
       "    <tr>\n",
       "      <th>3</th>\n",
       "      <td>1</td>\n",
       "      <td>2011-05-08</td>\n",
       "      <td>2011</td>\n",
       "      <td>5</td>\n",
       "      <td>19</td>\n",
       "      <td>0</td>\n",
       "      <td>0</td>\n",
       "      <td>105590.966667</td>\n",
       "    </tr>\n",
       "    <tr>\n",
       "      <th>4</th>\n",
       "      <td>1</td>\n",
       "      <td>2011-05-15</td>\n",
       "      <td>2011</td>\n",
       "      <td>5</td>\n",
       "      <td>20</td>\n",
       "      <td>0</td>\n",
       "      <td>0</td>\n",
       "      <td>94884.300000</td>\n",
       "    </tr>\n",
       "  </tbody>\n",
       "</table>\n",
       "</div>"
      ],
      "text/plain": [
       "   id (store)       date  year  month  week  usa  after          sales\n",
       "0           1 2011-04-17  2011      4    16    0      0  118690.700000\n",
       "1           1 2011-04-24  2011      4    17    0      0  113804.266667\n",
       "2           1 2011-05-01  2011      4    18    0      0  172104.333333\n",
       "3           1 2011-05-08  2011      5    19    0      0  105590.966667\n",
       "4           1 2011-05-15  2011      5    20    0      0   94884.300000"
      ]
     },
     "execution_count": 5,
     "metadata": {},
     "output_type": "execute_result"
    }
   ],
   "source": [
    "df_bm.head()"
   ]
  },
  {
   "cell_type": "code",
   "execution_count": 6,
   "metadata": {},
   "outputs": [
    {
     "data": {
      "text/html": [
       "<div>\n",
       "<style scoped>\n",
       "    .dataframe tbody tr th:only-of-type {\n",
       "        vertical-align: middle;\n",
       "    }\n",
       "\n",
       "    .dataframe tbody tr th {\n",
       "        vertical-align: top;\n",
       "    }\n",
       "\n",
       "    .dataframe thead th {\n",
       "        text-align: right;\n",
       "    }\n",
       "</style>\n",
       "<table border=\"1\" class=\"dataframe\">\n",
       "  <thead>\n",
       "    <tr style=\"text-align: right;\">\n",
       "      <th></th>\n",
       "      <th>id (DMA)</th>\n",
       "      <th>date</th>\n",
       "      <th>year</th>\n",
       "      <th>month</th>\n",
       "      <th>week</th>\n",
       "      <th>after</th>\n",
       "      <th>close</th>\n",
       "      <th>sales</th>\n",
       "    </tr>\n",
       "  </thead>\n",
       "  <tbody>\n",
       "    <tr>\n",
       "      <th>0</th>\n",
       "      <td>1</td>\n",
       "      <td>2011-04-24</td>\n",
       "      <td>2011</td>\n",
       "      <td>4</td>\n",
       "      <td>17</td>\n",
       "      <td>0</td>\n",
       "      <td>1</td>\n",
       "      <td>18564.46094</td>\n",
       "    </tr>\n",
       "    <tr>\n",
       "      <th>1</th>\n",
       "      <td>1</td>\n",
       "      <td>2011-05-01</td>\n",
       "      <td>2011</td>\n",
       "      <td>4</td>\n",
       "      <td>18</td>\n",
       "      <td>0</td>\n",
       "      <td>1</td>\n",
       "      <td>30882.56055</td>\n",
       "    </tr>\n",
       "    <tr>\n",
       "      <th>2</th>\n",
       "      <td>1</td>\n",
       "      <td>2011-05-08</td>\n",
       "      <td>2011</td>\n",
       "      <td>5</td>\n",
       "      <td>19</td>\n",
       "      <td>0</td>\n",
       "      <td>1</td>\n",
       "      <td>37424.92578</td>\n",
       "    </tr>\n",
       "    <tr>\n",
       "      <th>3</th>\n",
       "      <td>1</td>\n",
       "      <td>2011-05-15</td>\n",
       "      <td>2011</td>\n",
       "      <td>5</td>\n",
       "      <td>20</td>\n",
       "      <td>0</td>\n",
       "      <td>1</td>\n",
       "      <td>32562.69336</td>\n",
       "    </tr>\n",
       "    <tr>\n",
       "      <th>4</th>\n",
       "      <td>1</td>\n",
       "      <td>2011-05-22</td>\n",
       "      <td>2011</td>\n",
       "      <td>5</td>\n",
       "      <td>21</td>\n",
       "      <td>0</td>\n",
       "      <td>1</td>\n",
       "      <td>35772.67188</td>\n",
       "    </tr>\n",
       "  </tbody>\n",
       "</table>\n",
       "</div>"
      ],
      "text/plain": [
       "   id (DMA)       date  year  month  week  after  close        sales\n",
       "0         1 2011-04-24  2011      4    17      0      1  18564.46094\n",
       "1         1 2011-05-01  2011      4    18      0      1  30882.56055\n",
       "2         1 2011-05-08  2011      5    19      0      1  37424.92578\n",
       "3         1 2011-05-15  2011      5    20      0      1  32562.69336\n",
       "4         1 2011-05-22  2011      5    21      0      1  35772.67188"
      ]
     },
     "execution_count": 6,
     "metadata": {},
     "output_type": "execute_result"
    }
   ],
   "source": [
    "df_online.head()"
   ]
  },
  {
   "cell_type": "markdown",
   "metadata": {},
   "source": [
    "### Initial analysis"
   ]
  },
  {
   "cell_type": "code",
   "execution_count": 7,
   "metadata": {},
   "outputs": [],
   "source": [
    "currency_format = lambda x : '${:,.2f}'.format(x)"
   ]
  },
  {
   "cell_type": "code",
   "execution_count": 8,
   "metadata": {},
   "outputs": [
    {
     "name": "stdout",
     "output_type": "stream",
     "text": [
      "Online sales\n",
      "\n",
      "Pre-BOPS:  $14,737.84\n",
      "           2011-04-24 to 2011-10-16\n",
      "Post-BOPS: $12,734.29\n",
      "           2011-10-23 to 2012-04-08\n"
     ]
    }
   ],
   "source": [
    "print('Online sales')\n",
    "print()\n",
    "df_online_pre = df_online[df_online.after == 0]\n",
    "df_online_post = df_online[df_online.after == 1]\n",
    "\n",
    "print(f'Pre-BOPS:  {currency_format(df_online_pre.sales.mean())}')\n",
    "print(f'           {df_online_pre.date.min().date()} to {df_online_pre.date.max().date()}')\n",
    "print(f'Post-BOPS: {currency_format(df_online_post.sales.mean())}')\n",
    "print(f'           {df_online_post.date.min().date()} to {df_online_post.date.max().date()}')"
   ]
  },
  {
   "cell_type": "code",
   "execution_count": 9,
   "metadata": {},
   "outputs": [
    {
     "name": "stdout",
     "output_type": "stream",
     "text": [
      "B&M sales\n",
      "\n",
      "Pre-BOPS:  $67,645.70\n",
      "           2011-04-17 to 2011-10-16\n",
      "Post-BOPS: $60,100.91\n",
      "           2011-10-23 to 2012-04-22\n"
     ]
    }
   ],
   "source": [
    "print('B&M sales')\n",
    "print()\n",
    "df_bm_pre = df_bm[df_bm.after == 0]\n",
    "df_bm_post = df_bm[df_bm.after == 1]\n",
    "\n",
    "print(f'Pre-BOPS:  {currency_format(df_bm_pre.sales.mean())}')\n",
    "print(f'           {df_bm_pre.date.min().date()} to {df_bm_pre.date.max().date()}')\n",
    "print(f'Post-BOPS: {currency_format(df_bm_post.sales.mean())}')\n",
    "print(f'           {df_bm_post.date.min().date()} to {df_bm_post.date.max().date()}')"
   ]
  },
  {
   "cell_type": "markdown",
   "metadata": {},
   "source": [
    "### DiD for online sales analysis"
   ]
  },
  {
   "cell_type": "code",
   "execution_count": 10,
   "metadata": {},
   "outputs": [
    {
     "name": "stdout",
     "output_type": "stream",
     "text": [
      "Far DMAs (no BOPS)\n",
      "Pre-BOPS:     $44,378,028.47\n",
      "Post-BOPS:    $37,525,957.96\n",
      "Difference:   $-6,852,070.51\n",
      "% difference: -15.44%\n",
      "\n",
      "Close DMAs (with BOPS)\n",
      "Pre-BOPS:     $36,090,582.97\n",
      "Post-BOPS:    $29,329,041.89\n",
      "Difference:   $-6,761,541.09\n",
      "% difference: -18.73%\n",
      "\n",
      "Difference in differences: -3.29%\n"
     ]
    }
   ],
   "source": [
    "print('Far DMAs (no BOPS)')\n",
    "far_pre_bops = df_online_pre[df_online_pre.close == 0].sales.sum()\n",
    "far_post_bops = df_online_post[df_online_post.close == 0].sales.sum()\n",
    "print(f'Pre-BOPS:     {currency_format(far_pre_bops)}')\n",
    "print(f'Post-BOPS:    {currency_format(far_post_bops)}')\n",
    "print(f'Difference:   {currency_format(far_post_bops-far_pre_bops)}')\n",
    "far_perc_diff = (far_post_bops-far_pre_bops)*100/far_pre_bops\n",
    "print(f'% difference: {round(far_perc_diff,2)}%')\n",
    "\n",
    "print()\n",
    "\n",
    "print('Close DMAs (with BOPS)')\n",
    "close_pre_bops = df_online_pre[df_online_pre.close == 1].sales.sum()\n",
    "close_post_bops = df_online_post[df_online_post.close == 1].sales.sum()\n",
    "print(f'Pre-BOPS:     {currency_format(close_pre_bops)}')\n",
    "print(f'Post-BOPS:    {currency_format(close_post_bops)}')\n",
    "print(f'Difference:   {currency_format(close_post_bops-close_pre_bops)}')\n",
    "close_perc_diff = (close_post_bops-close_pre_bops)*100/close_pre_bops\n",
    "print(f'% difference: {round(close_perc_diff,2)}%')\n",
    "\n",
    "print()\n",
    "print(f'Difference in differences: {round(close_perc_diff - far_perc_diff,2)}%')"
   ]
  },
  {
   "cell_type": "markdown",
   "metadata": {},
   "source": [
    "### DiD for B&M sales analysis"
   ]
  },
  {
   "cell_type": "code",
   "execution_count": 11,
   "metadata": {},
   "outputs": [
    {
     "name": "stdout",
     "output_type": "stream",
     "text": [
      "Canadian stores (no BOPS)\n",
      "Pre-BOPS:     $30,689,767.29\n",
      "Post-BOPS:    $25,853,282.86\n",
      "Difference:   $-4,836,484.43\n",
      "% difference: -15.76%\n",
      "\n",
      "USA stores (with BOPS)\n",
      "Pre-BOPS:     $122,730,679.27\n",
      "Post-BOPS:    $110,455,589.56\n",
      "Difference:   $-12,275,089.72\n",
      "% difference: -10.0%\n",
      "\n",
      "Difference in differences: 5.76%\n"
     ]
    }
   ],
   "source": [
    "print('Canadian stores (no BOPS)')\n",
    "ca_pre_bops = df_bm_pre[df_bm_pre.usa == 0].sales.sum()\n",
    "ca_post_bops = df_bm_post[df_bm_post.usa == 0].sales.sum()\n",
    "print(f'Pre-BOPS:     {currency_format(ca_pre_bops)}')\n",
    "print(f'Post-BOPS:    {currency_format(ca_post_bops)}')\n",
    "print(f'Difference:   {currency_format(ca_post_bops-ca_pre_bops)}')\n",
    "ca_perc_diff = (ca_post_bops-ca_pre_bops)*100/ca_pre_bops\n",
    "print(f'% difference: {round(ca_perc_diff,2)}%')\n",
    "\n",
    "print()\n",
    "\n",
    "print('USA stores (with BOPS)')\n",
    "usa_pre_bops = df_bm_pre[df_bm_pre.usa == 1].sales.sum()\n",
    "usa_post_bops = df_bm_post[df_bm_post.usa == 1].sales.sum()\n",
    "print(f'Pre-BOPS:     {currency_format(usa_pre_bops)}')\n",
    "print(f'Post-BOPS:    {currency_format(usa_post_bops)}')\n",
    "print(f'Difference:   {currency_format(usa_post_bops-usa_pre_bops)}')\n",
    "usa_perc_diff = (usa_post_bops-usa_pre_bops)*100/usa_pre_bops\n",
    "print(f'% difference: {round(usa_perc_diff,2)}%')\n",
    "\n",
    "print()\n",
    "print(f'Difference in differences: {round(usa_perc_diff - ca_perc_diff, 2)}%')"
   ]
  },
  {
   "cell_type": "markdown",
   "metadata": {},
   "source": [
    "## What unit to use?"
   ]
  },
  {
   "cell_type": "code",
   "execution_count": 12,
   "metadata": {},
   "outputs": [
    {
     "data": {
      "text/html": [
       "<img src onerror=\"var cell = this.closest('.code_cell');var editor = cell.querySelector('.input_area');editor.style.background='#bde4f0';this.parentNode.removeChild(this)\">"
      ],
      "text/plain": [
       "<IPython.core.display.HTML object>"
      ]
     },
     "metadata": {},
     "output_type": "display_data"
    }
   ],
   "source": [
    "optional_material()\n",
    "\n",
    "df_online_reg = pd.merge(df_online_pre.groupby(['id (DMA)', 'close'])\n",
    "                                       .sales\n",
    "                                       .sum()\n",
    "                                       .reset_index()\n",
    "                                       .rename(columns={'sales':'sales_before'}),\n",
    "                         df_online_post.groupby('id (DMA)')\n",
    "                                       .sales\n",
    "                                       .sum()\n",
    "                                       .reset_index()\n",
    "                                       .rename(columns={'sales':'sales_after'}),\n",
    "                         on = 'id (DMA)',\n",
    "                         validate='one_to_one')\n",
    "\n",
    "df_bm_reg = pd.merge(df_bm_pre.groupby(['id (store)', 'usa'])\n",
    "                               .sales\n",
    "                               .sum()\n",
    "                               .reset_index()\n",
    "                               .rename(columns={'sales':'sales_before'}),\n",
    "                     df_bm_post.groupby('id (store)')\n",
    "                               .sales\n",
    "                               .sum()\n",
    "                               .reset_index()\n",
    "                               .rename(columns={'sales':'sales_after'}),\n",
    "                     on = 'id (store)',\n",
    "                     validate='one_to_one')"
   ]
  },
  {
   "cell_type": "code",
   "execution_count": 13,
   "metadata": {},
   "outputs": [
    {
     "data": {
      "text/html": [
       "<div>\n",
       "<style scoped>\n",
       "    .dataframe tbody tr th:only-of-type {\n",
       "        vertical-align: middle;\n",
       "    }\n",
       "\n",
       "    .dataframe tbody tr th {\n",
       "        vertical-align: top;\n",
       "    }\n",
       "\n",
       "    .dataframe thead th {\n",
       "        text-align: right;\n",
       "    }\n",
       "</style>\n",
       "<table border=\"1\" class=\"dataframe\">\n",
       "  <thead>\n",
       "    <tr style=\"text-align: right;\">\n",
       "      <th></th>\n",
       "      <th>id (DMA)</th>\n",
       "      <th>close</th>\n",
       "      <th>sales_before</th>\n",
       "      <th>sales_after</th>\n",
       "    </tr>\n",
       "  </thead>\n",
       "  <tbody>\n",
       "    <tr>\n",
       "      <th>0</th>\n",
       "      <td>1</td>\n",
       "      <td>1</td>\n",
       "      <td>6.500395e+05</td>\n",
       "      <td>5.312964e+05</td>\n",
       "    </tr>\n",
       "    <tr>\n",
       "      <th>1</th>\n",
       "      <td>2</td>\n",
       "      <td>0</td>\n",
       "      <td>1.818505e+06</td>\n",
       "      <td>1.976250e+06</td>\n",
       "    </tr>\n",
       "    <tr>\n",
       "      <th>2</th>\n",
       "      <td>3</td>\n",
       "      <td>1</td>\n",
       "      <td>5.175134e+05</td>\n",
       "      <td>3.469291e+05</td>\n",
       "    </tr>\n",
       "    <tr>\n",
       "      <th>3</th>\n",
       "      <td>4</td>\n",
       "      <td>1</td>\n",
       "      <td>8.494751e+04</td>\n",
       "      <td>7.400218e+04</td>\n",
       "    </tr>\n",
       "    <tr>\n",
       "      <th>4</th>\n",
       "      <td>5</td>\n",
       "      <td>0</td>\n",
       "      <td>8.926640e+05</td>\n",
       "      <td>5.490454e+05</td>\n",
       "    </tr>\n",
       "  </tbody>\n",
       "</table>\n",
       "</div>"
      ],
      "text/plain": [
       "   id (DMA)  close  sales_before   sales_after\n",
       "0         1      1  6.500395e+05  5.312964e+05\n",
       "1         2      0  1.818505e+06  1.976250e+06\n",
       "2         3      1  5.175134e+05  3.469291e+05\n",
       "3         4      1  8.494751e+04  7.400218e+04\n",
       "4         5      0  8.926640e+05  5.490454e+05"
      ]
     },
     "execution_count": 13,
     "metadata": {},
     "output_type": "execute_result"
    }
   ],
   "source": [
    "df_online_reg.head()"
   ]
  },
  {
   "cell_type": "code",
   "execution_count": 14,
   "metadata": {},
   "outputs": [
    {
     "data": {
      "text/html": [
       "<div>\n",
       "<style scoped>\n",
       "    .dataframe tbody tr th:only-of-type {\n",
       "        vertical-align: middle;\n",
       "    }\n",
       "\n",
       "    .dataframe tbody tr th {\n",
       "        vertical-align: top;\n",
       "    }\n",
       "\n",
       "    .dataframe thead th {\n",
       "        text-align: right;\n",
       "    }\n",
       "</style>\n",
       "<table border=\"1\" class=\"dataframe\">\n",
       "  <thead>\n",
       "    <tr style=\"text-align: right;\">\n",
       "      <th></th>\n",
       "      <th>id (store)</th>\n",
       "      <th>usa</th>\n",
       "      <th>sales_before</th>\n",
       "      <th>sales_after</th>\n",
       "    </tr>\n",
       "  </thead>\n",
       "  <tbody>\n",
       "    <tr>\n",
       "      <th>0</th>\n",
       "      <td>1</td>\n",
       "      <td>0</td>\n",
       "      <td>3.426216e+06</td>\n",
       "      <td>3.067961e+06</td>\n",
       "    </tr>\n",
       "    <tr>\n",
       "      <th>1</th>\n",
       "      <td>3</td>\n",
       "      <td>1</td>\n",
       "      <td>1.286236e+06</td>\n",
       "      <td>1.138918e+06</td>\n",
       "    </tr>\n",
       "    <tr>\n",
       "      <th>2</th>\n",
       "      <td>5</td>\n",
       "      <td>1</td>\n",
       "      <td>2.724176e+06</td>\n",
       "      <td>2.518139e+06</td>\n",
       "    </tr>\n",
       "    <tr>\n",
       "      <th>3</th>\n",
       "      <td>7</td>\n",
       "      <td>1</td>\n",
       "      <td>2.220210e+06</td>\n",
       "      <td>1.772500e+06</td>\n",
       "    </tr>\n",
       "    <tr>\n",
       "      <th>4</th>\n",
       "      <td>9</td>\n",
       "      <td>1</td>\n",
       "      <td>2.647521e+06</td>\n",
       "      <td>2.617902e+06</td>\n",
       "    </tr>\n",
       "  </tbody>\n",
       "</table>\n",
       "</div>"
      ],
      "text/plain": [
       "   id (store)  usa  sales_before   sales_after\n",
       "0           1    0  3.426216e+06  3.067961e+06\n",
       "1           3    1  1.286236e+06  1.138918e+06\n",
       "2           5    1  2.724176e+06  2.518139e+06\n",
       "3           7    1  2.220210e+06  1.772500e+06\n",
       "4           9    1  2.647521e+06  2.617902e+06"
      ]
     },
     "execution_count": 14,
     "metadata": {},
     "output_type": "execute_result"
    }
   ],
   "source": [
    "df_bm_reg.head()"
   ]
  },
  {
   "cell_type": "code",
   "execution_count": 15,
   "metadata": {},
   "outputs": [],
   "source": [
    "df_online_reg['perc_change'] = ((df_online_reg.sales_after\n",
    "                                     - df_online_reg.sales_before)/df_online_reg.sales_before)\n",
    "df_bm_reg['perc_change'] = ((df_bm_reg.sales_after\n",
    "                                     - df_bm_reg.sales_before)/df_bm_reg.sales_before)"
   ]
  },
  {
   "cell_type": "code",
   "execution_count": 16,
   "metadata": {},
   "outputs": [
    {
     "data": {
      "text/html": [
       "<div>\n",
       "<style scoped>\n",
       "    .dataframe tbody tr th:only-of-type {\n",
       "        vertical-align: middle;\n",
       "    }\n",
       "\n",
       "    .dataframe tbody tr th {\n",
       "        vertical-align: top;\n",
       "    }\n",
       "\n",
       "    .dataframe thead th {\n",
       "        text-align: right;\n",
       "    }\n",
       "</style>\n",
       "<table border=\"1\" class=\"dataframe\">\n",
       "  <thead>\n",
       "    <tr style=\"text-align: right;\">\n",
       "      <th></th>\n",
       "      <th>id (DMA)</th>\n",
       "      <th>close</th>\n",
       "      <th>sales_before</th>\n",
       "      <th>sales_after</th>\n",
       "      <th>perc_change</th>\n",
       "    </tr>\n",
       "  </thead>\n",
       "  <tbody>\n",
       "    <tr>\n",
       "      <th>0</th>\n",
       "      <td>1</td>\n",
       "      <td>1</td>\n",
       "      <td>6.500395e+05</td>\n",
       "      <td>5.312964e+05</td>\n",
       "      <td>-0.182671</td>\n",
       "    </tr>\n",
       "    <tr>\n",
       "      <th>1</th>\n",
       "      <td>2</td>\n",
       "      <td>0</td>\n",
       "      <td>1.818505e+06</td>\n",
       "      <td>1.976250e+06</td>\n",
       "      <td>0.086744</td>\n",
       "    </tr>\n",
       "  </tbody>\n",
       "</table>\n",
       "</div>"
      ],
      "text/plain": [
       "   id (DMA)  close  sales_before   sales_after  perc_change\n",
       "0         1      1  6.500395e+05  5.312964e+05    -0.182671\n",
       "1         2      0  1.818505e+06  1.976250e+06     0.086744"
      ]
     },
     "execution_count": 16,
     "metadata": {},
     "output_type": "execute_result"
    }
   ],
   "source": [
    "df_online_reg.head(2)"
   ]
  },
  {
   "cell_type": "code",
   "execution_count": 17,
   "metadata": {},
   "outputs": [
    {
     "data": {
      "text/html": [
       "<div>\n",
       "<style scoped>\n",
       "    .dataframe tbody tr th:only-of-type {\n",
       "        vertical-align: middle;\n",
       "    }\n",
       "\n",
       "    .dataframe tbody tr th {\n",
       "        vertical-align: top;\n",
       "    }\n",
       "\n",
       "    .dataframe thead th {\n",
       "        text-align: right;\n",
       "    }\n",
       "</style>\n",
       "<table border=\"1\" class=\"dataframe\">\n",
       "  <thead>\n",
       "    <tr style=\"text-align: right;\">\n",
       "      <th></th>\n",
       "      <th>id (store)</th>\n",
       "      <th>usa</th>\n",
       "      <th>sales_before</th>\n",
       "      <th>sales_after</th>\n",
       "      <th>perc_change</th>\n",
       "    </tr>\n",
       "  </thead>\n",
       "  <tbody>\n",
       "    <tr>\n",
       "      <th>0</th>\n",
       "      <td>1</td>\n",
       "      <td>0</td>\n",
       "      <td>3426216.30</td>\n",
       "      <td>3.067961e+06</td>\n",
       "      <td>-0.104563</td>\n",
       "    </tr>\n",
       "    <tr>\n",
       "      <th>1</th>\n",
       "      <td>3</td>\n",
       "      <td>1</td>\n",
       "      <td>1286235.86</td>\n",
       "      <td>1.138918e+06</td>\n",
       "      <td>-0.114534</td>\n",
       "    </tr>\n",
       "  </tbody>\n",
       "</table>\n",
       "</div>"
      ],
      "text/plain": [
       "   id (store)  usa  sales_before   sales_after  perc_change\n",
       "0           1    0    3426216.30  3.067961e+06    -0.104563\n",
       "1           3    1    1286235.86  1.138918e+06    -0.114534"
      ]
     },
     "execution_count": 17,
     "metadata": {},
     "output_type": "execute_result"
    }
   ],
   "source": [
    "df_bm_reg.head(2)"
   ]
  },
  {
   "cell_type": "code",
   "execution_count": 18,
   "metadata": {},
   "outputs": [
    {
     "name": "stdout",
     "output_type": "stream",
     "text": [
      "Online DiD\n",
      "-2.67%\n",
      "\n",
      "B&M DiD\n",
      "5.74%\n"
     ]
    }
   ],
   "source": [
    "print('Online DiD')\n",
    "print(str(round((df_online_reg[df_online_reg.close == 1].perc_change.mean()\n",
    "                   - df_online_reg[df_online_reg.close == 0].perc_change.mean())*100, 2)) + '%')\n",
    "\n",
    "print()\n",
    "\n",
    "print('B&M DiD')\n",
    "print(str(round((df_bm_reg[df_bm_reg.usa == 1].perc_change.mean()\n",
    "                   - df_bm_reg[df_bm_reg.usa == 0].perc_change.mean())*100, 2)) + '%')\n"
   ]
  },
  {
   "cell_type": "markdown",
   "metadata": {},
   "source": [
    "## DiD using linear regression"
   ]
  },
  {
   "cell_type": "code",
   "execution_count": 19,
   "metadata": {},
   "outputs": [
    {
     "data": {
      "text/html": [
       "<table class=\"simpletable\">\n",
       "<caption>OLS Regression Results</caption>\n",
       "<tr>\n",
       "  <th>Dep. Variable:</th>       <td>perc_change</td>   <th>  R-squared:         </th> <td>   0.017</td>\n",
       "</tr>\n",
       "<tr>\n",
       "  <th>Model:</th>                   <td>OLS</td>       <th>  Adj. R-squared:    </th> <td>   0.012</td>\n",
       "</tr>\n",
       "<tr>\n",
       "  <th>Method:</th>             <td>Least Squares</td>  <th>  F-statistic:       </th> <td>   3.593</td>\n",
       "</tr>\n",
       "<tr>\n",
       "  <th>Date:</th>             <td>Thu, 14 Sep 2023</td> <th>  Prob (F-statistic):</th>  <td>0.0594</td> \n",
       "</tr>\n",
       "<tr>\n",
       "  <th>Time:</th>                 <td>13:48:28</td>     <th>  Log-Likelihood:    </th> <td>  182.30</td>\n",
       "</tr>\n",
       "<tr>\n",
       "  <th>No. Observations:</th>      <td>   210</td>      <th>  AIC:               </th> <td>  -360.6</td>\n",
       "</tr>\n",
       "<tr>\n",
       "  <th>Df Residuals:</th>          <td>   208</td>      <th>  BIC:               </th> <td>  -353.9</td>\n",
       "</tr>\n",
       "<tr>\n",
       "  <th>Df Model:</th>              <td>     1</td>      <th>                     </th>     <td> </td>   \n",
       "</tr>\n",
       "<tr>\n",
       "  <th>Covariance Type:</th>      <td>nonrobust</td>    <th>                     </th>     <td> </td>   \n",
       "</tr>\n",
       "</table>\n",
       "<table class=\"simpletable\">\n",
       "<tr>\n",
       "      <td></td>         <th>coef</th>     <th>std err</th>      <th>t</th>      <th>P>|t|</th>  <th>[0.025</th>    <th>0.975]</th>  \n",
       "</tr>\n",
       "<tr>\n",
       "  <th>Intercept</th> <td>   -0.1698</td> <td>    0.010</td> <td>  -17.367</td> <td> 0.000</td> <td>   -0.189</td> <td>   -0.150</td>\n",
       "</tr>\n",
       "<tr>\n",
       "  <th>close</th>     <td>   -0.0267</td> <td>    0.014</td> <td>   -1.896</td> <td> 0.059</td> <td>   -0.055</td> <td>    0.001</td>\n",
       "</tr>\n",
       "</table>\n",
       "<table class=\"simpletable\">\n",
       "<tr>\n",
       "  <th>Omnibus:</th>       <td>17.313</td> <th>  Durbin-Watson:     </th> <td>   2.080</td>\n",
       "</tr>\n",
       "<tr>\n",
       "  <th>Prob(Omnibus):</th> <td> 0.000</td> <th>  Jarque-Bera (JB):  </th> <td>  19.065</td>\n",
       "</tr>\n",
       "<tr>\n",
       "  <th>Skew:</th>          <td> 0.709</td> <th>  Prob(JB):          </th> <td>7.25e-05</td>\n",
       "</tr>\n",
       "<tr>\n",
       "  <th>Kurtosis:</th>      <td> 3.410</td> <th>  Cond. No.          </th> <td>    2.58</td>\n",
       "</tr>\n",
       "</table><br/><br/>Notes:<br/>[1] Standard Errors assume that the covariance matrix of the errors is correctly specified."
      ],
      "text/plain": [
       "<class 'statsmodels.iolib.summary.Summary'>\n",
       "\"\"\"\n",
       "                            OLS Regression Results                            \n",
       "==============================================================================\n",
       "Dep. Variable:            perc_change   R-squared:                       0.017\n",
       "Model:                            OLS   Adj. R-squared:                  0.012\n",
       "Method:                 Least Squares   F-statistic:                     3.593\n",
       "Date:                Thu, 14 Sep 2023   Prob (F-statistic):             0.0594\n",
       "Time:                        13:48:28   Log-Likelihood:                 182.30\n",
       "No. Observations:                 210   AIC:                            -360.6\n",
       "Df Residuals:                     208   BIC:                            -353.9\n",
       "Df Model:                           1                                         \n",
       "Covariance Type:            nonrobust                                         \n",
       "==============================================================================\n",
       "                 coef    std err          t      P>|t|      [0.025      0.975]\n",
       "------------------------------------------------------------------------------\n",
       "Intercept     -0.1698      0.010    -17.367      0.000      -0.189      -0.150\n",
       "close         -0.0267      0.014     -1.896      0.059      -0.055       0.001\n",
       "==============================================================================\n",
       "Omnibus:                       17.313   Durbin-Watson:                   2.080\n",
       "Prob(Omnibus):                  0.000   Jarque-Bera (JB):               19.065\n",
       "Skew:                           0.709   Prob(JB):                     7.25e-05\n",
       "Kurtosis:                       3.410   Cond. No.                         2.58\n",
       "==============================================================================\n",
       "\n",
       "Notes:\n",
       "[1] Standard Errors assume that the covariance matrix of the errors is correctly specified.\n",
       "\"\"\""
      ]
     },
     "execution_count": 19,
     "metadata": {},
     "output_type": "execute_result"
    }
   ],
   "source": [
    "import statsmodels.formula.api as smf\n",
    "\n",
    "res = smf.ols(formula='perc_change ~ close', data=df_online_reg).fit()\n",
    "\n",
    "res.summary()"
   ]
  },
  {
   "cell_type": "code",
   "execution_count": 20,
   "metadata": {},
   "outputs": [
    {
     "data": {
      "text/html": [
       "<table class=\"simpletable\">\n",
       "<caption>OLS Regression Results</caption>\n",
       "<tr>\n",
       "  <th>Dep. Variable:</th>       <td>perc_change</td>   <th>  R-squared:         </th> <td>   0.141</td>\n",
       "</tr>\n",
       "<tr>\n",
       "  <th>Model:</th>                   <td>OLS</td>       <th>  Adj. R-squared:    </th> <td>   0.130</td>\n",
       "</tr>\n",
       "<tr>\n",
       "  <th>Method:</th>             <td>Least Squares</td>  <th>  F-statistic:       </th> <td>   13.43</td>\n",
       "</tr>\n",
       "<tr>\n",
       "  <th>Date:</th>             <td>Thu, 14 Sep 2023</td> <th>  Prob (F-statistic):</th> <td>0.000439</td>\n",
       "</tr>\n",
       "<tr>\n",
       "  <th>Time:</th>                 <td>13:48:28</td>     <th>  Log-Likelihood:    </th> <td>  121.47</td>\n",
       "</tr>\n",
       "<tr>\n",
       "  <th>No. Observations:</th>      <td>    84</td>      <th>  AIC:               </th> <td>  -238.9</td>\n",
       "</tr>\n",
       "<tr>\n",
       "  <th>Df Residuals:</th>          <td>    82</td>      <th>  BIC:               </th> <td>  -234.1</td>\n",
       "</tr>\n",
       "<tr>\n",
       "  <th>Df Model:</th>              <td>     1</td>      <th>                     </th>     <td> </td>   \n",
       "</tr>\n",
       "<tr>\n",
       "  <th>Covariance Type:</th>      <td>nonrobust</td>    <th>                     </th>     <td> </td>   \n",
       "</tr>\n",
       "</table>\n",
       "<table class=\"simpletable\">\n",
       "<tr>\n",
       "      <td></td>         <th>coef</th>     <th>std err</th>      <th>t</th>      <th>P>|t|</th>  <th>[0.025</th>    <th>0.975]</th>  \n",
       "</tr>\n",
       "<tr>\n",
       "  <th>Intercept</th> <td>   -0.1591</td> <td>    0.014</td> <td>  -11.371</td> <td> 0.000</td> <td>   -0.187</td> <td>   -0.131</td>\n",
       "</tr>\n",
       "<tr>\n",
       "  <th>usa</th>       <td>    0.0574</td> <td>    0.016</td> <td>    3.664</td> <td> 0.000</td> <td>    0.026</td> <td>    0.089</td>\n",
       "</tr>\n",
       "</table>\n",
       "<table class=\"simpletable\">\n",
       "<tr>\n",
       "  <th>Omnibus:</th>       <td> 0.669</td> <th>  Durbin-Watson:     </th> <td>   1.975</td>\n",
       "</tr>\n",
       "<tr>\n",
       "  <th>Prob(Omnibus):</th> <td> 0.716</td> <th>  Jarque-Bera (JB):  </th> <td>   0.749</td>\n",
       "</tr>\n",
       "<tr>\n",
       "  <th>Skew:</th>          <td> 0.050</td> <th>  Prob(JB):          </th> <td>   0.688</td>\n",
       "</tr>\n",
       "<tr>\n",
       "  <th>Kurtosis:</th>      <td> 2.548</td> <th>  Cond. No.          </th> <td>    4.24</td>\n",
       "</tr>\n",
       "</table><br/><br/>Notes:<br/>[1] Standard Errors assume that the covariance matrix of the errors is correctly specified."
      ],
      "text/plain": [
       "<class 'statsmodels.iolib.summary.Summary'>\n",
       "\"\"\"\n",
       "                            OLS Regression Results                            \n",
       "==============================================================================\n",
       "Dep. Variable:            perc_change   R-squared:                       0.141\n",
       "Model:                            OLS   Adj. R-squared:                  0.130\n",
       "Method:                 Least Squares   F-statistic:                     13.43\n",
       "Date:                Thu, 14 Sep 2023   Prob (F-statistic):           0.000439\n",
       "Time:                        13:48:28   Log-Likelihood:                 121.47\n",
       "No. Observations:                  84   AIC:                            -238.9\n",
       "Df Residuals:                      82   BIC:                            -234.1\n",
       "Df Model:                           1                                         \n",
       "Covariance Type:            nonrobust                                         \n",
       "==============================================================================\n",
       "                 coef    std err          t      P>|t|      [0.025      0.975]\n",
       "------------------------------------------------------------------------------\n",
       "Intercept     -0.1591      0.014    -11.371      0.000      -0.187      -0.131\n",
       "usa            0.0574      0.016      3.664      0.000       0.026       0.089\n",
       "==============================================================================\n",
       "Omnibus:                        0.669   Durbin-Watson:                   1.975\n",
       "Prob(Omnibus):                  0.716   Jarque-Bera (JB):                0.749\n",
       "Skew:                           0.050   Prob(JB):                        0.688\n",
       "Kurtosis:                       2.548   Cond. No.                         4.24\n",
       "==============================================================================\n",
       "\n",
       "Notes:\n",
       "[1] Standard Errors assume that the covariance matrix of the errors is correctly specified.\n",
       "\"\"\""
      ]
     },
     "execution_count": 20,
     "metadata": {},
     "output_type": "execute_result"
    }
   ],
   "source": [
    "res = smf.ols(formula='perc_change ~ usa', data=df_bm_reg).fit()\n",
    "\n",
    "res.summary()"
   ]
  }
 ],
 "metadata": {
  "kernelspec": {
   "display_name": "Python 3",
   "language": "python",
   "name": "python3"
  },
  "language_info": {
   "codemirror_mode": {
    "name": "ipython",
    "version": 3
   },
   "file_extension": ".py",
   "mimetype": "text/x-python",
   "name": "python",
   "nbconvert_exporter": "python",
   "pygments_lexer": "ipython3",
   "version": "3.8.5"
  }
 },
 "nbformat": 4,
 "nbformat_minor": 4
}
