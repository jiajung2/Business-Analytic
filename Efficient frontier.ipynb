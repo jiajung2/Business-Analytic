{
 "cells": [
  {
   "cell_type": "markdown",
   "metadata": {},
   "source": [
    "# Business Analytics\n",
    "## Optimizing with multiple objectives: portfolio analytics\n",
    "(C) 2021"
   ]
  },
  {
   "cell_type": "code",
   "execution_count": 1,
   "metadata": {},
   "outputs": [
    {
     "data": {
      "text/html": [
       "<img src onerror=\"var cell = this.closest('.code_cell');var editor = cell.querySelector('.input_area');editor.style.background='#bde4f0';this.parentNode.removeChild(this)\">"
      ],
      "text/plain": [
       "<IPython.core.display.HTML object>"
      ]
     },
     "metadata": {},
     "output_type": "display_data"
    },
    {
     "data": {
      "text/html": [
       "<style>.container { width:900px !important; }</style>"
      ],
      "text/plain": [
       "<IPython.core.display.HTML object>"
      ]
     },
     "metadata": {},
     "output_type": "display_data"
    }
   ],
   "source": [
    "from IPython.display import HTML, display\n",
    "\n",
    "def optional_material():\n",
    "    '''\n",
    "    When run in a cell, this function will color the cell blue to indicate\n",
    "    the material is optional\n",
    "    '''\n",
    "    script =  \"var cell = this.closest('.code_cell');\"\n",
    "    script += \"var editor = cell.querySelector('.input_area');\"\n",
    "    script += \"editor.style.background='#bde4f0';\"\n",
    "    script += \"this.parentNode.removeChild(this)\"\n",
    "    \n",
    "    display(HTML(f'<img src onerror=\"{script}\">'))\n",
    "    \n",
    "optional_material()\n",
    "\n",
    "from IPython.core.display import display, HTML\n",
    "display(HTML(\"<style>.container { width:900px !important; }</style>\"))"
   ]
  },
  {
   "cell_type": "markdown",
   "metadata": {},
   "source": [
    "# Building an Efficient Frontier"
   ]
  },
  {
   "cell_type": "markdown",
   "metadata": {},
   "source": [
    "### Loading stock data"
   ]
  },
  {
   "cell_type": "code",
   "execution_count": 2,
   "metadata": {},
   "outputs": [],
   "source": [
    "# Start and end date for data we're loading\n",
    "start_date      = '2019-01-01'\n",
    "end_date        = '2022-12-31'\n",
    "\n",
    "# The interval; Yahoo finance and Pandas use different codes to\n",
    "# mean 'start of the month'\n",
    "interval_yahoo  = '1mo'\n",
    "interval_pandas = 'MS'\n",
    "\n",
    "# Tickers we want to use to create our efficient frontier\n",
    "tickers         = ['AAPL', 'ABT', 'AMGN', 'AXP', 'CVX', 'DIS', 'GE',\n",
    "                       'IBM', 'MSFT', 'PEP', 'SLB', 'VZ', 'WMT', 'XOM']"
   ]
  },
  {
   "cell_type": "code",
   "execution_count": 3,
   "metadata": {},
   "outputs": [],
   "source": [
    "# Install the yahoo finance API\n",
    "#!pip install yfinance"
   ]
  },
  {
   "cell_type": "code",
   "execution_count": 4,
   "metadata": {},
   "outputs": [
    {
     "name": "stdout",
     "output_type": "stream",
     "text": [
      "[*********************100%***********************]  1 of 1 completed\n",
      "[*********************100%***********************]  1 of 1 completed\n",
      "[*********************100%***********************]  1 of 1 completed\n",
      "[*********************100%***********************]  1 of 1 completed\n",
      "[*********************100%***********************]  1 of 1 completed\n",
      "[*********************100%***********************]  1 of 1 completed\n",
      "[*********************100%***********************]  1 of 1 completed\n",
      "[*********************100%***********************]  1 of 1 completed\n",
      "[*********************100%***********************]  1 of 1 completed\n",
      "[*********************100%***********************]  1 of 1 completed\n",
      "[*********************100%***********************]  1 of 1 completed\n",
      "[*********************100%***********************]  1 of 1 completed\n",
      "[*********************100%***********************]  1 of 1 completed\n",
      "[*********************100%***********************]  1 of 1 completed\n"
     ]
    }
   ],
   "source": [
    "import yfinance as yf\n",
    "\n",
    "stock_data = {}\n",
    "\n",
    "# Load relevant dates for each of our tickers\n",
    "for ticker in tickers:\n",
    "    stock_data[ticker] = yf.download(ticker,\n",
    "                                     start    = start_date,\n",
    "                                     end      = end_date,\n",
    "                                     interval = interval_yahoo)"
   ]
  },
  {
   "cell_type": "code",
   "execution_count": 5,
   "metadata": {},
   "outputs": [],
   "source": [
    "# Remove timezone info from the infex\n",
    "for ticker in tickers:\n",
    "    stock_data[ticker].index = stock_data[ticker].index.tz_localize(None)"
   ]
  },
  {
   "cell_type": "code",
   "execution_count": 6,
   "metadata": {},
   "outputs": [],
   "source": [
    "import pandas as pd\n",
    "import numpy as np"
   ]
  },
  {
   "cell_type": "code",
   "execution_count": 7,
   "metadata": {},
   "outputs": [],
   "source": [
    "# Create an index that contains the first day of every month\n",
    "# from the start date to the end date\n",
    "full_index = pd.date_range(start=start_date,\n",
    "                           end=end_date,\n",
    "                           freq=interval_pandas)\n",
    "\n",
    "# Create a DataFrame with that index\n",
    "df_returns = pd.DataFrame(index=full_index)"
   ]
  },
  {
   "cell_type": "code",
   "execution_count": 8,
   "metadata": {},
   "outputs": [],
   "source": [
    "# Go through each stock, find the returns, and add them to df_returns\n",
    "for ticker in tickers:\n",
    "    this_df = stock_data[ticker]\n",
    "    \n",
    "    # For some reason, Yahoo finance returns some dates that are not\n",
    "    # at the start of the month, even if we ask for monthly frequency.\n",
    "    # Remove these dates that are not in the index of df_returns\n",
    "    this_df = this_df[this_df.index.isin(df_returns.index)]\n",
    "    \n",
    "    # Ensure that there are no missing values in the data\n",
    "    assert this_df['Adj Close'].isna().sum() == 0, 'Some months missing in Yahoo data'\n",
    "    \n",
    "    # Ensure we have at least 10 months worth of data\n",
    "    assert len(this_df) > 10, 'Some tickers have less than 10 months of data'\n",
    "    \n",
    "    # Calculate the return\n",
    "    this_close = this_df['Adj Close']\n",
    "    prev_close = this_df['Adj Close'].shift(1)\n",
    "    ticker_return = (this_close - prev_close)/prev_close\n",
    "    \n",
    "    # Add this ticker to df_returns\n",
    "    df_returns[ticker] = ticker_return"
   ]
  },
  {
   "cell_type": "code",
   "execution_count": 9,
   "metadata": {},
   "outputs": [],
   "source": [
    "# Find mean returns, standard deviation of returns, and correlation\n",
    "# between all stocks\n",
    "means = df_returns.mean().to_numpy()\n",
    "stds  = df_returns.std().to_numpy()\n",
    "covs = df_returns.cov().to_numpy()"
   ]
  },
  {
   "cell_type": "markdown",
   "metadata": {},
   "source": [
    "### Constructing the optimization problem"
   ]
  },
  {
   "cell_type": "code",
   "execution_count": 10,
   "metadata": {},
   "outputs": [],
   "source": [
    "from scipy import optimize"
   ]
  },
  {
   "cell_type": "code",
   "execution_count": 11,
   "metadata": {},
   "outputs": [],
   "source": [
    "def portfolio_var(w):\n",
    "    '''\n",
    "    This function accepts an array of portfolio weights, and returns\n",
    "    the variance of the resulting portfolio\n",
    "    '''\n",
    "    \n",
    "    return w.transpose() @ covs @ w"
   ]
  },
  {
   "cell_type": "code",
   "execution_count": 12,
   "metadata": {},
   "outputs": [],
   "source": [
    "x0 = [1/len(tickers)]*len(tickers)"
   ]
  },
  {
   "cell_type": "code",
   "execution_count": 13,
   "metadata": {},
   "outputs": [],
   "source": [
    "equality_constraint = optimize.LinearConstraint(A  = [[1]*len(tickers)],\n",
    "                                                lb = 1,\n",
    "                                                ub = 1)\n",
    "\n",
    "# Let's begin by assuming the returns have to be >=0 (i.e., no\n",
    "# constraint; we'll later modify this\n",
    "inequality_constraint = optimize.LinearConstraint(A  = [means],\n",
    "                                                  lb = 0,\n",
    "                                                  ub = np.inf)"
   ]
  },
  {
   "cell_type": "code",
   "execution_count": 14,
   "metadata": {},
   "outputs": [],
   "source": [
    "bounds = optimize.Bounds(lb=0, ub=np.inf)"
   ]
  },
  {
   "cell_type": "code",
   "execution_count": 15,
   "metadata": {},
   "outputs": [],
   "source": [
    "# Solve the problem\n",
    "r = optimize.minimize(fun         = portfolio_var,\n",
    "                      x0          = x0,\n",
    "                      constraints = [equality_constraint,\n",
    "                                     inequality_constraint],\n",
    "                      bounds      = bounds)"
   ]
  },
  {
   "cell_type": "code",
   "execution_count": 16,
   "metadata": {},
   "outputs": [
    {
     "data": {
      "text/plain": [
       "True"
      ]
     },
     "execution_count": 16,
     "metadata": {},
     "output_type": "execute_result"
    }
   ],
   "source": [
    "r.success"
   ]
  },
  {
   "cell_type": "code",
   "execution_count": 17,
   "metadata": {},
   "outputs": [
    {
     "data": {
      "text/plain": [
       "0.001363944287973635"
      ]
     },
     "execution_count": 17,
     "metadata": {},
     "output_type": "execute_result"
    }
   ],
   "source": [
    "r.fun"
   ]
  },
  {
   "cell_type": "code",
   "execution_count": 18,
   "metadata": {},
   "outputs": [
    {
     "data": {
      "text/plain": [
       "array([0.00000000e+00, 7.37433983e-02, 1.38443055e-17, 0.00000000e+00,\n",
       "       0.00000000e+00, 6.32030898e-18, 1.04355344e-03, 1.04083409e-17,\n",
       "       5.18747609e-02, 2.21353657e-01, 5.11451738e-18, 3.97049973e-01,\n",
       "       2.54837771e-01, 9.68861691e-05])"
      ]
     },
     "execution_count": 18,
     "metadata": {},
     "output_type": "execute_result"
    }
   ],
   "source": [
    "r.x"
   ]
  },
  {
   "cell_type": "code",
   "execution_count": 19,
   "metadata": {},
   "outputs": [
    {
     "data": {
      "text/html": [
       "<div>\n",
       "<style scoped>\n",
       "    .dataframe tbody tr th:only-of-type {\n",
       "        vertical-align: middle;\n",
       "    }\n",
       "\n",
       "    .dataframe tbody tr th {\n",
       "        vertical-align: top;\n",
       "    }\n",
       "\n",
       "    .dataframe thead th {\n",
       "        text-align: right;\n",
       "    }\n",
       "</style>\n",
       "<table border=\"1\" class=\"dataframe\">\n",
       "  <thead>\n",
       "    <tr style=\"text-align: right;\">\n",
       "      <th></th>\n",
       "      <th>0</th>\n",
       "    </tr>\n",
       "  </thead>\n",
       "  <tbody>\n",
       "    <tr>\n",
       "      <th>AAPL</th>\n",
       "      <td>0.00</td>\n",
       "    </tr>\n",
       "    <tr>\n",
       "      <th>ABT</th>\n",
       "      <td>7.37</td>\n",
       "    </tr>\n",
       "    <tr>\n",
       "      <th>AMGN</th>\n",
       "      <td>0.00</td>\n",
       "    </tr>\n",
       "    <tr>\n",
       "      <th>AXP</th>\n",
       "      <td>0.00</td>\n",
       "    </tr>\n",
       "    <tr>\n",
       "      <th>CVX</th>\n",
       "      <td>0.00</td>\n",
       "    </tr>\n",
       "    <tr>\n",
       "      <th>DIS</th>\n",
       "      <td>0.00</td>\n",
       "    </tr>\n",
       "    <tr>\n",
       "      <th>GE</th>\n",
       "      <td>0.10</td>\n",
       "    </tr>\n",
       "    <tr>\n",
       "      <th>IBM</th>\n",
       "      <td>0.00</td>\n",
       "    </tr>\n",
       "    <tr>\n",
       "      <th>MSFT</th>\n",
       "      <td>5.19</td>\n",
       "    </tr>\n",
       "    <tr>\n",
       "      <th>PEP</th>\n",
       "      <td>22.14</td>\n",
       "    </tr>\n",
       "    <tr>\n",
       "      <th>SLB</th>\n",
       "      <td>0.00</td>\n",
       "    </tr>\n",
       "    <tr>\n",
       "      <th>VZ</th>\n",
       "      <td>39.70</td>\n",
       "    </tr>\n",
       "    <tr>\n",
       "      <th>WMT</th>\n",
       "      <td>25.48</td>\n",
       "    </tr>\n",
       "    <tr>\n",
       "      <th>XOM</th>\n",
       "      <td>0.01</td>\n",
       "    </tr>\n",
       "  </tbody>\n",
       "</table>\n",
       "</div>"
      ],
      "text/plain": [
       "          0\n",
       "AAPL   0.00\n",
       "ABT    7.37\n",
       "AMGN   0.00\n",
       "AXP    0.00\n",
       "CVX    0.00\n",
       "DIS    0.00\n",
       "GE     0.10\n",
       "IBM    0.00\n",
       "MSFT   5.19\n",
       "PEP   22.14\n",
       "SLB    0.00\n",
       "VZ    39.70\n",
       "WMT   25.48\n",
       "XOM    0.01"
      ]
     },
     "execution_count": 19,
     "metadata": {},
     "output_type": "execute_result"
    }
   ],
   "source": [
    "pd.DataFrame(np.round(r.x*100,2), index=tickers)"
   ]
  },
  {
   "cell_type": "code",
   "execution_count": 20,
   "metadata": {},
   "outputs": [
    {
     "name": "stdout",
     "output_type": "stream",
     "text": [
      "Minimum std: 3.69%\n"
     ]
    }
   ],
   "source": [
    "print(f'Minimum std: {round(np.sqrt(r.fun)*100,2)}%')"
   ]
  },
  {
   "cell_type": "code",
   "execution_count": 21,
   "metadata": {},
   "outputs": [
    {
     "name": "stdout",
     "output_type": "stream",
     "text": [
      "Minimum std portfolio has return 0.7%\n"
     ]
    }
   ],
   "source": [
    "min_var_return = (r.x*means).sum()\n",
    "print(f'Minimum std portfolio has return {round(min_var_return*100,2)}%')"
   ]
  },
  {
   "cell_type": "markdown",
   "metadata": {},
   "source": [
    "### Constructing the efficient frontier"
   ]
  },
  {
   "cell_type": "code",
   "execution_count": 22,
   "metadata": {},
   "outputs": [],
   "source": [
    "# The maximum return is achieved when investing in a single\n",
    "# stock - the one wtih the highest return\n",
    "max_return = max(means)"
   ]
  },
  {
   "cell_type": "code",
   "execution_count": 23,
   "metadata": {},
   "outputs": [],
   "source": [
    "# Construct a list of 30 returns from the smallest (obtained with\n",
    "# min variance) to the largest (investing in a single stock)\n",
    "mean_returns = np.linspace(min_var_return, max_return, num=30)"
   ]
  },
  {
   "cell_type": "code",
   "execution_count": 24,
   "metadata": {},
   "outputs": [],
   "source": [
    "# Create variables to store the lowest achievable variance for\n",
    "# every return, and the associated portfolios\n",
    "best_var_return = []\n",
    "portfolios = {}"
   ]
  },
  {
   "cell_type": "code",
   "execution_count": 25,
   "metadata": {},
   "outputs": [
    {
     "name": "stderr",
     "output_type": "stream",
     "text": [
      "100%|██████████| 30/30 [00:00<00:00, 80.05it/s]\n"
     ]
    }
   ],
   "source": [
    "from tqdm import tqdm\n",
    "\n",
    "# Go through each value of mean return\n",
    "for r in tqdm(mean_returns):\n",
    "    # Solve an optimization that minimizes variance, and insists on\n",
    "    # a minimum return of at least r    \n",
    "    opt_prob = optimize.minimize(fun = portfolio_var,\n",
    "                                 x0  = x0,\n",
    "                                 constraints = [equality_constraint,\n",
    "                                                optimize.LinearConstraint\n",
    "                                                            (A=[means], lb=r, ub=np.inf)],\n",
    "                                 bounds = bounds)\n",
    "    \n",
    "    # Ensure the optimization was successful\n",
    "    assert opt_prob.success\n",
    "    \n",
    "    # Save the resulting variance, and the portfolio\n",
    "    best_var_return.append(np.sqrt(opt_prob.fun)*100)\n",
    "    portfolios[np.sqrt(opt_prob.fun)*100] = opt_prob.x"
   ]
  },
  {
   "cell_type": "code",
   "execution_count": 26,
   "metadata": {},
   "outputs": [],
   "source": [
    "import matplotlib.pyplot as plt\n",
    "import seaborn as sns"
   ]
  },
  {
   "cell_type": "code",
   "execution_count": 27,
   "metadata": {},
   "outputs": [
    {
     "data": {
      "image/png": "[encoded data removed]",
      "text/plain": [
       "<Figure size 576x360 with 1 Axes>"
      ]
     },
     "metadata": {
      "needs_background": "light"
     },
     "output_type": "display_data"
    }
   ],
   "source": [
    "plt.figure(figsize=(8, 5))\n",
    "\n",
    "plt.plot(best_var_return, mean_returns*100)\n",
    "\n",
    "plt.xlabel('Portfolio standard deviation (%)', fontsize=20)\n",
    "plt.ylabel('Portfolio return (%)', fontsize=20)\n",
    "\n",
    "plt.xticks(fontsize=20)\n",
    "plt.yticks(fontsize=20)\n",
    "\n",
    "sns.despine()"
   ]
  },
  {
   "cell_type": "code",
   "execution_count": 28,
   "metadata": {},
   "outputs": [
    {
     "data": {
      "image/png": "[encoded data removed]",
      "text/plain": [
       "<Figure size 720x504 with 1 Axes>"
      ]
     },
     "metadata": {
      "needs_background": "light"
     },
     "output_type": "display_data"
    }
   ],
   "source": [
    "fig, ax = plt.subplots(1, 1, figsize=(10, 7))\n",
    "\n",
    "pd.DataFrame(portfolios, index=tickers).transpose().plot.area(linewidth=0, ax=ax)\n",
    "\n",
    "plt.xlabel('Portfolio standard deviation (%)', fontsize=20)\n",
    "plt.ylabel('Proportion of Portfolio', fontsize=20)\n",
    "\n",
    "plt.xticks(fontsize=20)\n",
    "plt.yticks(fontsize=20)\n",
    "\n",
    "ax.margins(x=0, y=0)\n",
    "\n",
    "plt.ylim([0,1])\n",
    "\n",
    "sns.despine()"
   ]
  },
  {
   "cell_type": "markdown",
   "metadata": {},
   "source": [
    "# GammaSoft Revisited"
   ]
  },
  {
   "cell_type": "code",
   "execution_count": 29,
   "metadata": {},
   "outputs": [],
   "source": [
    "df_leads = pd.read_excel('/Users/gujiajun/Downloads/GammaSoft data (1).xlsx', sheet_name='Leads').set_index('LeadID')\n",
    "df_reps = pd.read_excel('/Users/gujiajun/Downloads/GammaSoft data (1).xlsx', sheet_name='Reps').set_index('RepID')\n",
    "df_interactions = pd.read_excel('/Users/gujiajun/Downloads/GammaSoft data (1).xlsx',\n",
    "                                  sheet_name='Past interactions',\n",
    "                                  skiprows=1).set_index('RepID')\n",
    "df_distances = pd.read_excel('/Users/gujiajun/Downloads/GammaSoft data (1).xlsx', sheet_name='Distances', skiprows=1).set_index('RepID')"
   ]
  },
  {
   "cell_type": "code",
   "execution_count": 30,
   "metadata": {},
   "outputs": [],
   "source": [
    "# Logistic regression coefficients\n",
    "const    = -3.07\n",
    "ext      = -0.18\n",
    "past_use = 0.05\n",
    "ser      = 0.42\n",
    "f2f      = 0.17\n",
    "\n",
    "# Calculate the revenues\n",
    "revenues = np.zeros((len(df_reps), len(df_leads)))\n",
    "\n",
    "for rep in df_reps.index:\n",
    "    for lead in df_leads.index:\n",
    "        w = ( const + ext*df_leads.loc[lead, 'EXT']\n",
    "                         + past_use*df_leads.loc[lead, 'PAST_USE']\n",
    "                         + ser*df_reps.loc[rep, 'SER']\n",
    "                         + f2f*df_interactions.loc[rep, lead] )\n",
    "        \n",
    "        prob = 1/(1+np.exp(-w))\n",
    "        \n",
    "        revenues[rep,lead] = prob * df_leads.loc[lead, 'Size'] * 50"
   ]
  },
  {
   "cell_type": "code",
   "execution_count": 31,
   "metadata": {},
   "outputs": [
    {
     "data": {
      "text/plain": [
       "322.39"
      ]
     },
     "execution_count": 31,
     "metadata": {},
     "output_type": "execute_result"
    }
   ],
   "source": [
    "# First, solve the problem with no distance constraints\n",
    "import pulp as pl\n",
    "\n",
    "m = pl.LpProblem('XGen', pl.LpMaximize)\n",
    "x = np.array([[pl.LpVariable(f'x_{i}_{j}', cat='Binary')\n",
    "                       for j in df_leads.index] for i in df_reps.index])\n",
    "\n",
    "for j in df_leads.index:\n",
    "    m += (pl.lpSum(x[:, j]) <= 1, f'lead_{j}_constraint')\n",
    "    \n",
    "for i in df_reps.index:\n",
    "    m += (pl.lpSum(x[i, :]) <= df_reps.loc[i, 'Capacity'], f'rep_{i}_constraint')\n",
    "\n",
    "m += pl.lpSum(revenues*x)\n",
    "pl.PULP_CBC_CMD().solve(m)\n",
    "\n",
    "# Find the maximum disance needed (for maximum revenue)\n",
    "max_distance = (np.array([[i.value() for i in j] for j in x]) * df_distances.to_numpy()).sum()\n",
    "max_distance"
   ]
  },
  {
   "cell_type": "code",
   "execution_count": 32,
   "metadata": {},
   "outputs": [],
   "source": [
    "# Add a distance constraint to the LP; start with the largest distance\n",
    "m += pl.lpSum(df_distances.to_numpy()*x) <= max_distance, 'distance_constraint'"
   ]
  },
  {
   "cell_type": "code",
   "execution_count": 33,
   "metadata": {},
   "outputs": [
    {
     "name": "stderr",
     "output_type": "stream",
     "text": [
      "100%|██████████| 30/30 [00:01<00:00, 17.01it/s]\n"
     ]
    }
   ],
   "source": [
    "# Build the efficient frontier\n",
    "\n",
    "distances = np.linspace(0, max_distance, num=30)\n",
    "opt_revenue = []\n",
    "\n",
    "for d in tqdm(distances):\n",
    "    m.constraints['distance_constraint'] = (pl.lpSum(df_distances.to_numpy()*x) <= d)\n",
    "    pl.PULP_CBC_CMD().solve(m)\n",
    "    opt_revenue.append(m.objective.value())"
   ]
  },
  {
   "cell_type": "code",
   "execution_count": 34,
   "metadata": {},
   "outputs": [
    {
     "data": {
      "image/png": "[encoded data removed]",
      "text/plain": [
       "<Figure size 576x360 with 1 Axes>"
      ]
     },
     "metadata": {
      "needs_background": "light"
     },
     "output_type": "display_data"
    }
   ],
   "source": [
    "plt.figure(figsize=(8, 5))\n",
    "\n",
    "plt.plot(distances, opt_revenue)\n",
    "\n",
    "plt.xlabel('Distance Travelled', fontsize=20)\n",
    "plt.ylabel('Maximum Revenue', fontsize=20)\n",
    "\n",
    "plt.xticks(fontsize=20)\n",
    "plt.yticks(fontsize=20)\n",
    "\n",
    "sns.despine()"
   ]
  },
  {
   "cell_type": "markdown",
   "metadata": {},
   "source": [
    "# Side note: visualizing distances"
   ]
  },
  {
   "cell_type": "code",
   "execution_count": 35,
   "metadata": {},
   "outputs": [],
   "source": [
    "def unpack_dv(dv):\n",
    "    X_rep  = dv[:len(df_reps)]\n",
    "    Y_rep  = dv[len(df_reps):(2*len(df_reps))]\n",
    "    X_lead = dv[(2*len(df_reps)):(2*len(df_reps) + len(df_leads))]\n",
    "    Y_lead = dv[(2*len(df_reps) + len(df_leads)):(2*len(df_reps) + 2*len(df_leads))]\n",
    "    \n",
    "    return (X_rep, Y_rep, X_lead, Y_lead)"
   ]
  },
  {
   "cell_type": "code",
   "execution_count": 36,
   "metadata": {},
   "outputs": [],
   "source": [
    "def obj(dv):\n",
    "    X_rep, Y_rep, X_lead, Y_lead = unpack_dv(dv)\n",
    "    \n",
    "    obj = 0\n",
    "    \n",
    "    for lead in df_leads.index:\n",
    "        for rep in df_reps.index:\n",
    "            true_dist_squared = df_distances.loc[rep, lead]**2\n",
    "            var_dist_squared = (X_rep[rep] - X_lead[lead])**2 + (Y_rep[rep] - Y_lead[lead])**2\n",
    "            \n",
    "            obj += (true_dist_squared - var_dist_squared)**2\n",
    "    \n",
    "    return obj"
   ]
  },
  {
   "cell_type": "code",
   "execution_count": 37,
   "metadata": {},
   "outputs": [
    {
     "data": {
      "text/plain": [
       "1.2471266127827574"
      ]
     },
     "execution_count": 37,
     "metadata": {},
     "output_type": "execute_result"
    }
   ],
   "source": [
    "np.random.seed(123)\n",
    "opt_prob = optimize.minimize(fun = obj,\n",
    "                             x0  = np.random.uniform(low=0, high=50, size=50))\n",
    "opt_prob.fun"
   ]
  },
  {
   "cell_type": "code",
   "execution_count": 38,
   "metadata": {},
   "outputs": [],
   "source": [
    "# Extract and plot the final locations\n",
    "X_rep, Y_rep, X_lead, Y_lead = unpack_dv(opt_prob.x)"
   ]
  },
  {
   "cell_type": "code",
   "execution_count": 39,
   "metadata": {},
   "outputs": [
    {
     "data": {
      "text/plain": [
       "([], <a list of 0 Text major ticklabel objects>)"
      ]
     },
     "execution_count": 39,
     "metadata": {},
     "output_type": "execute_result"
    },
    {
     "data": {
      "image/png": "[encoded data removed]",
      "text/plain": [
       "<Figure size 576x576 with 1 Axes>"
      ]
     },
     "metadata": {},
     "output_type": "display_data"
    }
   ],
   "source": [
    "plt.figure(figsize=(8, 8))\n",
    "\n",
    "plt.plot(X_rep, Y_rep, linewidth=0, marker='o', color='red', markersize=10, label='Reps')\n",
    "plt.plot(X_lead, Y_lead, linewidth=0, marker='x', label='Leads')\n",
    "\n",
    "plt.legend(fontsize=20)\n",
    "\n",
    "plt.xticks([])\n",
    "plt.yticks([])"
   ]
  }
 ],
 "metadata": {
  "kernelspec": {
   "display_name": "Python 3",
   "language": "python",
   "name": "python3"
  },
  "language_info": {
   "codemirror_mode": {
    "name": "ipython",
    "version": 3
   },
   "file_extension": ".py",
   "mimetype": "text/x-python",
   "name": "python",
   "nbconvert_exporter": "python",
   "pygments_lexer": "ipython3",
   "version": "3.8.5"
  }
 },
 "nbformat": 4,
 "nbformat_minor": 4
}
