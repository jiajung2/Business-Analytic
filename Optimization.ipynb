{
 "cells": [
  {
   "cell_type": "markdown",
   "metadata": {},
   "source": [
    "# Business Analytics\n",
    "## Optimization Analytics: Pharmaceutical Detailing\n",
    "(C) 2021"
   ]
  },
  {
   "cell_type": "code",
   "execution_count": 1,
   "metadata": {},
   "outputs": [
    {
     "data": {
      "text/html": [
       "<img src onerror=\"var cell = this.closest('.code_cell');var editor = cell.querySelector('.input_area');editor.style.background='#bde4f0';this.parentNode.removeChild(this)\">"
      ],
      "text/plain": [
       "<IPython.core.display.HTML object>"
      ]
     },
     "metadata": {},
     "output_type": "display_data"
    },
    {
     "data": {
      "text/html": [
       "<style>.container { width:900px !important; }</style>"
      ],
      "text/plain": [
       "<IPython.core.display.HTML object>"
      ]
     },
     "metadata": {},
     "output_type": "display_data"
    }
   ],
   "source": [
    "from IPython.display import HTML, display\n",
    "\n",
    "def optional_material():\n",
    "    '''\n",
    "    When run in a cell, this function will color the cell blue to indicate\n",
    "    the material is optional\n",
    "    '''\n",
    "    script =  \"var cell = this.closest('.code_cell');\"\n",
    "    script += \"var editor = cell.querySelector('.input_area');\"\n",
    "    script += \"editor.style.background='#bde4f0';\"\n",
    "    script += \"this.parentNode.removeChild(this)\"\n",
    "    \n",
    "    display(HTML(f'<img src onerror=\"{script}\">'))\n",
    "    \n",
    "optional_material()\n",
    "\n",
    "from IPython.core.display import display, HTML\n",
    "display(HTML(\"<style>.container { width:900px !important; }</style>\"))"
   ]
  },
  {
   "cell_type": "code",
   "execution_count": 2,
   "metadata": {},
   "outputs": [],
   "source": [
    "currency_format = lambda x : '${:,.2f}'.format(x)"
   ]
  },
  {
   "cell_type": "markdown",
   "metadata": {},
   "source": [
    "# GammaSoft"
   ]
  },
  {
   "cell_type": "code",
   "execution_count": 3,
   "metadata": {},
   "outputs": [],
   "source": [
    "import pandas as pd\n",
    "\n",
    "df_leads = pd.read_excel('/Users/gujiajun/Downloads/GammaSoft data.xlsx', sheet_name='Leads').set_index('LeadID')\n",
    "df_reps = pd.read_excel('/Users/gujiajun/Downloads/GammaSoft data.xlsx', sheet_name='Reps').set_index('RepID')\n",
    "df_interactions = pd.read_excel('/Users/gujiajun/Downloads/GammaSoft data.xlsx',\n",
    "                                  sheet_name='Past interactions',\n",
    "                                  skiprows=1).set_index('RepID')"
   ]
  },
  {
   "cell_type": "code",
   "execution_count": 4,
   "metadata": {},
   "outputs": [
    {
     "data": {
      "text/html": [
       "<div>\n",
       "<style scoped>\n",
       "    .dataframe tbody tr th:only-of-type {\n",
       "        vertical-align: middle;\n",
       "    }\n",
       "\n",
       "    .dataframe tbody tr th {\n",
       "        vertical-align: top;\n",
       "    }\n",
       "\n",
       "    .dataframe thead th {\n",
       "        text-align: right;\n",
       "    }\n",
       "</style>\n",
       "<table border=\"1\" class=\"dataframe\">\n",
       "  <thead>\n",
       "    <tr style=\"text-align: right;\">\n",
       "      <th></th>\n",
       "      <th>EXT</th>\n",
       "      <th>PAST_USE</th>\n",
       "      <th>Size</th>\n",
       "    </tr>\n",
       "    <tr>\n",
       "      <th>LeadID</th>\n",
       "      <th></th>\n",
       "      <th></th>\n",
       "      <th></th>\n",
       "    </tr>\n",
       "  </thead>\n",
       "  <tbody>\n",
       "    <tr>\n",
       "      <th>0</th>\n",
       "      <td>1</td>\n",
       "      <td>0.122</td>\n",
       "      <td>1966</td>\n",
       "    </tr>\n",
       "    <tr>\n",
       "      <th>1</th>\n",
       "      <td>1</td>\n",
       "      <td>0.381</td>\n",
       "      <td>3012</td>\n",
       "    </tr>\n",
       "  </tbody>\n",
       "</table>\n",
       "</div>"
      ],
      "text/plain": [
       "        EXT  PAST_USE  Size\n",
       "LeadID                     \n",
       "0         1     0.122  1966\n",
       "1         1     0.381  3012"
      ]
     },
     "execution_count": 4,
     "metadata": {},
     "output_type": "execute_result"
    }
   ],
   "source": [
    "df_leads.head(2)"
   ]
  },
  {
   "cell_type": "code",
   "execution_count": 5,
   "metadata": {},
   "outputs": [
    {
     "data": {
      "text/html": [
       "<div>\n",
       "<style scoped>\n",
       "    .dataframe tbody tr th:only-of-type {\n",
       "        vertical-align: middle;\n",
       "    }\n",
       "\n",
       "    .dataframe tbody tr th {\n",
       "        vertical-align: top;\n",
       "    }\n",
       "\n",
       "    .dataframe thead th {\n",
       "        text-align: right;\n",
       "    }\n",
       "</style>\n",
       "<table border=\"1\" class=\"dataframe\">\n",
       "  <thead>\n",
       "    <tr style=\"text-align: right;\">\n",
       "      <th></th>\n",
       "      <th>SER</th>\n",
       "      <th>Capacity</th>\n",
       "    </tr>\n",
       "    <tr>\n",
       "      <th>RepID</th>\n",
       "      <th></th>\n",
       "      <th></th>\n",
       "    </tr>\n",
       "  </thead>\n",
       "  <tbody>\n",
       "    <tr>\n",
       "      <th>0</th>\n",
       "      <td>1.35</td>\n",
       "      <td>2</td>\n",
       "    </tr>\n",
       "    <tr>\n",
       "      <th>1</th>\n",
       "      <td>1.20</td>\n",
       "      <td>2</td>\n",
       "    </tr>\n",
       "  </tbody>\n",
       "</table>\n",
       "</div>"
      ],
      "text/plain": [
       "        SER  Capacity\n",
       "RepID                \n",
       "0      1.35         2\n",
       "1      1.20         2"
      ]
     },
     "execution_count": 5,
     "metadata": {},
     "output_type": "execute_result"
    }
   ],
   "source": [
    "df_reps.head(2)"
   ]
  },
  {
   "cell_type": "code",
   "execution_count": 6,
   "metadata": {},
   "outputs": [
    {
     "data": {
      "text/html": [
       "<div>\n",
       "<style scoped>\n",
       "    .dataframe tbody tr th:only-of-type {\n",
       "        vertical-align: middle;\n",
       "    }\n",
       "\n",
       "    .dataframe tbody tr th {\n",
       "        vertical-align: top;\n",
       "    }\n",
       "\n",
       "    .dataframe thead th {\n",
       "        text-align: right;\n",
       "    }\n",
       "</style>\n",
       "<table border=\"1\" class=\"dataframe\">\n",
       "  <thead>\n",
       "    <tr style=\"text-align: right;\">\n",
       "      <th></th>\n",
       "      <th>0</th>\n",
       "      <th>1</th>\n",
       "      <th>2</th>\n",
       "      <th>3</th>\n",
       "      <th>4</th>\n",
       "      <th>5</th>\n",
       "      <th>6</th>\n",
       "      <th>7</th>\n",
       "      <th>8</th>\n",
       "      <th>9</th>\n",
       "      <th>10</th>\n",
       "      <th>11</th>\n",
       "      <th>12</th>\n",
       "      <th>13</th>\n",
       "      <th>14</th>\n",
       "      <th>15</th>\n",
       "      <th>16</th>\n",
       "      <th>17</th>\n",
       "      <th>18</th>\n",
       "      <th>19</th>\n",
       "    </tr>\n",
       "    <tr>\n",
       "      <th>RepID</th>\n",
       "      <th></th>\n",
       "      <th></th>\n",
       "      <th></th>\n",
       "      <th></th>\n",
       "      <th></th>\n",
       "      <th></th>\n",
       "      <th></th>\n",
       "      <th></th>\n",
       "      <th></th>\n",
       "      <th></th>\n",
       "      <th></th>\n",
       "      <th></th>\n",
       "      <th></th>\n",
       "      <th></th>\n",
       "      <th></th>\n",
       "      <th></th>\n",
       "      <th></th>\n",
       "      <th></th>\n",
       "      <th></th>\n",
       "      <th></th>\n",
       "    </tr>\n",
       "  </thead>\n",
       "  <tbody>\n",
       "    <tr>\n",
       "      <th>0</th>\n",
       "      <td>0</td>\n",
       "      <td>0</td>\n",
       "      <td>0</td>\n",
       "      <td>1</td>\n",
       "      <td>0</td>\n",
       "      <td>0</td>\n",
       "      <td>0</td>\n",
       "      <td>0</td>\n",
       "      <td>0</td>\n",
       "      <td>0</td>\n",
       "      <td>0</td>\n",
       "      <td>1</td>\n",
       "      <td>0</td>\n",
       "      <td>0</td>\n",
       "      <td>0</td>\n",
       "      <td>1</td>\n",
       "      <td>0</td>\n",
       "      <td>1</td>\n",
       "      <td>0</td>\n",
       "      <td>0</td>\n",
       "    </tr>\n",
       "    <tr>\n",
       "      <th>1</th>\n",
       "      <td>1</td>\n",
       "      <td>0</td>\n",
       "      <td>0</td>\n",
       "      <td>1</td>\n",
       "      <td>0</td>\n",
       "      <td>1</td>\n",
       "      <td>0</td>\n",
       "      <td>0</td>\n",
       "      <td>0</td>\n",
       "      <td>0</td>\n",
       "      <td>1</td>\n",
       "      <td>0</td>\n",
       "      <td>1</td>\n",
       "      <td>1</td>\n",
       "      <td>0</td>\n",
       "      <td>1</td>\n",
       "      <td>1</td>\n",
       "      <td>0</td>\n",
       "      <td>0</td>\n",
       "      <td>0</td>\n",
       "    </tr>\n",
       "  </tbody>\n",
       "</table>\n",
       "</div>"
      ],
      "text/plain": [
       "       0   1   2   3   4   5   6   7   8   9   10  11  12  13  14  15  16  17  \\\n",
       "RepID                                                                           \n",
       "0       0   0   0   1   0   0   0   0   0   0   0   1   0   0   0   1   0   1   \n",
       "1       1   0   0   1   0   1   0   0   0   0   1   0   1   1   0   1   1   0   \n",
       "\n",
       "       18  19  \n",
       "RepID          \n",
       "0       0   0  \n",
       "1       0   0  "
      ]
     },
     "execution_count": 6,
     "metadata": {},
     "output_type": "execute_result"
    }
   ],
   "source": [
    "df_interactions.head(2)"
   ]
  },
  {
   "cell_type": "code",
   "execution_count": 7,
   "metadata": {},
   "outputs": [],
   "source": [
    "# Logistic regression coefficients\n",
    "const    = -3.07\n",
    "ext      = -0.18\n",
    "past_use = 0.05\n",
    "ser      = 0.42\n",
    "f2f      = 0.17"
   ]
  },
  {
   "cell_type": "code",
   "execution_count": 8,
   "metadata": {},
   "outputs": [],
   "source": [
    "import numpy as np\n",
    "\n",
    "revenues = np.zeros((len(df_reps), len(df_leads)))\n",
    "\n",
    "for rep in df_reps.index:\n",
    "    for lead in df_leads.index:\n",
    "        w = ( const + ext*df_leads.loc[lead, 'EXT']\n",
    "                         + past_use*df_leads.loc[lead, 'PAST_USE']\n",
    "                         + ser*df_reps.loc[rep, 'SER']\n",
    "                         + f2f*df_interactions.loc[rep, lead] )\n",
    "        \n",
    "        prob = 1/(1+np.exp(-w))\n",
    "        \n",
    "        revenues[rep,lead] = prob * df_leads.loc[lead, 'Size'] * 50"
   ]
  },
  {
   "cell_type": "code",
   "execution_count": 9,
   "metadata": {},
   "outputs": [
    {
     "data": {
      "text/html": [
       "<div>\n",
       "<style scoped>\n",
       "    .dataframe tbody tr th:only-of-type {\n",
       "        vertical-align: middle;\n",
       "    }\n",
       "\n",
       "    .dataframe tbody tr th {\n",
       "        vertical-align: top;\n",
       "    }\n",
       "\n",
       "    .dataframe thead th {\n",
       "        text-align: right;\n",
       "    }\n",
       "</style>\n",
       "<table border=\"1\" class=\"dataframe\">\n",
       "  <thead>\n",
       "    <tr style=\"text-align: right;\">\n",
       "      <th></th>\n",
       "      <th>0</th>\n",
       "      <th>1</th>\n",
       "      <th>2</th>\n",
       "      <th>3</th>\n",
       "      <th>4</th>\n",
       "      <th>5</th>\n",
       "      <th>6</th>\n",
       "      <th>7</th>\n",
       "      <th>8</th>\n",
       "      <th>9</th>\n",
       "      <th>10</th>\n",
       "      <th>11</th>\n",
       "      <th>12</th>\n",
       "      <th>13</th>\n",
       "      <th>14</th>\n",
       "      <th>15</th>\n",
       "      <th>16</th>\n",
       "      <th>17</th>\n",
       "      <th>18</th>\n",
       "      <th>19</th>\n",
       "    </tr>\n",
       "  </thead>\n",
       "  <tbody>\n",
       "    <tr>\n",
       "      <th>0</th>\n",
       "      <td>6325.631875</td>\n",
       "      <td>9809.240165</td>\n",
       "      <td>7870.832189</td>\n",
       "      <td>10621.488401</td>\n",
       "      <td>6142.096221</td>\n",
       "      <td>8920.875384</td>\n",
       "      <td>8273.704431</td>\n",
       "      <td>12885.883880</td>\n",
       "      <td>3138.986939</td>\n",
       "      <td>5089.431617</td>\n",
       "      <td>7496.945924</td>\n",
       "      <td>9971.784242</td>\n",
       "      <td>6436.473227</td>\n",
       "      <td>8747.227190</td>\n",
       "      <td>5844.580466</td>\n",
       "      <td>7809.786464</td>\n",
       "      <td>2080.869436</td>\n",
       "      <td>8370.382916</td>\n",
       "      <td>9333.476195</td>\n",
       "      <td>3511.313881</td>\n",
       "    </tr>\n",
       "    <tr>\n",
       "      <th>1</th>\n",
       "      <td>6989.219292</td>\n",
       "      <td>9247.096628</td>\n",
       "      <td>7419.710431</td>\n",
       "      <td>10028.207830</td>\n",
       "      <td>5789.721754</td>\n",
       "      <td>9842.605011</td>\n",
       "      <td>7804.913089</td>\n",
       "      <td>12156.215755</td>\n",
       "      <td>2959.036481</td>\n",
       "      <td>4800.888641</td>\n",
       "      <td>8283.638347</td>\n",
       "      <td>8049.623176</td>\n",
       "      <td>7101.365877</td>\n",
       "      <td>9651.272321</td>\n",
       "      <td>5513.449289</td>\n",
       "      <td>7366.724351</td>\n",
       "      <td>2295.888023</td>\n",
       "      <td>6756.481162</td>\n",
       "      <td>8798.304738</td>\n",
       "      <td>3312.516159</td>\n",
       "    </tr>\n",
       "    <tr>\n",
       "      <th>2</th>\n",
       "      <td>5232.182266</td>\n",
       "      <td>8114.789096</td>\n",
       "      <td>6511.053966</td>\n",
       "      <td>7535.875807</td>\n",
       "      <td>5962.920116</td>\n",
       "      <td>8664.172123</td>\n",
       "      <td>6858.685177</td>\n",
       "      <td>10683.258320</td>\n",
       "      <td>3047.487398</td>\n",
       "      <td>4218.545143</td>\n",
       "      <td>6200.740513</td>\n",
       "      <td>7074.267103</td>\n",
       "      <td>5336.645987</td>\n",
       "      <td>8495.457672</td>\n",
       "      <td>5676.268881</td>\n",
       "      <td>5514.386903</td>\n",
       "      <td>2020.986975</td>\n",
       "      <td>5937.622104</td>\n",
       "      <td>7720.434311</td>\n",
       "      <td>3410.268530</td>\n",
       "    </tr>\n",
       "    <tr>\n",
       "      <th>3</th>\n",
       "      <td>5088.442162</td>\n",
       "      <td>7892.007452</td>\n",
       "      <td>7433.652881</td>\n",
       "      <td>7331.139474</td>\n",
       "      <td>4940.489746</td>\n",
       "      <td>7195.330629</td>\n",
       "      <td>7819.411397</td>\n",
       "      <td>12178.783010</td>\n",
       "      <td>2964.597994</td>\n",
       "      <td>4809.812095</td>\n",
       "      <td>6030.355795</td>\n",
       "      <td>8064.566636</td>\n",
       "      <td>5191.674623</td>\n",
       "      <td>7054.918682</td>\n",
       "      <td>4713.348309</td>\n",
       "      <td>5362.862285</td>\n",
       "      <td>1678.347785</td>\n",
       "      <td>5776.235893</td>\n",
       "      <td>7508.380185</td>\n",
       "      <td>3318.664654</td>\n",
       "    </tr>\n",
       "    <tr>\n",
       "      <th>4</th>\n",
       "      <td>6287.858438</td>\n",
       "      <td>8310.452410</td>\n",
       "      <td>7823.863773</td>\n",
       "      <td>9035.616099</td>\n",
       "      <td>5202.699344</td>\n",
       "      <td>7572.679031</td>\n",
       "      <td>8224.926726</td>\n",
       "      <td>10938.093371</td>\n",
       "      <td>2659.219784</td>\n",
       "      <td>4319.283543</td>\n",
       "      <td>6350.392009</td>\n",
       "      <td>8482.518635</td>\n",
       "      <td>5463.899650</td>\n",
       "      <td>7424.984429</td>\n",
       "      <td>5810.126432</td>\n",
       "      <td>5647.473267</td>\n",
       "      <td>1766.371709</td>\n",
       "      <td>6079.288578</td>\n",
       "      <td>7906.680540</td>\n",
       "      <td>2980.630816</td>\n",
       "    </tr>\n",
       "  </tbody>\n",
       "</table>\n",
       "</div>"
      ],
      "text/plain": [
       "            0            1            2             3            4   \\\n",
       "0  6325.631875  9809.240165  7870.832189  10621.488401  6142.096221   \n",
       "1  6989.219292  9247.096628  7419.710431  10028.207830  5789.721754   \n",
       "2  5232.182266  8114.789096  6511.053966   7535.875807  5962.920116   \n",
       "3  5088.442162  7892.007452  7433.652881   7331.139474  4940.489746   \n",
       "4  6287.858438  8310.452410  7823.863773   9035.616099  5202.699344   \n",
       "\n",
       "            5            6             7            8            9   \\\n",
       "0  8920.875384  8273.704431  12885.883880  3138.986939  5089.431617   \n",
       "1  9842.605011  7804.913089  12156.215755  2959.036481  4800.888641   \n",
       "2  8664.172123  6858.685177  10683.258320  3047.487398  4218.545143   \n",
       "3  7195.330629  7819.411397  12178.783010  2964.597994  4809.812095   \n",
       "4  7572.679031  8224.926726  10938.093371  2659.219784  4319.283543   \n",
       "\n",
       "            10           11           12           13           14  \\\n",
       "0  7496.945924  9971.784242  6436.473227  8747.227190  5844.580466   \n",
       "1  8283.638347  8049.623176  7101.365877  9651.272321  5513.449289   \n",
       "2  6200.740513  7074.267103  5336.645987  8495.457672  5676.268881   \n",
       "3  6030.355795  8064.566636  5191.674623  7054.918682  4713.348309   \n",
       "4  6350.392009  8482.518635  5463.899650  7424.984429  5810.126432   \n",
       "\n",
       "            15           16           17           18           19  \n",
       "0  7809.786464  2080.869436  8370.382916  9333.476195  3511.313881  \n",
       "1  7366.724351  2295.888023  6756.481162  8798.304738  3312.516159  \n",
       "2  5514.386903  2020.986975  5937.622104  7720.434311  3410.268530  \n",
       "3  5362.862285  1678.347785  5776.235893  7508.380185  3318.664654  \n",
       "4  5647.473267  1766.371709  6079.288578  7906.680540  2980.630816  "
      ]
     },
     "execution_count": 9,
     "metadata": {},
     "output_type": "execute_result"
    }
   ],
   "source": [
    "pd.DataFrame(revenues)"
   ]
  },
  {
   "cell_type": "markdown",
   "metadata": {},
   "source": [
    "## Heuristic 1; works the reps one by one"
   ]
  },
  {
   "cell_type": "code",
   "execution_count": 10,
   "metadata": {},
   "outputs": [],
   "source": [
    "allocation = np.zeros((len(df_reps), len(df_leads)))"
   ]
  },
  {
   "cell_type": "code",
   "execution_count": 11,
   "metadata": {},
   "outputs": [],
   "source": [
    "for rep in df_reps.index:\n",
    "    these_leads = [(lead, revenues[rep, lead]) for lead in df_leads.index]\n",
    "    these_leads = sorted(these_leads, key = lambda x : -x[1])\n",
    "    \n",
    "    for lead, _ in these_leads:\n",
    "        if ((allocation[:, lead].sum() < 1)\n",
    "                and (allocation[rep, :].sum() < df_reps.loc[rep, 'Capacity'])):\n",
    "            allocation[rep, lead] = 1"
   ]
  },
  {
   "cell_type": "code",
   "execution_count": 12,
   "metadata": {},
   "outputs": [
    {
     "data": {
      "text/plain": [
       "'$105,371.43'"
      ]
     },
     "execution_count": 12,
     "metadata": {},
     "output_type": "execute_result"
    }
   ],
   "source": [
    "heuristic_1 = (allocation*revenues).sum()\n",
    "currency_format(heuristic_1)"
   ]
  },
  {
   "cell_type": "markdown",
   "metadata": {},
   "source": [
    "## Heuristic 2; works the leads one by one"
   ]
  },
  {
   "cell_type": "code",
   "execution_count": 13,
   "metadata": {},
   "outputs": [],
   "source": [
    "allocation = np.zeros((len(df_reps), len(df_leads)))"
   ]
  },
  {
   "cell_type": "code",
   "execution_count": 14,
   "metadata": {},
   "outputs": [],
   "source": [
    "for lead in df_leads.index:\n",
    "    these_reps = [(rep, revenues[rep, lead]) for rep in df_reps.index]\n",
    "    these_reps = sorted(these_reps, key = lambda x : -x[1])\n",
    "    \n",
    "    for rep, _ in these_reps:\n",
    "        if ((allocation[:, lead].sum() < 1)\n",
    "                and (allocation[rep, :].sum() < df_reps.loc[rep, 'Capacity'])):\n",
    "            allocation[rep, lead] = 1"
   ]
  },
  {
   "cell_type": "code",
   "execution_count": 15,
   "metadata": {},
   "outputs": [
    {
     "data": {
      "text/plain": [
       "'$97,610.19'"
      ]
     },
     "execution_count": 15,
     "metadata": {},
     "output_type": "execute_result"
    }
   ],
   "source": [
    "heuristic_2 = (allocation*revenues).sum()\n",
    "currency_format(heuristic_2)"
   ]
  },
  {
   "cell_type": "markdown",
   "metadata": {},
   "source": [
    "## Heuristic 3; go with the highest combinations first"
   ]
  },
  {
   "cell_type": "code",
   "execution_count": 16,
   "metadata": {},
   "outputs": [],
   "source": [
    "allocation = np.zeros((len(df_reps), len(df_leads)))"
   ]
  },
  {
   "cell_type": "code",
   "execution_count": 17,
   "metadata": {},
   "outputs": [],
   "source": [
    "revenues_list = [(rep, lead, revenues[rep,lead])\n",
    "                         for rep in df_reps.index for lead in df_leads.index]\n",
    "revenues_list = sorted(revenues_list, key = lambda x : -x[2])"
   ]
  },
  {
   "cell_type": "code",
   "execution_count": 18,
   "metadata": {},
   "outputs": [],
   "source": [
    "for rep, lead, _ in revenues_list:\n",
    "    if ((allocation[:, lead].sum() < 1)\n",
    "            and (allocation[rep, :].sum() < df_reps.loc[rep, 'Capacity'])):\n",
    "        allocation[rep, lead] = 1"
   ]
  },
  {
   "cell_type": "code",
   "execution_count": 19,
   "metadata": {},
   "outputs": [
    {
     "data": {
      "text/plain": [
       "'$106,475.99'"
      ]
     },
     "execution_count": 19,
     "metadata": {},
     "output_type": "execute_result"
    }
   ],
   "source": [
    "heuristic_3 = (allocation*revenues).sum()\n",
    "currency_format(heuristic_3)"
   ]
  },
  {
   "cell_type": "markdown",
   "metadata": {},
   "source": [
    "# Linear Programming in Python"
   ]
  },
  {
   "cell_type": "code",
   "execution_count": 20,
   "metadata": {},
   "outputs": [
    {
     "name": "stdout",
     "output_type": "stream",
     "text": [
      "Requirement already satisfied: pulp in /opt/anaconda3/lib/python3.8/site-packages (2.7.0)\n",
      "\n",
      "\u001b[1m[\u001b[0m\u001b[34;49mnotice\u001b[0m\u001b[1;39;49m]\u001b[0m\u001b[39;49m A new release of pip is available: \u001b[0m\u001b[31;49m23.1.2\u001b[0m\u001b[39;49m -> \u001b[0m\u001b[32;49m23.2.1\u001b[0m\n",
      "\u001b[1m[\u001b[0m\u001b[34;49mnotice\u001b[0m\u001b[1;39;49m]\u001b[0m\u001b[39;49m To update, run: \u001b[0m\u001b[32;49mpip install --upgrade pip\u001b[0m\n",
      "Note: you may need to restart the kernel to use updated packages.\n"
     ]
    }
   ],
   "source": [
    "pip install pulp"
   ]
  },
  {
   "cell_type": "code",
   "execution_count": 21,
   "metadata": {},
   "outputs": [
    {
     "name": "stdout",
     "output_type": "stream",
     "text": [
      "Requirement already satisfied: pulp in /opt/anaconda3/lib/python3.8/site-packages (2.7.0)\n",
      "\n",
      "\u001b[1m[\u001b[0m\u001b[34;49mnotice\u001b[0m\u001b[1;39;49m]\u001b[0m\u001b[39;49m A new release of pip is available: \u001b[0m\u001b[31;49m23.1.2\u001b[0m\u001b[39;49m -> \u001b[0m\u001b[32;49m23.2.1\u001b[0m\n",
      "\u001b[1m[\u001b[0m\u001b[34;49mnotice\u001b[0m\u001b[1;39;49m]\u001b[0m\u001b[39;49m To update, run: \u001b[0m\u001b[32;49mpip install --upgrade pip\u001b[0m\n",
      "Note: you may need to restart the kernel to use updated packages.\n"
     ]
    }
   ],
   "source": [
    "pip install pulp --upgrade"
   ]
  },
  {
   "cell_type": "code",
   "execution_count": 37,
   "metadata": {},
   "outputs": [],
   "source": [
    "# Create the PuLP LP\n",
    "import pulp as pl\n",
    "\n",
    "# Create the PuLP LP\n",
    "\n",
    "m = pl.LpProblem('XGen', pl.LpMaximize)"
   ]
  },
  {
   "cell_type": "code",
   "execution_count": 25,
   "metadata": {},
   "outputs": [],
   "source": [
    "# Create the variables\n",
    "x = []\n",
    "\n",
    "for i in df_reps.index:\n",
    "    x.append([])\n",
    "    \n",
    "    for j in df_leads.index:\n",
    "        x[i].append( pl.LpVariable(f'x_{i}_{j}', cat='Binary') )\n",
    "\n",
    "x = np.array(x)"
   ]
  },
  {
   "cell_type": "code",
   "execution_count": 26,
   "metadata": {},
   "outputs": [],
   "source": [
    "# Create the constraints\n",
    "\n",
    "for j in df_leads.index:\n",
    "    m += (pl.lpSum(x[:, j]) <= 1, f'lead_{j}_constraint')\n",
    "    \n",
    "for i in df_reps.index:\n",
    "    m += (pl.lpSum(x[i, :]) <= df_reps.loc[i, 'Capacity'], f'rep_{i}_constraint')"
   ]
  },
  {
   "cell_type": "code",
   "execution_count": 27,
   "metadata": {},
   "outputs": [],
   "source": [
    "# Create the objective\n",
    "m += pl.lpSum(revenues*x)"
   ]
  },
  {
   "cell_type": "code",
   "execution_count": 28,
   "metadata": {},
   "outputs": [
    {
     "name": "stdout",
     "output_type": "stream",
     "text": [
      "Set parameter Username\n",
      "Academic license - for non-commercial use only - expires 2024-09-14\n",
      "No parameters matching '_test' found\n"
     ]
    },
    {
     "data": {
      "text/plain": [
       "['GUROBI', 'GUROBI_CMD', 'PULP_CBC_CMD']"
      ]
     },
     "execution_count": 28,
     "metadata": {},
     "output_type": "execute_result"
    }
   ],
   "source": [
    "pl.list_solvers(onlyAvailable=True)"
   ]
  },
  {
   "cell_type": "code",
   "execution_count": 29,
   "metadata": {},
   "outputs": [
    {
     "data": {
      "text/plain": [
       "1"
      ]
     },
     "execution_count": 29,
     "metadata": {},
     "output_type": "execute_result"
    }
   ],
   "source": [
    "pl.PULP_CBC_CMD().solve(m)"
   ]
  },
  {
   "cell_type": "markdown",
   "metadata": {},
   "source": [
    "### Extracting the solution"
   ]
  },
  {
   "cell_type": "code",
   "execution_count": 30,
   "metadata": {},
   "outputs": [
    {
     "data": {
      "text/plain": [
       "'$110,034.97'"
      ]
     },
     "execution_count": 30,
     "metadata": {},
     "output_type": "execute_result"
    }
   ],
   "source": [
    "optimal_soln = m.objective.value()\n",
    "currency_format(optimal_soln)"
   ]
  },
  {
   "cell_type": "code",
   "execution_count": 31,
   "metadata": {},
   "outputs": [
    {
     "name": "stdout",
     "output_type": "stream",
     "text": [
      "Representative 0:\n",
      "  - Lead 3\n",
      "  - Lead 17\n",
      "\n",
      "Representative 1:\n",
      "  - Lead 10\n",
      "  - Lead 15\n",
      "\n",
      "Representative 2:\n",
      "  - Lead 5\n",
      "  - Lead 13\n",
      "  - Lead 18\n",
      "\n",
      "Representative 3:\n",
      "  - Lead 2\n",
      "  - Lead 6\n",
      "  - Lead 7\n",
      "\n",
      "Representative 4:\n",
      "  - Lead 0\n",
      "  - Lead 1\n",
      "  - Lead 11\n",
      "\n"
     ]
    }
   ],
   "source": [
    "for i in df_reps.index:\n",
    "    print(f'Representative {i}:')\n",
    "    \n",
    "    for j in df_leads.index:\n",
    "        if x[i,j].value() == 1:\n",
    "            print(f'  - Lead {j}')\n",
    "    \n",
    "    print('')"
   ]
  },
  {
   "cell_type": "markdown",
   "metadata": {},
   "source": [
    "### Unsuccessful LPs"
   ]
  },
  {
   "cell_type": "code",
   "execution_count": 32,
   "metadata": {},
   "outputs": [
    {
     "data": {
      "text/plain": [
       "-2"
      ]
     },
     "execution_count": 32,
     "metadata": {},
     "output_type": "execute_result"
    }
   ],
   "source": [
    "m = pl.LpProblem('unbounded', pl.LpMaximize)\n",
    "x1 = pl.LpVariable('x1', cat='Continuous')\n",
    "m += x1\n",
    "pl.PULP_CBC_CMD().solve(m)"
   ]
  },
  {
   "cell_type": "code",
   "execution_count": 33,
   "metadata": {},
   "outputs": [
    {
     "data": {
      "text/plain": [
       "-1"
      ]
     },
     "execution_count": 33,
     "metadata": {},
     "output_type": "execute_result"
    }
   ],
   "source": [
    "m = pl.LpProblem('infeasible', pl.LpMaximize)\n",
    "x2 = pl.LpVariable('x2', cat='Continuous')\n",
    "m += (x2 >= 5)\n",
    "m += (x2 <= 4)\n",
    "m += x2\n",
    "pl.PULP_CBC_CMD().solve(m)"
   ]
  },
  {
   "cell_type": "markdown",
   "metadata": {},
   "source": [
    "# Managerial insights"
   ]
  },
  {
   "cell_type": "code",
   "execution_count": 34,
   "metadata": {},
   "outputs": [
    {
     "data": {
      "text/plain": [
       "1"
      ]
     },
     "execution_count": 34,
     "metadata": {},
     "output_type": "execute_result"
    }
   ],
   "source": [
    "# Create the basic LP again\n",
    "\n",
    "m = pl.LpProblem('XGen', pl.LpMaximize)\n",
    "x = np.array([[pl.LpVariable(f'x_{i}_{j}', cat='Binary')\n",
    "                       for j in df_leads.index] for i in df_reps.index])\n",
    "\n",
    "for j in df_leads.index:\n",
    "    m += (pl.lpSum(x[:, j]) <= 1, f'lead_{j}_constraint')\n",
    "    \n",
    "for i in df_reps.index:\n",
    "    m += (pl.lpSum(x[i, :]) <= df_reps.loc[i, 'Capacity'], f'rep_{i}_constraint')\n",
    "\n",
    "m += pl.lpSum(revenues*x)\n",
    "pl.PULP_CBC_CMD().solve(m)"
   ]
  },
  {
   "cell_type": "code",
   "execution_count": 35,
   "metadata": {},
   "outputs": [],
   "source": [
    "# Alter rep 1's capacity from 1 to 12, and re-solve the LP\n",
    "# in each case\n",
    "opt_revenues = []\n",
    "\n",
    "extra_capacity_cost = 5000\n",
    "\n",
    "for rep_1_cap in range(2, 13):\n",
    "    m.constraints['rep_1_constraint'] = (pl.lpSum(x[1, :]) <= rep_1_cap)\n",
    "    pl.PULP_CBC_CMD().solve(m)\n",
    "    opt_revenues.append(m.objective.value() - extra_capacity_cost*(rep_1_cap - 2))"
   ]
  },
  {
   "cell_type": "code",
   "execution_count": 36,
   "metadata": {},
   "outputs": [
    {
     "data": {
      "image/png": "[encoded data removed]",
      "text/plain": [
       "<Figure size 864x576 with 1 Axes>"
      ]
     },
     "metadata": {
      "needs_background": "light"
     },
     "output_type": "display_data"
    }
   ],
   "source": [
    "import matplotlib.pyplot as plt\n",
    "import seaborn as sns\n",
    "\n",
    "plt.figure(figsize=(12, 8))\n",
    "\n",
    "plt.plot(range(2, 13), opt_revenues, linewidth=0, marker='x', markersize=10)\n",
    "\n",
    "plt.xticks(fontsize=20)\n",
    "plt.yticks(fontsize=20)\n",
    "\n",
    "plt.xlabel('# of leads rep 1 can visit', fontsize=20)\n",
    "plt.ylabel('Optimal revenue', fontsize=20)\n",
    "\n",
    "sns.despine()"
   ]
  }
 ],
 "metadata": {
  "kernelspec": {
   "display_name": "Python 3",
   "language": "python",
   "name": "python3"
  },
  "language_info": {
   "codemirror_mode": {
    "name": "ipython",
    "version": 3
   },
   "file_extension": ".py",
   "mimetype": "text/x-python",
   "name": "python",
   "nbconvert_exporter": "python",
   "pygments_lexer": "ipython3",
   "version": "3.8.5"
  }
 },
 "nbformat": 4,
 "nbformat_minor": 4
}
