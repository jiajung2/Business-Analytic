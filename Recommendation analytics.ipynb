{
 "cells": [
  {
   "cell_type": "markdown",
   "metadata": {},
   "source": [
    "# Business Analytics\n",
    "## Recommendation Analytics & k-NN\n",
    "(C) 2021"
   ]
  },
  {
   "cell_type": "code",
   "execution_count": 1,
   "metadata": {},
   "outputs": [
    {
     "data": {
      "text/html": [
       "<img src onerror=\"var cell = this.closest('.code_cell');var editor = cell.querySelector('.input_area');editor.style.background='#bde4f0';this.parentNode.removeChild(this)\">"
      ],
      "text/plain": [
       "<IPython.core.display.HTML object>"
      ]
     },
     "metadata": {},
     "output_type": "display_data"
    },
    {
     "data": {
      "text/html": [
       "<style>.container { width:900px !important; }</style>"
      ],
      "text/plain": [
       "<IPython.core.display.HTML object>"
      ]
     },
     "metadata": {},
     "output_type": "display_data"
    }
   ],
   "source": [
    "from IPython.display import HTML, display\n",
    "\n",
    "def optional_material():\n",
    "    '''\n",
    "    When run in a cell, this function will color the cell blue to indicate\n",
    "    the material is optional\n",
    "    '''\n",
    "    script =  \"var cell = this.closest('.code_cell');\"\n",
    "    script += \"var editor = cell.querySelector('.input_area');\"\n",
    "    script += \"editor.style.background='#bde4f0';\"\n",
    "    script += \"this.parentNode.removeChild(this)\"\n",
    "    \n",
    "    display(HTML(f'<img src onerror=\"{script}\">'))\n",
    "    \n",
    "optional_material()\n",
    "\n",
    "from IPython.core.display import display, HTML\n",
    "display(HTML(\"<style>.container { width:900px !important; }</style>\"))"
   ]
  },
  {
   "cell_type": "markdown",
   "metadata": {},
   "source": [
    "# Calculating CLV in B2B Businesses"
   ]
  },
  {
   "cell_type": "markdown",
   "metadata": {},
   "source": [
    "### Load the data"
   ]
  },
  {
   "cell_type": "code",
   "execution_count": 2,
   "metadata": {},
   "outputs": [],
   "source": [
    "import pandas as pd"
   ]
  },
  {
   "cell_type": "code",
   "execution_count": 3,
   "metadata": {},
   "outputs": [
    {
     "data": {
      "text/html": [
       "<div>\n",
       "<style scoped>\n",
       "    .dataframe tbody tr th:only-of-type {\n",
       "        vertical-align: middle;\n",
       "    }\n",
       "\n",
       "    .dataframe tbody tr th {\n",
       "        vertical-align: top;\n",
       "    }\n",
       "\n",
       "    .dataframe thead th {\n",
       "        text-align: right;\n",
       "    }\n",
       "</style>\n",
       "<table border=\"1\" class=\"dataframe\">\n",
       "  <thead>\n",
       "    <tr style=\"text-align: right;\">\n",
       "      <th></th>\n",
       "      <th>Dept 1</th>\n",
       "      <th>Dept 2</th>\n",
       "      <th>Dept 3</th>\n",
       "      <th>Dept 4</th>\n",
       "      <th>Dept 5</th>\n",
       "      <th>ltv</th>\n",
       "    </tr>\n",
       "  </thead>\n",
       "  <tbody>\n",
       "    <tr>\n",
       "      <th>0</th>\n",
       "      <td>52</td>\n",
       "      <td>17</td>\n",
       "      <td>45</td>\n",
       "      <td>22</td>\n",
       "      <td>53</td>\n",
       "      <td>5989</td>\n",
       "    </tr>\n",
       "    <tr>\n",
       "      <th>1</th>\n",
       "      <td>89</td>\n",
       "      <td>74</td>\n",
       "      <td>0</td>\n",
       "      <td>35</td>\n",
       "      <td>83</td>\n",
       "      <td>6960</td>\n",
       "    </tr>\n",
       "    <tr>\n",
       "      <th>2</th>\n",
       "      <td>94</td>\n",
       "      <td>71</td>\n",
       "      <td>39</td>\n",
       "      <td>87</td>\n",
       "      <td>83</td>\n",
       "      <td>7783</td>\n",
       "    </tr>\n",
       "    <tr>\n",
       "      <th>3</th>\n",
       "      <td>78</td>\n",
       "      <td>29</td>\n",
       "      <td>19</td>\n",
       "      <td>37</td>\n",
       "      <td>1</td>\n",
       "      <td>5405</td>\n",
       "    </tr>\n",
       "    <tr>\n",
       "      <th>4</th>\n",
       "      <td>5</td>\n",
       "      <td>81</td>\n",
       "      <td>35</td>\n",
       "      <td>77</td>\n",
       "      <td>25</td>\n",
       "      <td>6207</td>\n",
       "    </tr>\n",
       "  </tbody>\n",
       "</table>\n",
       "</div>"
      ],
      "text/plain": [
       "   Dept 1  Dept 2  Dept 3  Dept 4  Dept 5   ltv\n",
       "0      52      17      45      22      53  5989\n",
       "1      89      74       0      35      83  6960\n",
       "2      94      71      39      87      83  7783\n",
       "3      78      29      19      37       1  5405\n",
       "4       5      81      35      77      25  6207"
      ]
     },
     "execution_count": 3,
     "metadata": {},
     "output_type": "execute_result"
    }
   ],
   "source": [
    "# Load the B2B data\n",
    "df_customers = pd.read_csv('/Users/gujiajun/Downloads/B2B sales.csv')\n",
    "df_customers.head()"
   ]
  },
  {
   "cell_type": "code",
   "execution_count": 4,
   "metadata": {},
   "outputs": [
    {
     "data": {
      "text/plain": [
       "5000"
      ]
     },
     "execution_count": 4,
     "metadata": {},
     "output_type": "execute_result"
    }
   ],
   "source": [
    "len(df_customers)"
   ]
  },
  {
   "cell_type": "markdown",
   "metadata": {},
   "source": [
    "### Split into a training and test set"
   ]
  },
  {
   "cell_type": "code",
   "execution_count": 5,
   "metadata": {},
   "outputs": [],
   "source": [
    "import sklearn.model_selection as sk_ms"
   ]
  },
  {
   "cell_type": "code",
   "execution_count": 6,
   "metadata": {},
   "outputs": [],
   "source": [
    "df_train, df_test = sk_ms.train_test_split(df_customers,\n",
    "                                           train_size = 0.7,\n",
    "                                           random_state = 123,\n",
    "                                           shuffle = True)"
   ]
  },
  {
   "cell_type": "code",
   "execution_count": 7,
   "metadata": {},
   "outputs": [
    {
     "name": "stdout",
     "output_type": "stream",
     "text": [
      "3500\n",
      "1500\n"
     ]
    }
   ],
   "source": [
    "print(len(df_train))\n",
    "print(len(df_test))"
   ]
  },
  {
   "cell_type": "markdown",
   "metadata": {},
   "source": [
    "### Linear regression"
   ]
  },
  {
   "cell_type": "code",
   "execution_count": 8,
   "metadata": {},
   "outputs": [],
   "source": [
    "import sklearn.linear_model as sk_lm\n",
    "import sklearn.metrics as sk_m"
   ]
  },
  {
   "cell_type": "code",
   "execution_count": 9,
   "metadata": {},
   "outputs": [
    {
     "data": {
      "text/html": [
       "<style>#sk-container-id-1 {color: black;background-color: white;}#sk-container-id-1 pre{padding: 0;}#sk-container-id-1 div.sk-toggleable {background-color: white;}#sk-container-id-1 label.sk-toggleable__label {cursor: pointer;display: block;width: 100%;margin-bottom: 0;padding: 0.3em;box-sizing: border-box;text-align: center;}#sk-container-id-1 label.sk-toggleable__label-arrow:before {content: \"▸\";float: left;margin-right: 0.25em;color: #696969;}#sk-container-id-1 label.sk-toggleable__label-arrow:hover:before {color: black;}#sk-container-id-1 div.sk-estimator:hover label.sk-toggleable__label-arrow:before {color: black;}#sk-container-id-1 div.sk-toggleable__content {max-height: 0;max-width: 0;overflow: hidden;text-align: left;background-color: #f0f8ff;}#sk-container-id-1 div.sk-toggleable__content pre {margin: 0.2em;color: black;border-radius: 0.25em;background-color: #f0f8ff;}#sk-container-id-1 input.sk-toggleable__control:checked~div.sk-toggleable__content {max-height: 200px;max-width: 100%;overflow: auto;}#sk-container-id-1 input.sk-toggleable__control:checked~label.sk-toggleable__label-arrow:before {content: \"▾\";}#sk-container-id-1 div.sk-estimator input.sk-toggleable__control:checked~label.sk-toggleable__label {background-color: #d4ebff;}#sk-container-id-1 div.sk-label input.sk-toggleable__control:checked~label.sk-toggleable__label {background-color: #d4ebff;}#sk-container-id-1 input.sk-hidden--visually {border: 0;clip: rect(1px 1px 1px 1px);clip: rect(1px, 1px, 1px, 1px);height: 1px;margin: -1px;overflow: hidden;padding: 0;position: absolute;width: 1px;}#sk-container-id-1 div.sk-estimator {font-family: monospace;background-color: #f0f8ff;border: 1px dotted black;border-radius: 0.25em;box-sizing: border-box;margin-bottom: 0.5em;}#sk-container-id-1 div.sk-estimator:hover {background-color: #d4ebff;}#sk-container-id-1 div.sk-parallel-item::after {content: \"\";width: 100%;border-bottom: 1px solid gray;flex-grow: 1;}#sk-container-id-1 div.sk-label:hover label.sk-toggleable__label {background-color: #d4ebff;}#sk-container-id-1 div.sk-serial::before {content: \"\";position: absolute;border-left: 1px solid gray;box-sizing: border-box;top: 0;bottom: 0;left: 50%;z-index: 0;}#sk-container-id-1 div.sk-serial {display: flex;flex-direction: column;align-items: center;background-color: white;padding-right: 0.2em;padding-left: 0.2em;position: relative;}#sk-container-id-1 div.sk-item {position: relative;z-index: 1;}#sk-container-id-1 div.sk-parallel {display: flex;align-items: stretch;justify-content: center;background-color: white;position: relative;}#sk-container-id-1 div.sk-item::before, #sk-container-id-1 div.sk-parallel-item::before {content: \"\";position: absolute;border-left: 1px solid gray;box-sizing: border-box;top: 0;bottom: 0;left: 50%;z-index: -1;}#sk-container-id-1 div.sk-parallel-item {display: flex;flex-direction: column;z-index: 1;position: relative;background-color: white;}#sk-container-id-1 div.sk-parallel-item:first-child::after {align-self: flex-end;width: 50%;}#sk-container-id-1 div.sk-parallel-item:last-child::after {align-self: flex-start;width: 50%;}#sk-container-id-1 div.sk-parallel-item:only-child::after {width: 0;}#sk-container-id-1 div.sk-dashed-wrapped {border: 1px dashed gray;margin: 0 0.4em 0.5em 0.4em;box-sizing: border-box;padding-bottom: 0.4em;background-color: white;}#sk-container-id-1 div.sk-label label {font-family: monospace;font-weight: bold;display: inline-block;line-height: 1.2em;}#sk-container-id-1 div.sk-label-container {text-align: center;}#sk-container-id-1 div.sk-container {/* jupyter's `normalize.less` sets `[hidden] { display: none; }` but bootstrap.min.css set `[hidden] { display: none !important; }` so we also need the `!important` here to be able to override the default hidden behavior on the sphinx rendered scikit-learn.org. See: https://github.com/scikit-learn/scikit-learn/issues/21755 */display: inline-block !important;position: relative;}#sk-container-id-1 div.sk-text-repr-fallback {display: none;}</style><div id=\"sk-container-id-1\" class=\"sk-top-container\"><div class=\"sk-text-repr-fallback\"><pre>LinearRegression()</pre><b>In a Jupyter environment, please rerun this cell to show the HTML representation or trust the notebook. <br />On GitHub, the HTML representation is unable to render, please try loading this page with nbviewer.org.</b></div><div class=\"sk-container\" hidden><div class=\"sk-item\"><div class=\"sk-estimator sk-toggleable\"><input class=\"sk-toggleable__control sk-hidden--visually\" id=\"sk-estimator-id-1\" type=\"checkbox\" checked><label for=\"sk-estimator-id-1\" class=\"sk-toggleable__label sk-toggleable__label-arrow\">LinearRegression</label><div class=\"sk-toggleable__content\"><pre>LinearRegression()</pre></div></div></div></div></div>"
      ],
      "text/plain": [
       "LinearRegression()"
      ]
     },
     "execution_count": 9,
     "metadata": {},
     "output_type": "execute_result"
    }
   ],
   "source": [
    "# Fit a linear regression model on the training set\n",
    "lm = sk_lm.LinearRegression()\n",
    "lm.fit(df_train.loc[:, df_train.columns != 'ltv'], df_train.ltv)"
   ]
  },
  {
   "cell_type": "code",
   "execution_count": 10,
   "metadata": {},
   "outputs": [],
   "source": [
    "# Make predictions on the test set\n",
    "preds = lm.predict(df_test.loc[:, df_test.columns != 'ltv'])"
   ]
  },
  {
   "cell_type": "code",
   "execution_count": 11,
   "metadata": {},
   "outputs": [
    {
     "data": {
      "text/plain": [
       "0.0910480787721818"
      ]
     },
     "execution_count": 11,
     "metadata": {},
     "output_type": "execute_result"
    }
   ],
   "source": [
    "# Find the R-squared on the test set\n",
    "sk_m.r2_score(df_test.ltv, preds)"
   ]
  },
  {
   "cell_type": "markdown",
   "metadata": {},
   "source": [
    "### k-NN (no parameter)"
   ]
  },
  {
   "cell_type": "code",
   "execution_count": 12,
   "metadata": {},
   "outputs": [],
   "source": [
    "import sklearn.neighbors as sk_n"
   ]
  },
  {
   "cell_type": "code",
   "execution_count": 13,
   "metadata": {},
   "outputs": [
    {
     "data": {
      "text/html": [
       "<style>#sk-container-id-2 {color: black;background-color: white;}#sk-container-id-2 pre{padding: 0;}#sk-container-id-2 div.sk-toggleable {background-color: white;}#sk-container-id-2 label.sk-toggleable__label {cursor: pointer;display: block;width: 100%;margin-bottom: 0;padding: 0.3em;box-sizing: border-box;text-align: center;}#sk-container-id-2 label.sk-toggleable__label-arrow:before {content: \"▸\";float: left;margin-right: 0.25em;color: #696969;}#sk-container-id-2 label.sk-toggleable__label-arrow:hover:before {color: black;}#sk-container-id-2 div.sk-estimator:hover label.sk-toggleable__label-arrow:before {color: black;}#sk-container-id-2 div.sk-toggleable__content {max-height: 0;max-width: 0;overflow: hidden;text-align: left;background-color: #f0f8ff;}#sk-container-id-2 div.sk-toggleable__content pre {margin: 0.2em;color: black;border-radius: 0.25em;background-color: #f0f8ff;}#sk-container-id-2 input.sk-toggleable__control:checked~div.sk-toggleable__content {max-height: 200px;max-width: 100%;overflow: auto;}#sk-container-id-2 input.sk-toggleable__control:checked~label.sk-toggleable__label-arrow:before {content: \"▾\";}#sk-container-id-2 div.sk-estimator input.sk-toggleable__control:checked~label.sk-toggleable__label {background-color: #d4ebff;}#sk-container-id-2 div.sk-label input.sk-toggleable__control:checked~label.sk-toggleable__label {background-color: #d4ebff;}#sk-container-id-2 input.sk-hidden--visually {border: 0;clip: rect(1px 1px 1px 1px);clip: rect(1px, 1px, 1px, 1px);height: 1px;margin: -1px;overflow: hidden;padding: 0;position: absolute;width: 1px;}#sk-container-id-2 div.sk-estimator {font-family: monospace;background-color: #f0f8ff;border: 1px dotted black;border-radius: 0.25em;box-sizing: border-box;margin-bottom: 0.5em;}#sk-container-id-2 div.sk-estimator:hover {background-color: #d4ebff;}#sk-container-id-2 div.sk-parallel-item::after {content: \"\";width: 100%;border-bottom: 1px solid gray;flex-grow: 1;}#sk-container-id-2 div.sk-label:hover label.sk-toggleable__label {background-color: #d4ebff;}#sk-container-id-2 div.sk-serial::before {content: \"\";position: absolute;border-left: 1px solid gray;box-sizing: border-box;top: 0;bottom: 0;left: 50%;z-index: 0;}#sk-container-id-2 div.sk-serial {display: flex;flex-direction: column;align-items: center;background-color: white;padding-right: 0.2em;padding-left: 0.2em;position: relative;}#sk-container-id-2 div.sk-item {position: relative;z-index: 1;}#sk-container-id-2 div.sk-parallel {display: flex;align-items: stretch;justify-content: center;background-color: white;position: relative;}#sk-container-id-2 div.sk-item::before, #sk-container-id-2 div.sk-parallel-item::before {content: \"\";position: absolute;border-left: 1px solid gray;box-sizing: border-box;top: 0;bottom: 0;left: 50%;z-index: -1;}#sk-container-id-2 div.sk-parallel-item {display: flex;flex-direction: column;z-index: 1;position: relative;background-color: white;}#sk-container-id-2 div.sk-parallel-item:first-child::after {align-self: flex-end;width: 50%;}#sk-container-id-2 div.sk-parallel-item:last-child::after {align-self: flex-start;width: 50%;}#sk-container-id-2 div.sk-parallel-item:only-child::after {width: 0;}#sk-container-id-2 div.sk-dashed-wrapped {border: 1px dashed gray;margin: 0 0.4em 0.5em 0.4em;box-sizing: border-box;padding-bottom: 0.4em;background-color: white;}#sk-container-id-2 div.sk-label label {font-family: monospace;font-weight: bold;display: inline-block;line-height: 1.2em;}#sk-container-id-2 div.sk-label-container {text-align: center;}#sk-container-id-2 div.sk-container {/* jupyter's `normalize.less` sets `[hidden] { display: none; }` but bootstrap.min.css set `[hidden] { display: none !important; }` so we also need the `!important` here to be able to override the default hidden behavior on the sphinx rendered scikit-learn.org. See: https://github.com/scikit-learn/scikit-learn/issues/21755 */display: inline-block !important;position: relative;}#sk-container-id-2 div.sk-text-repr-fallback {display: none;}</style><div id=\"sk-container-id-2\" class=\"sk-top-container\"><div class=\"sk-text-repr-fallback\"><pre>KNeighborsRegressor()</pre><b>In a Jupyter environment, please rerun this cell to show the HTML representation or trust the notebook. <br />On GitHub, the HTML representation is unable to render, please try loading this page with nbviewer.org.</b></div><div class=\"sk-container\" hidden><div class=\"sk-item\"><div class=\"sk-estimator sk-toggleable\"><input class=\"sk-toggleable__control sk-hidden--visually\" id=\"sk-estimator-id-2\" type=\"checkbox\" checked><label for=\"sk-estimator-id-2\" class=\"sk-toggleable__label sk-toggleable__label-arrow\">KNeighborsRegressor</label><div class=\"sk-toggleable__content\"><pre>KNeighborsRegressor()</pre></div></div></div></div></div>"
      ],
      "text/plain": [
       "KNeighborsRegressor()"
      ]
     },
     "execution_count": 13,
     "metadata": {},
     "output_type": "execute_result"
    }
   ],
   "source": [
    "# Fit a k-NN model on the training set\n",
    "knn = sk_n.KNeighborsRegressor()\n",
    "knn.fit(df_train.loc[:, df_train.columns != 'ltv'], df_train.ltv)"
   ]
  },
  {
   "cell_type": "code",
   "execution_count": 14,
   "metadata": {},
   "outputs": [],
   "source": [
    "# Make predictions on the test set\n",
    "preds = knn.predict(df_test.loc[:, df_test.columns != 'ltv'])"
   ]
  },
  {
   "cell_type": "code",
   "execution_count": 15,
   "metadata": {},
   "outputs": [
    {
     "data": {
      "text/plain": [
       "0.1856864161737649"
      ]
     },
     "execution_count": 15,
     "metadata": {},
     "output_type": "execute_result"
    }
   ],
   "source": [
    "# Find the R-squared on the test set\n",
    "sk_m.r2_score(df_test.ltv, preds)"
   ]
  },
  {
   "cell_type": "markdown",
   "metadata": {},
   "source": [
    "### k-NN (specifying a parameter)"
   ]
  },
  {
   "cell_type": "code",
   "execution_count": 16,
   "metadata": {},
   "outputs": [
    {
     "data": {
      "text/plain": [
       "0.27404913183392743"
      ]
     },
     "execution_count": 16,
     "metadata": {},
     "output_type": "execute_result"
    }
   ],
   "source": [
    "# Fit a k-NN model on the training set\n",
    "knn = sk_n.KNeighborsRegressor(n_neighbors=12)\n",
    "knn.fit(df_train.loc[:, df_train.columns != 'ltv'], df_train.ltv)\n",
    "\n",
    "# Make predictions on the test set\n",
    "preds = knn.predict(df_test.loc[:, df_test.columns != 'ltv'])\n",
    "\n",
    "# Find the R-squared on the test set\n",
    "sk_m.r2_score(df_test.ltv, preds)"
   ]
  },
  {
   "cell_type": "markdown",
   "metadata": {},
   "source": [
    "### k-NN (picking the best parameter)"
   ]
  },
  {
   "cell_type": "code",
   "execution_count": 17,
   "metadata": {},
   "outputs": [
    {
     "name": "stderr",
     "output_type": "stream",
     "text": [
      "100%|██████████| 36/36 [00:01<00:00, 25.82it/s]\n"
     ]
    },
    {
     "data": {
      "image/png": "[encoded data removed]",
      "text/plain": [
       "<Figure size 432x288 with 1 Axes>"
      ]
     },
     "metadata": {
      "needs_background": "light"
     },
     "output_type": "display_data"
    }
   ],
   "source": [
    "# Go through values of k between 5 and 40, train a k-NN model\n",
    "# for each value, see how will it does on the test set, and\n",
    "# store the results in a list\n",
    "score_list = []\n",
    "\n",
    "import tqdm\n",
    "for k in tqdm.tqdm(range(5, 41)):\n",
    "    knn = sk_n.KNeighborsRegressor(n_neighbors=k)\n",
    "    knn.fit(df_train.loc[:, df_train.columns != 'ltv'], df_train.ltv)\n",
    "\n",
    "    # Make predictions on the test set\n",
    "    preds = knn.predict(df_test.loc[:, df_test.columns != 'ltv'])\n",
    "\n",
    "    # Find the R-squared on the test set and append it to the\n",
    "    # score list\n",
    "    score_list.append(sk_m.r2_score(df_test.ltv, preds))\n",
    "\n",
    "# Plot the results\n",
    "import matplotlib.pyplot as plt\n",
    "import seaborn as sns\n",
    "plt.plot(range(5, 41), score_list)\n",
    "plt.xlabel('k')\n",
    "plt.ylabel('Out of Sample R-squared')\n",
    "sns.despine()"
   ]
  },
  {
   "cell_type": "markdown",
   "metadata": {},
   "source": [
    "# Memory-based collaborative filtering"
   ]
  },
  {
   "cell_type": "markdown",
   "metadata": {},
   "source": [
    "### Load the Canvas survey results"
   ]
  },
  {
   "cell_type": "code",
   "execution_count": 21,
   "metadata": {},
   "outputs": [
    {
     "data": {
      "text/html": [
       "<img src onerror=\"var cell = this.closest('.code_cell');var editor = cell.querySelector('.input_area');editor.style.background='#bde4f0';this.parentNode.removeChild(this)\">"
      ],
      "text/plain": [
       "<IPython.core.display.HTML object>"
      ]
     },
     "metadata": {},
     "output_type": "display_data"
    },
    {
     "ename": "FileNotFoundError",
     "evalue": "[Errno 2] No such file or directory: 'canvas_survey.csv'",
     "output_type": "error",
     "traceback": [
      "\u001b[0;31m---------------------------------------------------------------------------\u001b[0m",
      "\u001b[0;31mFileNotFoundError\u001b[0m                         Traceback (most recent call last)",
      "\u001b[0;32m<ipython-input-21-7275a9ac3c34>\u001b[0m in \u001b[0;36m<module>\u001b[0;34m\u001b[0m\n\u001b[1;32m      6\u001b[0m \u001b[0;34m\u001b[0m\u001b[0m\n\u001b[1;32m      7\u001b[0m \u001b[0;31m# Load the canvas data\u001b[0m\u001b[0;34m\u001b[0m\u001b[0;34m\u001b[0m\u001b[0;34m\u001b[0m\u001b[0m\n\u001b[0;32m----> 8\u001b[0;31m \u001b[0mraw_data\u001b[0m \u001b[0;34m=\u001b[0m \u001b[0mpd\u001b[0m\u001b[0;34m.\u001b[0m\u001b[0mread_csv\u001b[0m\u001b[0;34m(\u001b[0m\u001b[0;34m'canvas_survey.csv'\u001b[0m\u001b[0;34m)\u001b[0m\u001b[0;34m\u001b[0m\u001b[0;34m\u001b[0m\u001b[0m\n\u001b[0m\u001b[1;32m      9\u001b[0m \u001b[0;34m\u001b[0m\u001b[0m\n\u001b[1;32m     10\u001b[0m \u001b[0;31m# Find the relevant columns in the Excel spreadsheet\u001b[0m\u001b[0;34m\u001b[0m\u001b[0;34m\u001b[0m\u001b[0;34m\u001b[0m\u001b[0m\n",
      "\u001b[0;32m/opt/anaconda3/lib/python3.8/site-packages/pandas/io/parsers.py\u001b[0m in \u001b[0;36mread_csv\u001b[0;34m(filepath_or_buffer, sep, delimiter, header, names, index_col, usecols, squeeze, prefix, mangle_dupe_cols, dtype, engine, converters, true_values, false_values, skipinitialspace, skiprows, skipfooter, nrows, na_values, keep_default_na, na_filter, verbose, skip_blank_lines, parse_dates, infer_datetime_format, keep_date_col, date_parser, dayfirst, cache_dates, iterator, chunksize, compression, thousands, decimal, lineterminator, quotechar, quoting, doublequote, escapechar, comment, encoding, dialect, error_bad_lines, warn_bad_lines, delim_whitespace, low_memory, memory_map, float_precision)\u001b[0m\n\u001b[1;32m    684\u001b[0m     )\n\u001b[1;32m    685\u001b[0m \u001b[0;34m\u001b[0m\u001b[0m\n\u001b[0;32m--> 686\u001b[0;31m     \u001b[0;32mreturn\u001b[0m \u001b[0m_read\u001b[0m\u001b[0;34m(\u001b[0m\u001b[0mfilepath_or_buffer\u001b[0m\u001b[0;34m,\u001b[0m \u001b[0mkwds\u001b[0m\u001b[0;34m)\u001b[0m\u001b[0;34m\u001b[0m\u001b[0;34m\u001b[0m\u001b[0m\n\u001b[0m\u001b[1;32m    687\u001b[0m \u001b[0;34m\u001b[0m\u001b[0m\n\u001b[1;32m    688\u001b[0m \u001b[0;34m\u001b[0m\u001b[0m\n",
      "\u001b[0;32m/opt/anaconda3/lib/python3.8/site-packages/pandas/io/parsers.py\u001b[0m in \u001b[0;36m_read\u001b[0;34m(filepath_or_buffer, kwds)\u001b[0m\n\u001b[1;32m    450\u001b[0m \u001b[0;34m\u001b[0m\u001b[0m\n\u001b[1;32m    451\u001b[0m     \u001b[0;31m# Create the parser.\u001b[0m\u001b[0;34m\u001b[0m\u001b[0;34m\u001b[0m\u001b[0;34m\u001b[0m\u001b[0m\n\u001b[0;32m--> 452\u001b[0;31m     \u001b[0mparser\u001b[0m \u001b[0;34m=\u001b[0m \u001b[0mTextFileReader\u001b[0m\u001b[0;34m(\u001b[0m\u001b[0mfp_or_buf\u001b[0m\u001b[0;34m,\u001b[0m \u001b[0;34m**\u001b[0m\u001b[0mkwds\u001b[0m\u001b[0;34m)\u001b[0m\u001b[0;34m\u001b[0m\u001b[0;34m\u001b[0m\u001b[0m\n\u001b[0m\u001b[1;32m    453\u001b[0m \u001b[0;34m\u001b[0m\u001b[0m\n\u001b[1;32m    454\u001b[0m     \u001b[0;32mif\u001b[0m \u001b[0mchunksize\u001b[0m \u001b[0;32mor\u001b[0m \u001b[0miterator\u001b[0m\u001b[0;34m:\u001b[0m\u001b[0;34m\u001b[0m\u001b[0;34m\u001b[0m\u001b[0m\n",
      "\u001b[0;32m/opt/anaconda3/lib/python3.8/site-packages/pandas/io/parsers.py\u001b[0m in \u001b[0;36m__init__\u001b[0;34m(self, f, engine, **kwds)\u001b[0m\n\u001b[1;32m    944\u001b[0m             \u001b[0mself\u001b[0m\u001b[0;34m.\u001b[0m\u001b[0moptions\u001b[0m\u001b[0;34m[\u001b[0m\u001b[0;34m\"has_index_names\"\u001b[0m\u001b[0;34m]\u001b[0m \u001b[0;34m=\u001b[0m \u001b[0mkwds\u001b[0m\u001b[0;34m[\u001b[0m\u001b[0;34m\"has_index_names\"\u001b[0m\u001b[0;34m]\u001b[0m\u001b[0;34m\u001b[0m\u001b[0;34m\u001b[0m\u001b[0m\n\u001b[1;32m    945\u001b[0m \u001b[0;34m\u001b[0m\u001b[0m\n\u001b[0;32m--> 946\u001b[0;31m         \u001b[0mself\u001b[0m\u001b[0;34m.\u001b[0m\u001b[0m_make_engine\u001b[0m\u001b[0;34m(\u001b[0m\u001b[0mself\u001b[0m\u001b[0;34m.\u001b[0m\u001b[0mengine\u001b[0m\u001b[0;34m)\u001b[0m\u001b[0;34m\u001b[0m\u001b[0;34m\u001b[0m\u001b[0m\n\u001b[0m\u001b[1;32m    947\u001b[0m \u001b[0;34m\u001b[0m\u001b[0m\n\u001b[1;32m    948\u001b[0m     \u001b[0;32mdef\u001b[0m \u001b[0mclose\u001b[0m\u001b[0;34m(\u001b[0m\u001b[0mself\u001b[0m\u001b[0;34m)\u001b[0m\u001b[0;34m:\u001b[0m\u001b[0;34m\u001b[0m\u001b[0;34m\u001b[0m\u001b[0m\n",
      "\u001b[0;32m/opt/anaconda3/lib/python3.8/site-packages/pandas/io/parsers.py\u001b[0m in \u001b[0;36m_make_engine\u001b[0;34m(self, engine)\u001b[0m\n\u001b[1;32m   1176\u001b[0m     \u001b[0;32mdef\u001b[0m \u001b[0m_make_engine\u001b[0m\u001b[0;34m(\u001b[0m\u001b[0mself\u001b[0m\u001b[0;34m,\u001b[0m \u001b[0mengine\u001b[0m\u001b[0;34m=\u001b[0m\u001b[0;34m\"c\"\u001b[0m\u001b[0;34m)\u001b[0m\u001b[0;34m:\u001b[0m\u001b[0;34m\u001b[0m\u001b[0;34m\u001b[0m\u001b[0m\n\u001b[1;32m   1177\u001b[0m         \u001b[0;32mif\u001b[0m \u001b[0mengine\u001b[0m \u001b[0;34m==\u001b[0m \u001b[0;34m\"c\"\u001b[0m\u001b[0;34m:\u001b[0m\u001b[0;34m\u001b[0m\u001b[0;34m\u001b[0m\u001b[0m\n\u001b[0;32m-> 1178\u001b[0;31m             \u001b[0mself\u001b[0m\u001b[0;34m.\u001b[0m\u001b[0m_engine\u001b[0m \u001b[0;34m=\u001b[0m \u001b[0mCParserWrapper\u001b[0m\u001b[0;34m(\u001b[0m\u001b[0mself\u001b[0m\u001b[0;34m.\u001b[0m\u001b[0mf\u001b[0m\u001b[0;34m,\u001b[0m \u001b[0;34m**\u001b[0m\u001b[0mself\u001b[0m\u001b[0;34m.\u001b[0m\u001b[0moptions\u001b[0m\u001b[0;34m)\u001b[0m\u001b[0;34m\u001b[0m\u001b[0;34m\u001b[0m\u001b[0m\n\u001b[0m\u001b[1;32m   1179\u001b[0m         \u001b[0;32melse\u001b[0m\u001b[0;34m:\u001b[0m\u001b[0;34m\u001b[0m\u001b[0;34m\u001b[0m\u001b[0m\n\u001b[1;32m   1180\u001b[0m             \u001b[0;32mif\u001b[0m \u001b[0mengine\u001b[0m \u001b[0;34m==\u001b[0m \u001b[0;34m\"python\"\u001b[0m\u001b[0;34m:\u001b[0m\u001b[0;34m\u001b[0m\u001b[0;34m\u001b[0m\u001b[0m\n",
      "\u001b[0;32m/opt/anaconda3/lib/python3.8/site-packages/pandas/io/parsers.py\u001b[0m in \u001b[0;36m__init__\u001b[0;34m(self, src, **kwds)\u001b[0m\n\u001b[1;32m   2006\u001b[0m         \u001b[0mkwds\u001b[0m\u001b[0;34m[\u001b[0m\u001b[0;34m\"usecols\"\u001b[0m\u001b[0;34m]\u001b[0m \u001b[0;34m=\u001b[0m \u001b[0mself\u001b[0m\u001b[0;34m.\u001b[0m\u001b[0musecols\u001b[0m\u001b[0;34m\u001b[0m\u001b[0;34m\u001b[0m\u001b[0m\n\u001b[1;32m   2007\u001b[0m \u001b[0;34m\u001b[0m\u001b[0m\n\u001b[0;32m-> 2008\u001b[0;31m         \u001b[0mself\u001b[0m\u001b[0;34m.\u001b[0m\u001b[0m_reader\u001b[0m \u001b[0;34m=\u001b[0m \u001b[0mparsers\u001b[0m\u001b[0;34m.\u001b[0m\u001b[0mTextReader\u001b[0m\u001b[0;34m(\u001b[0m\u001b[0msrc\u001b[0m\u001b[0;34m,\u001b[0m \u001b[0;34m**\u001b[0m\u001b[0mkwds\u001b[0m\u001b[0;34m)\u001b[0m\u001b[0;34m\u001b[0m\u001b[0;34m\u001b[0m\u001b[0m\n\u001b[0m\u001b[1;32m   2009\u001b[0m         \u001b[0mself\u001b[0m\u001b[0;34m.\u001b[0m\u001b[0munnamed_cols\u001b[0m \u001b[0;34m=\u001b[0m \u001b[0mself\u001b[0m\u001b[0;34m.\u001b[0m\u001b[0m_reader\u001b[0m\u001b[0;34m.\u001b[0m\u001b[0munnamed_cols\u001b[0m\u001b[0;34m\u001b[0m\u001b[0;34m\u001b[0m\u001b[0m\n\u001b[1;32m   2010\u001b[0m \u001b[0;34m\u001b[0m\u001b[0m\n",
      "\u001b[0;32mpandas/_libs/parsers.pyx\u001b[0m in \u001b[0;36mpandas._libs.parsers.TextReader.__cinit__\u001b[0;34m()\u001b[0m\n",
      "\u001b[0;32mpandas/_libs/parsers.pyx\u001b[0m in \u001b[0;36mpandas._libs.parsers.TextReader._setup_parser_source\u001b[0;34m()\u001b[0m\n",
      "\u001b[0;31mFileNotFoundError\u001b[0m: [Errno 2] No such file or directory: 'canvas_survey.csv'"
     ]
    }
   ],
   "source": [
    "optional_material()\n",
    "\n",
    "import pandas as pd\n",
    "import string\n",
    "import numpy as np\n",
    "\n",
    "# Load the canvas data\n",
    "raw_data = pd.read_csv('canvas_survey.csv')\n",
    "\n",
    "# Find the relevant columns in the Excel spreadsheet\n",
    "#   - name: the column number containing the name\n",
    "#   - section_col: the column number containing the section\n",
    "#   - gender_col: the column number containing the gender\n",
    "#   - movie_cols: a list of column numbers containing the\n",
    "#                 movie scores\n",
    "#   - cuisines_cols: a list of column numbers containing\n",
    "#                    the cuisine scores\n",
    "def find_col(filter_func, restrict_to_one = False):\n",
    "    matching_cols = [i for i, j in enumerate(raw_data.columns) if filter_func(j)]\n",
    "    if restrict_to_one:\n",
    "        assert(len(matching_cols) == 1)\n",
    "        return matching_cols[0]\n",
    "    else:\n",
    "        return matching_cols\n",
    "    \n",
    "name_col = find_col(lambda x : x == 'name', True)\n",
    "section_col = find_col(lambda x : x == 'section', True)\n",
    "gender_col = find_col(lambda x : 'gender' in x, True)\n",
    "movie_cols = find_col(lambda x : 'movie' in x)\n",
    "cuisine_cols = find_col(lambda x : 'cuisine' in x)\n",
    "\n",
    "# Extract movie and cuisine names\n",
    "def extract_name(s):\n",
    "    s = s.split(\":\")[-1]\n",
    "    s = [i for i in s if i in string.ascii_letters + \" \"]\n",
    "    s = ''.join(s)\n",
    "    return s.strip()\n",
    "\n",
    "movies = [extract_name(raw_data.columns[i]) for i in movie_cols]\n",
    "cuisines = [extract_name(raw_data.columns[i]) for i in cuisine_cols]\n",
    "\n",
    "# Create the DataFrames\n",
    "movies_df = {'name':raw_data.iloc[:, name_col],\n",
    "             'section':raw_data.iloc[:, section_col].str.split('_').str[1],\n",
    "             'gender':raw_data.iloc[:, gender_col]}\n",
    "cuisines_df = {'name':raw_data.iloc[:, name_col],\n",
    "               'section':raw_data.iloc[:, section_col].str.split('_').str[1],\n",
    "               'gender':raw_data.iloc[:, gender_col]}\n",
    "\n",
    "get_rating = lambda x : float('nan') if x.lower() in [\"haven't seen it\",\"no opinion\",\"nan\"] else int(x)\n",
    "\n",
    "for name, col in zip(movies, movie_cols):\n",
    "    movies_df[name] = raw_data.iloc[:, col].astype(str).apply(get_rating).tolist()\n",
    "\n",
    "for name, col in zip(cuisines, cuisine_cols):\n",
    "    cuisines_df[name] = raw_data.iloc[:, col].astype(str).apply(get_rating).tolist()\n",
    "\n",
    "df_movies = pd.DataFrame(movies_df)\n",
    "df_cuisines = pd.DataFrame(cuisines_df)"
   ]
  },
  {
   "cell_type": "markdown",
   "metadata": {},
   "source": [
    "Filter by section if required"
   ]
  },
  {
   "cell_type": "code",
   "execution_count": 19,
   "metadata": {},
   "outputs": [
    {
     "ename": "NameError",
     "evalue": "name 'df_movies' is not defined",
     "output_type": "error",
     "traceback": [
      "\u001b[0;31m---------------------------------------------------------------------------\u001b[0m",
      "\u001b[0;31mNameError\u001b[0m                                 Traceback (most recent call last)",
      "\u001b[0;32m<ipython-input-19-4ea303c71fca>\u001b[0m in \u001b[0;36m<module>\u001b[0;34m\u001b[0m\n\u001b[0;32m----> 1\u001b[0;31m \u001b[0mdf_movies\u001b[0m \u001b[0;34m=\u001b[0m \u001b[0mdf_movies\u001b[0m\u001b[0;34m[\u001b[0m\u001b[0mdf_movies\u001b[0m\u001b[0;34m.\u001b[0m\u001b[0msection\u001b[0m \u001b[0;34m==\u001b[0m \u001b[0;34m'005'\u001b[0m\u001b[0;34m]\u001b[0m\u001b[0;34m\u001b[0m\u001b[0;34m\u001b[0m\u001b[0m\n\u001b[0m",
      "\u001b[0;31mNameError\u001b[0m: name 'df_movies' is not defined"
     ]
    }
   ],
   "source": [
    "df_movies = df_movies[df_movies.section == '005']"
   ]
  },
  {
   "cell_type": "code",
   "execution_count": 20,
   "metadata": {},
   "outputs": [],
   "source": [
    "df_dg = pd.DataFrame({'name':'Daniel Guetta',\n",
    "                      'section':np.nan,\n",
    "                      'gender':'Male',\n",
    "                      'The Godfather':np.nan,\n",
    "                      'Vicky Cristina Barcelona':np.nan,\n",
    "                      'Black Swan':np.nan,\n",
    "                      'Top Gun':np.nan,\n",
    "                      'Bourne Identity':3,\n",
    "                      'Texas Chainsaw Massacre':np.nan,\n",
    "                      'Pretty Woman':5,\n",
    "                      'Bridesmaids':1,\n",
    "                      'Life is Beautiful':5,\n",
    "                      'Y Tu Mam Tambin':np.nan,\n",
    "                      'Inception':5,\n",
    "                      'Working Girl':np.nan,\n",
    "                      'Pulp Fiction':np.nan,\n",
    "                      'Moneyball':4,\n",
    "                      'Titanic':5,\n",
    "                      'Avatar':5,\n",
    "                      'Dark Knight':4,\n",
    "                      'Iron Man':np.nan,\n",
    "                      'Crouching Tiger Hidden Dragon':np.nan,\n",
    "                      'National Lampoons Animal House':np.nan}, index=[0])\n",
    "\n",
    "df_movies = pd.concat([df_movies, df_dg]).reset_index(drop=True).copy()"
   ]
  },
  {
   "cell_type": "code",
   "execution_count": 21,
   "metadata": {},
   "outputs": [
    {
     "name": "stdout",
     "output_type": "stream",
     "text": [
      "['The Godfather', 'Vicky Cristina Barcelona', 'Black Swan', 'Top Gun', 'Bourne Identity', 'Texas Chainsaw Massacre', 'Pretty Woman', 'Bridesmaids', 'Life is Beautiful', 'Y Tu Mam Tambin', 'Inception', 'Working Girl', 'Pulp Fiction', 'Moneyball', 'Titanic', 'Avatar', 'Dark Knight', 'Iron Man', 'Crouching Tiger Hidden Dragon', 'National Lampoons Animal House']\n"
     ]
    },
    {
     "data": {
      "text/html": [
       "<div>\n",
       "<style scoped>\n",
       "    .dataframe tbody tr th:only-of-type {\n",
       "        vertical-align: middle;\n",
       "    }\n",
       "\n",
       "    .dataframe tbody tr th {\n",
       "        vertical-align: top;\n",
       "    }\n",
       "\n",
       "    .dataframe thead th {\n",
       "        text-align: right;\n",
       "    }\n",
       "</style>\n",
       "<table border=\"1\" class=\"dataframe\">\n",
       "  <thead>\n",
       "    <tr style=\"text-align: right;\">\n",
       "      <th></th>\n",
       "      <th>name</th>\n",
       "      <th>section</th>\n",
       "      <th>gender</th>\n",
       "      <th>The Godfather</th>\n",
       "      <th>Vicky Cristina Barcelona</th>\n",
       "      <th>Black Swan</th>\n",
       "      <th>Top Gun</th>\n",
       "      <th>Bourne Identity</th>\n",
       "      <th>Texas Chainsaw Massacre</th>\n",
       "      <th>Pretty Woman</th>\n",
       "      <th>...</th>\n",
       "      <th>Inception</th>\n",
       "      <th>Working Girl</th>\n",
       "      <th>Pulp Fiction</th>\n",
       "      <th>Moneyball</th>\n",
       "      <th>Titanic</th>\n",
       "      <th>Avatar</th>\n",
       "      <th>Dark Knight</th>\n",
       "      <th>Iron Man</th>\n",
       "      <th>Crouching Tiger Hidden Dragon</th>\n",
       "      <th>National Lampoons Animal House</th>\n",
       "    </tr>\n",
       "  </thead>\n",
       "  <tbody>\n",
       "    <tr>\n",
       "      <th>0</th>\n",
       "      <td>Jiaping Zhang</td>\n",
       "      <td>005</td>\n",
       "      <td>Male</td>\n",
       "      <td>5.0</td>\n",
       "      <td>NaN</td>\n",
       "      <td>NaN</td>\n",
       "      <td>4.0</td>\n",
       "      <td>3.0</td>\n",
       "      <td>3.0</td>\n",
       "      <td>NaN</td>\n",
       "      <td>...</td>\n",
       "      <td>5.0</td>\n",
       "      <td>NaN</td>\n",
       "      <td>NaN</td>\n",
       "      <td>NaN</td>\n",
       "      <td>4.0</td>\n",
       "      <td>4.0</td>\n",
       "      <td>4.0</td>\n",
       "      <td>5.0</td>\n",
       "      <td>3.0</td>\n",
       "      <td>NaN</td>\n",
       "    </tr>\n",
       "    <tr>\n",
       "      <th>1</th>\n",
       "      <td>Tony Zheng</td>\n",
       "      <td>005</td>\n",
       "      <td>Male</td>\n",
       "      <td>NaN</td>\n",
       "      <td>NaN</td>\n",
       "      <td>NaN</td>\n",
       "      <td>NaN</td>\n",
       "      <td>NaN</td>\n",
       "      <td>NaN</td>\n",
       "      <td>NaN</td>\n",
       "      <td>...</td>\n",
       "      <td>5.0</td>\n",
       "      <td>NaN</td>\n",
       "      <td>NaN</td>\n",
       "      <td>NaN</td>\n",
       "      <td>3.0</td>\n",
       "      <td>4.0</td>\n",
       "      <td>5.0</td>\n",
       "      <td>NaN</td>\n",
       "      <td>NaN</td>\n",
       "      <td>NaN</td>\n",
       "    </tr>\n",
       "    <tr>\n",
       "      <th>2</th>\n",
       "      <td>Jonathan Zhang</td>\n",
       "      <td>005</td>\n",
       "      <td>Male</td>\n",
       "      <td>5.0</td>\n",
       "      <td>NaN</td>\n",
       "      <td>NaN</td>\n",
       "      <td>2.0</td>\n",
       "      <td>NaN</td>\n",
       "      <td>3.0</td>\n",
       "      <td>NaN</td>\n",
       "      <td>...</td>\n",
       "      <td>4.0</td>\n",
       "      <td>NaN</td>\n",
       "      <td>5.0</td>\n",
       "      <td>NaN</td>\n",
       "      <td>3.0</td>\n",
       "      <td>4.0</td>\n",
       "      <td>2.0</td>\n",
       "      <td>3.0</td>\n",
       "      <td>5.0</td>\n",
       "      <td>NaN</td>\n",
       "    </tr>\n",
       "    <tr>\n",
       "      <th>3</th>\n",
       "      <td>Yifei Li</td>\n",
       "      <td>005</td>\n",
       "      <td>Female</td>\n",
       "      <td>3.0</td>\n",
       "      <td>2.0</td>\n",
       "      <td>4.0</td>\n",
       "      <td>3.0</td>\n",
       "      <td>2.0</td>\n",
       "      <td>2.0</td>\n",
       "      <td>5.0</td>\n",
       "      <td>...</td>\n",
       "      <td>2.0</td>\n",
       "      <td>3.0</td>\n",
       "      <td>2.0</td>\n",
       "      <td>5.0</td>\n",
       "      <td>3.0</td>\n",
       "      <td>2.0</td>\n",
       "      <td>3.0</td>\n",
       "      <td>5.0</td>\n",
       "      <td>4.0</td>\n",
       "      <td>4.0</td>\n",
       "    </tr>\n",
       "    <tr>\n",
       "      <th>4</th>\n",
       "      <td>Zhonglin Liu</td>\n",
       "      <td>005</td>\n",
       "      <td>Male</td>\n",
       "      <td>NaN</td>\n",
       "      <td>NaN</td>\n",
       "      <td>NaN</td>\n",
       "      <td>NaN</td>\n",
       "      <td>NaN</td>\n",
       "      <td>NaN</td>\n",
       "      <td>NaN</td>\n",
       "      <td>...</td>\n",
       "      <td>5.0</td>\n",
       "      <td>NaN</td>\n",
       "      <td>NaN</td>\n",
       "      <td>4.0</td>\n",
       "      <td>5.0</td>\n",
       "      <td>NaN</td>\n",
       "      <td>5.0</td>\n",
       "      <td>4.0</td>\n",
       "      <td>NaN</td>\n",
       "      <td>NaN</td>\n",
       "    </tr>\n",
       "  </tbody>\n",
       "</table>\n",
       "<p>5 rows × 23 columns</p>\n",
       "</div>"
      ],
      "text/plain": [
       "             name section  gender  The Godfather  Vicky Cristina Barcelona  \\\n",
       "0   Jiaping Zhang     005    Male            5.0                       NaN   \n",
       "1      Tony Zheng     005    Male            NaN                       NaN   \n",
       "2  Jonathan Zhang     005    Male            5.0                       NaN   \n",
       "3        Yifei Li     005  Female            3.0                       2.0   \n",
       "4    Zhonglin Liu     005    Male            NaN                       NaN   \n",
       "\n",
       "   Black Swan  Top Gun  Bourne Identity  Texas Chainsaw Massacre  \\\n",
       "0         NaN      4.0              3.0                      3.0   \n",
       "1         NaN      NaN              NaN                      NaN   \n",
       "2         NaN      2.0              NaN                      3.0   \n",
       "3         4.0      3.0              2.0                      2.0   \n",
       "4         NaN      NaN              NaN                      NaN   \n",
       "\n",
       "   Pretty Woman  ...  Inception  Working Girl  Pulp Fiction  Moneyball  \\\n",
       "0           NaN  ...        5.0           NaN           NaN        NaN   \n",
       "1           NaN  ...        5.0           NaN           NaN        NaN   \n",
       "2           NaN  ...        4.0           NaN           5.0        NaN   \n",
       "3           5.0  ...        2.0           3.0           2.0        5.0   \n",
       "4           NaN  ...        5.0           NaN           NaN        4.0   \n",
       "\n",
       "   Titanic  Avatar  Dark Knight  Iron Man  Crouching Tiger Hidden Dragon  \\\n",
       "0      4.0     4.0          4.0       5.0                            3.0   \n",
       "1      3.0     4.0          5.0       NaN                            NaN   \n",
       "2      3.0     4.0          2.0       3.0                            5.0   \n",
       "3      3.0     2.0          3.0       5.0                            4.0   \n",
       "4      5.0     NaN          5.0       4.0                            NaN   \n",
       "\n",
       "   National Lampoons Animal House  \n",
       "0                             NaN  \n",
       "1                             NaN  \n",
       "2                             NaN  \n",
       "3                             4.0  \n",
       "4                             NaN  \n",
       "\n",
       "[5 rows x 23 columns]"
      ]
     },
     "execution_count": 21,
     "metadata": {},
     "output_type": "execute_result"
    }
   ],
   "source": [
    "print(movies)\n",
    "df_movies.head()"
   ]
  },
  {
   "cell_type": "markdown",
   "metadata": {},
   "source": [
    "### Get some summary statistics"
   ]
  },
  {
   "cell_type": "code",
   "execution_count": 22,
   "metadata": {},
   "outputs": [
    {
     "data": {
      "text/plain": [
       "Y Tu Mam Tambin                     5\n",
       "National Lampoons Animal House     12\n",
       "Vicky Cristina Barcelona           14\n",
       "Working Girl                       18\n",
       "Bridesmaids                        22\n",
       "Moneyball                          29\n",
       "Texas Chainsaw Massacre            30\n",
       "Pretty Woman                       37\n",
       "Pulp Fiction                       37\n",
       "Bourne Identity                    38\n",
       "Crouching Tiger Hidden Dragon      52\n",
       "Top Gun                            54\n",
       "Black Swan                         62\n",
       "The Godfather                      64\n",
       "Life is Beautiful                  66\n",
       "Dark Knight                        79\n",
       "Inception                          85\n",
       "Iron Man                          105\n",
       "Avatar                            108\n",
       "Titanic                           113\n",
       "dtype: int64"
      ]
     },
     "execution_count": 22,
     "metadata": {},
     "output_type": "execute_result"
    }
   ],
   "source": [
    "# Find the movies that were seen by the most people\n",
    "df_movies.set_index('name')[movies].notnull().sum(axis=0).sort_values()"
   ]
  },
  {
   "cell_type": "code",
   "execution_count": 23,
   "metadata": {},
   "outputs": [
    {
     "data": {
      "text/plain": [
       "Texas Chainsaw Massacre           2.800000\n",
       "Working Girl                      3.222222\n",
       "Y Tu Mam Tambin                   3.400000\n",
       "Bridesmaids                       3.500000\n",
       "National Lampoons Animal House    3.500000\n",
       "Vicky Cristina Barcelona          3.500000\n",
       "Black Swan                        3.693548\n",
       "Pretty Woman                      3.702703\n",
       "Iron Man                          3.771429\n",
       "Top Gun                           3.833333\n",
       "Bourne Identity                   3.868421\n",
       "Pulp Fiction                      4.000000\n",
       "The Godfather                     4.062500\n",
       "Moneyball                         4.068966\n",
       "Dark Knight                       4.088608\n",
       "Crouching Tiger Hidden Dragon     4.096154\n",
       "Avatar                            4.111111\n",
       "Titanic                           4.221239\n",
       "Life is Beautiful                 4.363636\n",
       "Inception                         4.388235\n",
       "dtype: float64"
      ]
     },
     "execution_count": 23,
     "metadata": {},
     "output_type": "execute_result"
    }
   ],
   "source": [
    "# Find the movies with the highest rankings\n",
    "df_movies.set_index('name')[movies].mean(axis=0).sort_values()"
   ]
  },
  {
   "cell_type": "code",
   "execution_count": 24,
   "metadata": {},
   "outputs": [
    {
     "data": {
      "text/plain": [
       "name\n",
       "Yueru Jin         1\n",
       "Xinfang Zhang     1\n",
       "Jiewan Yang       2\n",
       "Xiao Zhang        2\n",
       "Ziqi Dong         2\n",
       "                 ..\n",
       "Grace Liu        19\n",
       "Meng He          19\n",
       "Kaichen Ma       20\n",
       "Shuyang Chen     20\n",
       "Yifei Li         20\n",
       "Length: 121, dtype: int64"
      ]
     },
     "execution_count": 24,
     "metadata": {},
     "output_type": "execute_result"
    }
   ],
   "source": [
    "# Find the people that have seen the most and fewest movies\n",
    "df_movies.set_index('name')[movies].notnull().sum(axis=1).sort_values()"
   ]
  },
  {
   "cell_type": "code",
   "execution_count": 25,
   "metadata": {},
   "outputs": [
    {
     "data": {
      "text/plain": [
       "name\n",
       "Meng He          2.789474\n",
       "Sophie Asgari    2.800000\n",
       "Yi Gong          2.857143\n",
       "Xiao Zhang       3.000000\n",
       "Xiangyi Li       3.000000\n",
       "                   ...   \n",
       "Xinfang Zhang    5.000000\n",
       "Yue Fei          5.000000\n",
       "Jiaming Yuan     5.000000\n",
       "liyue Chen       5.000000\n",
       "Yueru Jin        5.000000\n",
       "Length: 121, dtype: float64"
      ]
     },
     "execution_count": 25,
     "metadata": {},
     "output_type": "execute_result"
    }
   ],
   "source": [
    "# Find the most and least generous rankers\n",
    "df_movies.set_index('name')[movies].mean(axis=1).sort_values()"
   ]
  },
  {
   "cell_type": "markdown",
   "metadata": {},
   "source": [
    "### Prepare collaborative filtering functions"
   ]
  },
  {
   "cell_type": "code",
   "execution_count": 26,
   "metadata": {},
   "outputs": [],
   "source": [
    "import math"
   ]
  },
  {
   "cell_type": "code",
   "execution_count": 27,
   "metadata": {},
   "outputs": [],
   "source": [
    "def dist(x, y):\n",
    "    '''\n",
    "    This function takes two vectors, and finds the euclidean distance\n",
    "    between them, using *only* the movies that are present in *both*\n",
    "    vectors\n",
    "    '''\n",
    "    \n",
    "    # Find the distance squared between the two vectors for each movie\n",
    "    dists = [(i-j)**2 for i, j in zip(x,y)]\n",
    "    \n",
    "    # Find the number of movies that are present in both vectors\n",
    "    n_movies = sum([pd.notnull(i) for i in dists])\n",
    "    \n",
    "    # Find the sum of distances squares for movies that are in both\n",
    "    # vectors\n",
    "    sum_dists = sum([i for i in dists if pd.notnull(i)])\n",
    "    \n",
    "    # If there are no overlapping ratings, return infinity. If not,\n",
    "    # return the square root of the standardized distance\n",
    "    if n_movies == 0:\n",
    "        return float('inf')\n",
    "    else:\n",
    "        return math.sqrt(sum_dists/n_movies)"
   ]
  },
  {
   "cell_type": "code",
   "execution_count": 28,
   "metadata": {},
   "outputs": [],
   "source": [
    "def all_dists(df, ref):\n",
    "    '''\n",
    "    This function takes two arguments\n",
    "       - df: a DataFrame in which each row contains a user, and\n",
    "             each column a movie (additional columns will be\n",
    "             ignored)\n",
    "       - ref: the index of a specific row, corresponding to a\n",
    "              specific user\n",
    "    \n",
    "    It returns a list of tuples. Each tuple corresponds to one\n",
    "    row in the original DataFrame (EXCEPT FOR REF), and contains\n",
    "    two elements:\n",
    "      - The first element is the index of that row\n",
    "      - The second element is the distance between the row, and\n",
    "        the vector ref\n",
    "    The list is returned in increasing order of distance - so\n",
    "    the first element is the closest to ref.\n",
    "    '''\n",
    "    \n",
    "    dists = []\n",
    "    \n",
    "    for user in df.index:\n",
    "        if user != ref:\n",
    "            dists.append((user, dist(df.loc[user,movies], df.loc[ref,movies])))\n",
    "    \n",
    "    # Sort the list in ascending order based on the *second*\n",
    "    # element in each tuple\n",
    "    return sorted(dists, key = lambda x : x[1])"
   ]
  },
  {
   "cell_type": "code",
   "execution_count": 29,
   "metadata": {},
   "outputs": [],
   "source": [
    "def make_preds(df, ref, k):\n",
    "    '''\n",
    "    This function accepts a DataFrame, the index of a specific row\n",
    "    (corresponding to a user), and a value of k. It then uses the\n",
    "    reamining data to make predictions for that row, using k-NN\n",
    "    \n",
    "    It accepts the following arguments:\n",
    "      - df: the DataFrame; each row is a user, each column is a\n",
    "            movie (additional columns will be ignored)\n",
    "      - ref: the index of a specific row\n",
    "      - k: the value of k to use in k-NN\n",
    "    \n",
    "    It returns a dictionary in which each entry corresponds to a\n",
    "    movie. The key is the movie name, and the value is the\n",
    "    prediction.\n",
    "    '''\n",
    "    \n",
    "    preds = {}\n",
    "    \n",
    "    # Sort the DataFrame by the distance from the ref row; the\n",
    "    # first row is the *closest* to ref\n",
    "    closest_rows = [i[0] for i in all_dists(df, ref)]\n",
    "    df_sorted = df.loc[closest_rows, :]\n",
    "    \n",
    "    # Go through each column, and make predictions\n",
    "    for movie in movies:\n",
    "        # Filter the sorted DataFrame down to those rows with ratings\n",
    "        # for that movie\n",
    "        relevant_scores = df_sorted.loc[df_sorted[movie].notnull(), movie]\n",
    "        \n",
    "        # Extract the first k scores for that movie (note that if fewer\n",
    "        # than k rows are in relevant_scores, Python will just use whatever\n",
    "        # it has)\n",
    "        relevant_scores = relevant_scores.tolist()[:k]\n",
    "        \n",
    "        # Find the average to make the prediction\n",
    "        if len(relevant_scores) == 0:\n",
    "            preds[movie] = float('nan')\n",
    "        else:\n",
    "            preds[movie] = sum(relevant_scores)/len(relevant_scores)\n",
    "        \n",
    "    return preds"
   ]
  },
  {
   "cell_type": "code",
   "execution_count": 30,
   "metadata": {},
   "outputs": [],
   "source": [
    "def get_rmse(df, k):\n",
    "    '''\n",
    "    This function finds the root-mean-squared-error that results when\n",
    "    k-NN-based collaborative filtering is applied to the data in df\n",
    "    with k neighbors.\n",
    "    \n",
    "    It accepts two arguments\n",
    "      - df: the DataFrame, in which each row is a user and each column\n",
    "            is a movie they rated. Additional columns will be ignored\n",
    "      - k: the number of neighbors\n",
    "    \n",
    "    It returns the RMSE of predictions made using k-NN.\n",
    "    '''\n",
    "    \n",
    "    sum_sq_error = 0\n",
    "    n_errors = 0\n",
    "    \n",
    "    # Go through every user in the data\n",
    "    for user in df.index:\n",
    "        # Make predictions for that user\n",
    "        preds = make_preds(df, user, k)\n",
    "        \n",
    "        # Go through every movie - if the person initially rated the\n",
    "        # movie, calculate the squraed error between what they ranked\n",
    "        # and our prediction\n",
    "        for movie in movies:\n",
    "            squared_error = (df.loc[user, movie] - preds[movie])**2\n",
    "            \n",
    "            if pd.notnull(squared_error):\n",
    "                sum_sq_error += squared_error\n",
    "                n_errors += 1\n",
    "    \n",
    "    return math.sqrt(sum_sq_error/n_errors)"
   ]
  },
  {
   "cell_type": "code",
   "execution_count": 31,
   "metadata": {},
   "outputs": [
    {
     "data": {
      "text/html": [
       "<img src onerror=\"var cell = this.closest('.code_cell');var editor = cell.querySelector('.input_area');editor.style.background='#bde4f0';this.parentNode.removeChild(this)\">"
      ],
      "text/plain": [
       "<IPython.core.display.HTML object>"
      ]
     },
     "metadata": {},
     "output_type": "display_data"
    }
   ],
   "source": [
    "optional_material()\n",
    "\n",
    "def get_row_index(df, name):\n",
    "    '''\n",
    "    This is a simple utility function which - given a DataFrame and a\n",
    "    name - will return the row index of the row in which the 'name'\n",
    "    column contains that name. The search is not case-sensitive.\n",
    "    \n",
    "    If no row contain that name, or multiple rows do, it will not\n",
    "    return anything, and print an error\n",
    "    '''\n",
    "    \n",
    "    matching_rows = df_movies[df_movies.name.str.lower().str.contains(name.lower())]\n",
    "    \n",
    "    if len(matching_rows) == 0:\n",
    "        print('No rows match this name')\n",
    "    elif len(matching_rows) > 1:\n",
    "        print(f'{len(matching_rows)} rows match this name: {matching_rows.name}')\n",
    "    else:\n",
    "        return matching_rows.index.tolist()[0]"
   ]
  },
  {
   "cell_type": "markdown",
   "metadata": {},
   "source": [
    "### Find the closest people to someone"
   ]
  },
  {
   "cell_type": "code",
   "execution_count": 32,
   "metadata": {},
   "outputs": [],
   "source": [
    "person = 'Daniel Guetta'\n",
    "person_row = get_row_index(df_movies, person)"
   ]
  },
  {
   "cell_type": "code",
   "execution_count": 33,
   "metadata": {},
   "outputs": [
    {
     "data": {
      "text/html": [
       "<div>\n",
       "<style scoped>\n",
       "    .dataframe tbody tr th:only-of-type {\n",
       "        vertical-align: middle;\n",
       "    }\n",
       "\n",
       "    .dataframe tbody tr th {\n",
       "        vertical-align: top;\n",
       "    }\n",
       "\n",
       "    .dataframe thead th {\n",
       "        text-align: right;\n",
       "    }\n",
       "</style>\n",
       "<table border=\"1\" class=\"dataframe\">\n",
       "  <thead>\n",
       "    <tr style=\"text-align: right;\">\n",
       "      <th></th>\n",
       "      <th>name</th>\n",
       "      <th>dist</th>\n",
       "    </tr>\n",
       "  </thead>\n",
       "  <tbody>\n",
       "    <tr>\n",
       "      <th>22</th>\n",
       "      <td>Minhao Liang</td>\n",
       "      <td>0.000000</td>\n",
       "    </tr>\n",
       "    <tr>\n",
       "      <th>31</th>\n",
       "      <td>Yueru Jin</td>\n",
       "      <td>0.000000</td>\n",
       "    </tr>\n",
       "    <tr>\n",
       "      <th>76</th>\n",
       "      <td>liyue Chen</td>\n",
       "      <td>0.000000</td>\n",
       "    </tr>\n",
       "    <tr>\n",
       "      <th>88</th>\n",
       "      <td>Zixuan Zhang</td>\n",
       "      <td>0.000000</td>\n",
       "    </tr>\n",
       "    <tr>\n",
       "      <th>17</th>\n",
       "      <td>Gege Zhang</td>\n",
       "      <td>0.000000</td>\n",
       "    </tr>\n",
       "    <tr>\n",
       "      <th>...</th>\n",
       "      <td>...</td>\n",
       "      <td>...</td>\n",
       "    </tr>\n",
       "    <tr>\n",
       "      <th>108</th>\n",
       "      <td>Yi Gong</td>\n",
       "      <td>2.397916</td>\n",
       "    </tr>\n",
       "    <tr>\n",
       "      <th>23</th>\n",
       "      <td>Lorelei Durand-Agache</td>\n",
       "      <td>2.489980</td>\n",
       "    </tr>\n",
       "    <tr>\n",
       "      <th>97</th>\n",
       "      <td>Anshul Sarin</td>\n",
       "      <td>2.598076</td>\n",
       "    </tr>\n",
       "    <tr>\n",
       "      <th>72</th>\n",
       "      <td>Xinfang Zhang</td>\n",
       "      <td>inf</td>\n",
       "    </tr>\n",
       "    <tr>\n",
       "      <th>120</th>\n",
       "      <td>Daniel Guetta</td>\n",
       "      <td>NaN</td>\n",
       "    </tr>\n",
       "  </tbody>\n",
       "</table>\n",
       "<p>121 rows × 2 columns</p>\n",
       "</div>"
      ],
      "text/plain": [
       "                      name      dist\n",
       "22            Minhao Liang  0.000000\n",
       "31               Yueru Jin  0.000000\n",
       "76              liyue Chen  0.000000\n",
       "88            Zixuan Zhang  0.000000\n",
       "17              Gege Zhang  0.000000\n",
       "..                     ...       ...\n",
       "108                Yi Gong  2.397916\n",
       "23   Lorelei Durand-Agache  2.489980\n",
       "97            Anshul Sarin  2.598076\n",
       "72           Xinfang Zhang       inf\n",
       "120          Daniel Guetta       NaN\n",
       "\n",
       "[121 rows x 2 columns]"
      ]
     },
     "execution_count": 33,
     "metadata": {},
     "output_type": "execute_result"
    }
   ],
   "source": [
    "# Get all the distances from this person\n",
    "dists = all_dists(df_movies, person_row)\n",
    "\n",
    "# Make a copy of the name column, and put it into a new DataFrame\n",
    "df_distances = df_movies[['name']].copy()\n",
    "\n",
    "# Create a distance colum, and start it off empty\n",
    "df_distances['dist'] = float('nan')\n",
    "\n",
    "# Fill in the distances for every person\n",
    "for i in dists:\n",
    "    df_distances.loc[i[0], 'dist'] = i[1]\n",
    "\n",
    "# Display the sorted results\n",
    "df_distances = df_distances.sort_values('dist')\n",
    "\n",
    "df_distances"
   ]
  },
  {
   "cell_type": "markdown",
   "metadata": {},
   "source": [
    "### Make useful recommendations"
   ]
  },
  {
   "cell_type": "code",
   "execution_count": 34,
   "metadata": {},
   "outputs": [],
   "source": [
    "k = 3"
   ]
  },
  {
   "cell_type": "code",
   "execution_count": 35,
   "metadata": {},
   "outputs": [],
   "source": [
    "# We want to make predictions for our person of interest, and\n",
    "# the next four closest people. Get the index for each of these\n",
    "# people\n",
    "people_of_interest = df_distances.index[:4].tolist()"
   ]
  },
  {
   "cell_type": "code",
   "execution_count": 36,
   "metadata": {},
   "outputs": [],
   "source": [
    "# Create the predictions, and put them in a DataFrame\n",
    "df_preds = {i:make_preds(df_movies, i, k) for i in people_of_interest}\n",
    "df_preds = pd.DataFrame(df_preds).transpose().round(2)"
   ]
  },
  {
   "cell_type": "code",
   "execution_count": 37,
   "metadata": {},
   "outputs": [],
   "source": [
    "# Go through the DataFrame, and remove any movies that have\n",
    "# already been watched - there's no point watching them again\n",
    "for movie in df_preds:\n",
    "    for user in df_preds.index:\n",
    "        if pd.notnull(df_movies.loc[user, movie]):\n",
    "            df_preds.loc[user, movie] = ''"
   ]
  },
  {
   "cell_type": "code",
   "execution_count": 38,
   "metadata": {},
   "outputs": [],
   "source": [
    "# Add an empty name column to the DataFrame, put it first, then\n",
    "# add the names\n",
    "df_preds['name'] = ''\n",
    "df_preds = df_preds[['name'] + movies]\n",
    "\n",
    "for user in df_preds.index:\n",
    "    df_preds.loc[user, 'name'] = df_movies.loc[user, 'name']"
   ]
  },
  {
   "cell_type": "code",
   "execution_count": 39,
   "metadata": {},
   "outputs": [
    {
     "data": {
      "text/html": [
       "<div>\n",
       "<style scoped>\n",
       "    .dataframe tbody tr th:only-of-type {\n",
       "        vertical-align: middle;\n",
       "    }\n",
       "\n",
       "    .dataframe tbody tr th {\n",
       "        vertical-align: top;\n",
       "    }\n",
       "\n",
       "    .dataframe thead th {\n",
       "        text-align: right;\n",
       "    }\n",
       "</style>\n",
       "<table border=\"1\" class=\"dataframe\">\n",
       "  <thead>\n",
       "    <tr style=\"text-align: right;\">\n",
       "      <th></th>\n",
       "      <th>name</th>\n",
       "      <th>The Godfather</th>\n",
       "      <th>Vicky Cristina Barcelona</th>\n",
       "      <th>Black Swan</th>\n",
       "      <th>Top Gun</th>\n",
       "      <th>Bourne Identity</th>\n",
       "      <th>Texas Chainsaw Massacre</th>\n",
       "      <th>Pretty Woman</th>\n",
       "      <th>Bridesmaids</th>\n",
       "      <th>Life is Beautiful</th>\n",
       "      <th>...</th>\n",
       "      <th>Inception</th>\n",
       "      <th>Working Girl</th>\n",
       "      <th>Pulp Fiction</th>\n",
       "      <th>Moneyball</th>\n",
       "      <th>Titanic</th>\n",
       "      <th>Avatar</th>\n",
       "      <th>Dark Knight</th>\n",
       "      <th>Iron Man</th>\n",
       "      <th>Crouching Tiger Hidden Dragon</th>\n",
       "      <th>National Lampoons Animal House</th>\n",
       "    </tr>\n",
       "  </thead>\n",
       "  <tbody>\n",
       "    <tr>\n",
       "      <th>22</th>\n",
       "      <td>Minhao Liang</td>\n",
       "      <td>3.67</td>\n",
       "      <td>3.67</td>\n",
       "      <td>4.0</td>\n",
       "      <td>3.0</td>\n",
       "      <td>4.00</td>\n",
       "      <td>2.33</td>\n",
       "      <td>3.67</td>\n",
       "      <td>2.67</td>\n",
       "      <td>4.33</td>\n",
       "      <td>...</td>\n",
       "      <td>4.67</td>\n",
       "      <td>2.00</td>\n",
       "      <td>3.33</td>\n",
       "      <td>3.33</td>\n",
       "      <td>4.67</td>\n",
       "      <td></td>\n",
       "      <td>3.33</td>\n",
       "      <td></td>\n",
       "      <td>3.33</td>\n",
       "      <td>4.33</td>\n",
       "    </tr>\n",
       "    <tr>\n",
       "      <th>31</th>\n",
       "      <td>Yueru Jin</td>\n",
       "      <td>4.0</td>\n",
       "      <td>3.67</td>\n",
       "      <td>3.0</td>\n",
       "      <td>3.67</td>\n",
       "      <td>4.00</td>\n",
       "      <td>2.67</td>\n",
       "      <td>4.00</td>\n",
       "      <td>4.00</td>\n",
       "      <td>4.33</td>\n",
       "      <td>...</td>\n",
       "      <td>4.33</td>\n",
       "      <td>1.67</td>\n",
       "      <td>4.67</td>\n",
       "      <td>4.33</td>\n",
       "      <td></td>\n",
       "      <td>4.0</td>\n",
       "      <td>5.0</td>\n",
       "      <td>4.67</td>\n",
       "      <td>4.33</td>\n",
       "      <td>4.00</td>\n",
       "    </tr>\n",
       "    <tr>\n",
       "      <th>76</th>\n",
       "      <td>liyue Chen</td>\n",
       "      <td>3.67</td>\n",
       "      <td>4.33</td>\n",
       "      <td>3.0</td>\n",
       "      <td>3.67</td>\n",
       "      <td>4.00</td>\n",
       "      <td>2.33</td>\n",
       "      <td>4.00</td>\n",
       "      <td>2.67</td>\n",
       "      <td></td>\n",
       "      <td>...</td>\n",
       "      <td></td>\n",
       "      <td>3.00</td>\n",
       "      <td>4.00</td>\n",
       "      <td>4.67</td>\n",
       "      <td></td>\n",
       "      <td></td>\n",
       "      <td>4.67</td>\n",
       "      <td></td>\n",
       "      <td>4.67</td>\n",
       "      <td>4.00</td>\n",
       "    </tr>\n",
       "    <tr>\n",
       "      <th>88</th>\n",
       "      <td>Zixuan Zhang</td>\n",
       "      <td></td>\n",
       "      <td>4.33</td>\n",
       "      <td>3.0</td>\n",
       "      <td></td>\n",
       "      <td>3.67</td>\n",
       "      <td>3.00</td>\n",
       "      <td>4.33</td>\n",
       "      <td>2.67</td>\n",
       "      <td></td>\n",
       "      <td>...</td>\n",
       "      <td></td>\n",
       "      <td>3.00</td>\n",
       "      <td>4.00</td>\n",
       "      <td>4.67</td>\n",
       "      <td></td>\n",
       "      <td></td>\n",
       "      <td></td>\n",
       "      <td></td>\n",
       "      <td></td>\n",
       "      <td>4.00</td>\n",
       "    </tr>\n",
       "  </tbody>\n",
       "</table>\n",
       "<p>4 rows × 21 columns</p>\n",
       "</div>"
      ],
      "text/plain": [
       "            name The Godfather  Vicky Cristina Barcelona  Black Swan Top Gun  \\\n",
       "22  Minhao Liang          3.67                      3.67         4.0     3.0   \n",
       "31     Yueru Jin           4.0                      3.67         3.0    3.67   \n",
       "76    liyue Chen          3.67                      4.33         3.0    3.67   \n",
       "88  Zixuan Zhang                                    4.33         3.0           \n",
       "\n",
       "    Bourne Identity  Texas Chainsaw Massacre  Pretty Woman  Bridesmaids  \\\n",
       "22             4.00                     2.33          3.67         2.67   \n",
       "31             4.00                     2.67          4.00         4.00   \n",
       "76             4.00                     2.33          4.00         2.67   \n",
       "88             3.67                     3.00          4.33         2.67   \n",
       "\n",
       "   Life is Beautiful  ...  Inception Working Girl  Pulp Fiction  Moneyball  \\\n",
       "22              4.33  ...       4.67         2.00          3.33       3.33   \n",
       "31              4.33  ...       4.33         1.67          4.67       4.33   \n",
       "76                    ...                    3.00          4.00       4.67   \n",
       "88                    ...                    3.00          4.00       4.67   \n",
       "\n",
       "    Titanic Avatar Dark Knight Iron Man Crouching Tiger Hidden Dragon  \\\n",
       "22     4.67               3.33                                   3.33   \n",
       "31             4.0         5.0     4.67                          4.33   \n",
       "76                        4.67                                   4.67   \n",
       "88                                                                      \n",
       "\n",
       "   National Lampoons Animal House  \n",
       "22                           4.33  \n",
       "31                           4.00  \n",
       "76                           4.00  \n",
       "88                           4.00  \n",
       "\n",
       "[4 rows x 21 columns]"
      ]
     },
     "execution_count": 39,
     "metadata": {},
     "output_type": "execute_result"
    }
   ],
   "source": [
    "df_preds"
   ]
  },
  {
   "cell_type": "markdown",
   "metadata": {},
   "source": [
    "### Find the best value of k"
   ]
  },
  {
   "cell_type": "code",
   "execution_count": 40,
   "metadata": {},
   "outputs": [
    {
     "name": "stderr",
     "output_type": "stream",
     "text": [
      "100%|██████████████████████████████████████████████████████████████████████████████████| 10/10 [01:45<00:00, 10.57s/it]\n"
     ]
    },
    {
     "data": {
      "image/png": "[encoded data removed]",
      "text/plain": [
       "<Figure size 432x288 with 1 Axes>"
      ]
     },
     "metadata": {
      "needs_background": "light"
     },
     "output_type": "display_data"
    }
   ],
   "source": [
    "# Try values of k from 1 to 10, and find the mean squared error\n",
    "# for each\n",
    "mses = []\n",
    "candidate_ks = range(1, 11)\n",
    "import tqdm\n",
    "for k in tqdm.tqdm(candidate_ks):\n",
    "    mses.append(get_rmse(df_movies, k))\n",
    "    \n",
    "plt.plot(range(1,11), mses)\n",
    "plt.xlabel('k')\n",
    "plt.ylabel('RMSE')\n",
    "sns.despine()"
   ]
  },
  {
   "cell_type": "code",
   "execution_count": 41,
   "metadata": {},
   "outputs": [
    {
     "data": {
      "text/plain": [
       "0.5089609632731398"
      ]
     },
     "execution_count": 41,
     "metadata": {},
     "output_type": "execute_result"
    }
   ],
   "source": [
    "min(mses)"
   ]
  },
  {
   "cell_type": "code",
   "execution_count": 42,
   "metadata": {},
   "outputs": [],
   "source": [
    "best_k = candidate_ks[mses.index(min(mses))]"
   ]
  },
  {
   "cell_type": "code",
   "execution_count": 43,
   "metadata": {},
   "outputs": [],
   "source": [
    "# (Note that in reality, we should split the data into a training and\n",
    "# test set before finding the best k)"
   ]
  },
  {
   "cell_type": "markdown",
   "metadata": {},
   "source": [
    "### A practical system"
   ]
  },
  {
   "cell_type": "code",
   "execution_count": 44,
   "metadata": {},
   "outputs": [],
   "source": [
    "def movie_rec_system(person = 'Daniel Guetta', people_to_show=4):\n",
    "    if person == '':\n",
    "        return\n",
    "    \n",
    "    # Find the row for this person\n",
    "    person_row = get_row_index(df_movies, person)\n",
    "\n",
    "    # Get all the distances from this person; these will be returned\n",
    "    # in order\n",
    "    dists = all_dists(df_movies, person_row)\n",
    "    \n",
    "    # The first people_to_show need to appear in the output DataFrame,\n",
    "    # as well as the user of interest\n",
    "    output_users = [person_row] + [i[0] for i in dists[:people_to_show]]\n",
    "    \n",
    "    # Make predictions for every person using k-NN, and put\n",
    "    # them in a DataFrame\n",
    "    df_preds = {i:make_preds(df_movies, i, best_k) for i in output_users}\n",
    "    df_preds = pd.DataFrame(df_preds).transpose().round(2)\n",
    "\n",
    "    # Remove all movies that the user has already seen\n",
    "    for movie in df_preds:\n",
    "        for user in df_preds.index:\n",
    "            if pd.notnull(df_movies.loc[user, movie]):\n",
    "                df_preds.loc[user, movie] = ''\n",
    "    \n",
    "    # For each person in the list, get the movies they AND the person\n",
    "    # of interest have no watched. Find the one with the highest\n",
    "    # average rating, and recommend it as the one the two should\n",
    "    # watch\n",
    "    print('The following are the best movies to watch with the people closest to you:')\n",
    "    for u in output_users[1:]:\n",
    "        # Get a DataFrame with only the user of interest and this user\n",
    "        df = df_preds.loc[[person_row, u], :]\n",
    "        \n",
    "        # Only keep columns in which there are no missing entries\n",
    "        df = df[df.columns[(df == '').sum() == 0]]\n",
    "        \n",
    "        # Find the mean score, and sort by the result\n",
    "        df = df.mean().sort_values(ascending=False)\n",
    "        \n",
    "        # Print\n",
    "        print('  - Best movie to watch with ' + df_movies.loc[u, 'name'] + ' is ' + df.index[0])\n",
    "            \n",
    "    # Add names to the DataFrame\n",
    "    df_preds.insert(0, 'Name', df_movies.loc[output_users, 'name'])\n",
    "    \n",
    "    # Print out the DataFrame\n",
    "    print('These recommendations were based on the following data')\n",
    "    \n",
    "    return df_preds"
   ]
  },
  {
   "cell_type": "code",
   "execution_count": 45,
   "metadata": {},
   "outputs": [],
   "source": [
    "from ipywidgets import interact, IntSlider, Combobox"
   ]
  },
  {
   "cell_type": "code",
   "execution_count": 46,
   "metadata": {},
   "outputs": [
    {
     "data": {
      "application/vnd.jupyter.widget-view+json": {
       "model_id": "3efeaf381fd44c82b13b3f3434064d4a",
       "version_major": 2,
       "version_minor": 0
      },
      "text/plain": [
       "interactive(children=(Combobox(value='', description='Pick a person', ensure_option=True, options=('Jiaping Zh…"
      ]
     },
     "metadata": {},
     "output_type": "display_data"
    },
    {
     "data": {
      "text/plain": [
       "<function __main__.movie_rec_system(person='Daniel Guetta', people_to_show=4)>"
      ]
     },
     "execution_count": 46,
     "metadata": {},
     "output_type": "execute_result"
    }
   ],
   "source": [
    "interact(movie_rec_system,\n",
    "            person=Combobox(placeholder='',\n",
    "                            options=df_movies.name.tolist(),\n",
    "                            description='Pick a person',\n",
    "                            ensure_option=True,\n",
    "                            disabled=False),\n",
    "            people_to_show = IntSlider(description='# people to show', min=2, max=10))"
   ]
  },
  {
   "cell_type": "markdown",
   "metadata": {},
   "source": [
    "# Model-based collaborative filtering"
   ]
  },
  {
   "cell_type": "code",
   "execution_count": 47,
   "metadata": {},
   "outputs": [],
   "source": [
    "# Number of latent factors\n",
    "f = 2"
   ]
  },
  {
   "cell_type": "markdown",
   "metadata": {},
   "source": [
    "### Basic version"
   ]
  },
  {
   "cell_type": "code",
   "execution_count": 48,
   "metadata": {},
   "outputs": [],
   "source": [
    "# Create DataFrames to store the parameters\n",
    "\n",
    "# Movie attributes\n",
    "a = pd.DataFrame(0, index=range(f), columns=movies)\n",
    "\n",
    "# User personas\n",
    "p = pd.DataFrame(0, index=range(f), columns=df_movies.index)\n",
    "\n",
    "# Go through the parameter DataFrames, and fill then with random values\n",
    "import numpy as np\n",
    "np.random.seed(123)\n",
    "for df in [a, p]:\n",
    "    for user in df.index:\n",
    "        for movie in df:\n",
    "            df.loc[user, movie] = np.random.uniform()"
   ]
  },
  {
   "cell_type": "code",
   "execution_count": 49,
   "metadata": {},
   "outputs": [],
   "source": [
    "def make_pred(user, movie):\n",
    "    '''\n",
    "    This function will take a user ID and a movie, and make a prediction\n",
    "    based on the current set of parameters.\n",
    "    '''    \n",
    "    return(a[movie]*p[user]).sum()"
   ]
  },
  {
   "cell_type": "code",
   "execution_count": 50,
   "metadata": {},
   "outputs": [],
   "source": [
    "def get_rmse():\n",
    "    '''\n",
    "    Given the current parameters, this function calculates the RMSE of\n",
    "    predictions\n",
    "    '''\n",
    "    \n",
    "    total_error = 0\n",
    "    n_errors = 0\n",
    "    \n",
    "    for user in df_movies.index:\n",
    "        for movie in movies:\n",
    "            if pd.notnull(df_movies.loc[user, movie]):\n",
    "                total_error += (df_movies.loc[user, movie] - make_pred(user, movie))**2\n",
    "                n_errors += 1\n",
    "    \n",
    "    return (total_error/n_errors)"
   ]
  },
  {
   "cell_type": "code",
   "execution_count": 51,
   "metadata": {},
   "outputs": [],
   "source": [
    "def sgd_step():\n",
    "    '''\n",
    "    This function takes a single step in the stochastic gradient descent\n",
    "    algorithm, going through every rating once to update the parameters\n",
    "    '''\n",
    "    \n",
    "    for user in df_movies.index:\n",
    "        for movie in movies:\n",
    "            if pd.notnull(df_movies.loc[user, movie]):\n",
    "                # Calculate the error for this rating\n",
    "                error = df_movies.loc[user, movie] - make_pred(user, movie)\n",
    "                \n",
    "                # Take a step in the direction of the gradient\n",
    "                a[movie] += gamma*error*p[user]\n",
    "                p[user] += gamma*error*a[movie]"
   ]
  },
  {
   "cell_type": "code",
   "execution_count": 52,
   "metadata": {
    "scrolled": false
   },
   "outputs": [
    {
     "data": {
      "image/png": "[encoded data removed]",
      "text/plain": [
       "<Figure size 720x432 with 1 Axes>"
      ]
     },
     "metadata": {},
     "output_type": "display_data"
    },
    {
     "data": {
      "image/png": "[encoded data removed]",
      "text/plain": [
       "<Figure size 720x432 with 1 Axes>"
      ]
     },
     "metadata": {
      "needs_background": "light"
     },
     "output_type": "display_data"
    }
   ],
   "source": [
    "# Perform stochastic gradient descent\n",
    "\n",
    "# Learning rate/step size\n",
    "gamma = 0.02\n",
    "\n",
    "# Number of steps\n",
    "n_steps = 100\n",
    "\n",
    "# Prepare to plot dynamically\n",
    "from IPython import display\n",
    "\n",
    "rmses = [get_rmse()]\n",
    "for i in range(n_steps):\n",
    "    # Clear the plot and the display\n",
    "    plt.close()\n",
    "    display.clear_output(wait=True)\n",
    "    \n",
    "    # Plot the 4th step onward (so as not to distort the axis with\n",
    "    # the first two steps which will be terrible)\n",
    "    fig, axes = plt.subplots(1, 1, figsize=(10,6))\n",
    "    axes.plot(range(4, len(rmses)), rmses[4:], marker='x')\n",
    "    axes.set_xlabel('Number of SGD steps')\n",
    "    axes.set_ylabel('RMSE')\n",
    "    sns.despine()\n",
    "    display.display(plt.gcf())\n",
    "    \n",
    "    # Carry out a stochastic gradient descent step, and calculate\n",
    "    # the RMSE\n",
    "    sgd_step()\n",
    "    rmses.append(get_rmse())"
   ]
  },
  {
   "cell_type": "code",
   "execution_count": 53,
   "metadata": {},
   "outputs": [
    {
     "name": "stdout",
     "output_type": "stream",
     "text": [
      "0.5444531134534666\n"
     ]
    }
   ],
   "source": [
    "print(rmses[-1])"
   ]
  },
  {
   "cell_type": "markdown",
   "metadata": {},
   "source": [
    "### Including fixed effects"
   ]
  },
  {
   "cell_type": "code",
   "execution_count": 54,
   "metadata": {},
   "outputs": [],
   "source": [
    "# Create DataFrames to store the parameters\n",
    "\n",
    "import numpy as np\n",
    "np.random.seed(123)\n",
    "\n",
    "# Movie attributes and fixed effects\n",
    "a = pd.DataFrame(0, index=range(f), columns=movies)\n",
    "alpha = {i:np.random.uniform() for i in movies}\n",
    "\n",
    "# User personas and fixed effects\n",
    "p = pd.DataFrame(0, index=range(f), columns=df_movies.index)\n",
    "pi = {i:np.random.uniform() for i in df_movies.index}\n",
    "\n",
    "# Mean rating\n",
    "mu = [np.random.uniform()]\n",
    "\n",
    "# Gender effect\n",
    "phi = [np.random.uniform()]\n",
    "\n",
    "# Go through the parameter DataFrames, and fill then with random values\n",
    "for df in [a, p]:\n",
    "    for user in df.index:\n",
    "        for movie in df:\n",
    "            df.loc[user, movie] = np.random.uniform()"
   ]
  },
  {
   "cell_type": "code",
   "execution_count": 55,
   "metadata": {},
   "outputs": [],
   "source": [
    "def make_pred(user, movie):\n",
    "    '''\n",
    "    This function will take a user ID and a movie, and make a prediction\n",
    "    based on the current set of parameters.\n",
    "    '''\n",
    "    \n",
    "    pred = (a[movie]*p[user]).sum() + mu[0] + alpha[movie] + pi[user]\n",
    "    \n",
    "    # If the user is a woman, add that fixed effect\n",
    "    if df_movies.loc[user, 'gender'] == 'F':\n",
    "        pred += phi[0]\n",
    "    \n",
    "    return pred"
   ]
  },
  {
   "cell_type": "code",
   "execution_count": 56,
   "metadata": {},
   "outputs": [],
   "source": [
    "# The get_rmse function doesn't change, it'll just use the updated\n",
    "# make_prediction"
   ]
  },
  {
   "cell_type": "code",
   "execution_count": 57,
   "metadata": {},
   "outputs": [],
   "source": [
    "def sgd_step():\n",
    "    '''\n",
    "    This function takes a single step in the stochastic gradient descent\n",
    "    algorithm, going through every rating once to update the parameters\n",
    "    '''\n",
    "    \n",
    "    for user in df_movies.index:\n",
    "        for movie in movies:\n",
    "            if pd.notnull(df_movies.loc[user, movie]):\n",
    "                # Calculate the error for this rating\n",
    "                error = df_movies.loc[user, movie] - make_pred(user, movie)\n",
    "                \n",
    "                # Take a step in the direction of the gradient\n",
    "                a[movie]     += gamma*error*p[user]\n",
    "                p[user]      += gamma*error*a[movie]\n",
    "                mu[0]        += gamma*error\n",
    "                alpha[movie] += gamma*error\n",
    "                pi[user]     += gamma*error\n",
    "                \n",
    "                if df_movies.loc[user, 'gender'] == 'F':\n",
    "                    phi[0] += gamma*error"
   ]
  },
  {
   "cell_type": "code",
   "execution_count": 58,
   "metadata": {
    "scrolled": false
   },
   "outputs": [
    {
     "data": {
      "image/png": "[encoded data removed]",
      "text/plain": [
       "<Figure size 720x432 with 1 Axes>"
      ]
     },
     "metadata": {},
     "output_type": "display_data"
    },
    {
     "data": {
      "image/png": "[encoded data removed]",
      "text/plain": [
       "<Figure size 720x432 with 1 Axes>"
      ]
     },
     "metadata": {
      "needs_background": "light"
     },
     "output_type": "display_data"
    }
   ],
   "source": [
    "# Perform stochastic gradient descent\n",
    "\n",
    "# Learning rate/step size\n",
    "gamma = 0.02\n",
    "\n",
    "# Number of steps\n",
    "n_steps = 100\n",
    "\n",
    "# Prepare to plot dynamically\n",
    "from IPython import display\n",
    "\n",
    "rmses = [get_rmse()]\n",
    "for i in range(n_steps):\n",
    "    # Clear the plot and the display\n",
    "    plt.close()\n",
    "    display.clear_output(wait=True)\n",
    "    \n",
    "    # Plot the 4th step onward (so as not to distord the axis with\n",
    "    # the first two steps which will be terrible)\n",
    "    fig, axes = plt.subplots(1, 1, figsize=(10,6))\n",
    "    axes.plot(range(4, len(rmses)), rmses[4:], marker='x')\n",
    "    axes.set_xlabel('Number of SGD steps')\n",
    "    axes.set_ylabel('RMSE')\n",
    "    sns.despine()\n",
    "    display.display(plt.gcf())\n",
    "    \n",
    "    # Carry out a stochastic gradient descent step, and calculate\n",
    "    # the RMSE\n",
    "    sgd_step()\n",
    "    rmses.append(get_rmse())"
   ]
  },
  {
   "cell_type": "code",
   "execution_count": 59,
   "metadata": {},
   "outputs": [
    {
     "name": "stdout",
     "output_type": "stream",
     "text": [
      "0.4102191131249827\n"
     ]
    }
   ],
   "source": [
    "print(rmses[-1])"
   ]
  },
  {
   "cell_type": "code",
   "execution_count": 60,
   "metadata": {},
   "outputs": [
    {
     "data": {
      "image/png": "[encoded data removed]",
      "text/plain": [
       "<Figure size 936x936 with 1 Axes>"
      ]
     },
     "metadata": {
      "needs_background": "light"
     },
     "output_type": "display_data"
    }
   ],
   "source": [
    "# Plot the movie attributes\n",
    "fig, axes = plt.subplots(1, 1, figsize=(13, 13))\n",
    "\n",
    "axes.plot(a.loc[0,:], a.loc[1,:], marker='x', linewidth=0)\n",
    "\n",
    "axes.set_xlabel('Attribute 1')\n",
    "axes.set_xlabel('Attribute 2')\n",
    "\n",
    "for c in a:\n",
    "    axes.text(a.loc[0, c], a.loc[1, c], c)\n",
    "\n",
    "sns.despine()"
   ]
  },
  {
   "cell_type": "code",
   "execution_count": 61,
   "metadata": {},
   "outputs": [
    {
     "data": {
      "text/plain": [
       "Iron Man                         -0.577136\n",
       "Texas Chainsaw Massacre          -0.567978\n",
       "Pretty Woman                     -0.152775\n",
       "National Lampoons Animal House   -0.119873\n",
       "Working Girl                      0.044659\n",
       "Avatar                            0.073423\n",
       "Bridesmaids                       0.309215\n",
       "Titanic                           0.499575\n",
       "Vicky Cristina Barcelona          0.540915\n",
       "Y Tu Mam Tambin                   0.566716\n",
       "Crouching Tiger Hidden Dragon     0.578363\n",
       "Bourne Identity                   0.726599\n",
       "Moneyball                         0.744853\n",
       "Top Gun                           0.793195\n",
       "Black Swan                        1.064641\n",
       "Life is Beautiful                 1.186204\n",
       "Dark Knight                       1.268231\n",
       "Inception                         1.488327\n",
       "The Godfather                     1.576694\n",
       "Pulp Fiction                      1.671313\n",
       "dtype: float64"
      ]
     },
     "execution_count": 61,
     "metadata": {},
     "output_type": "execute_result"
    }
   ],
   "source": [
    "# View the movie fixed effect\n",
    "pd.Series(alpha).sort_values()"
   ]
  },
  {
   "cell_type": "code",
   "execution_count": 62,
   "metadata": {},
   "outputs": [
    {
     "data": {
      "text/plain": [
       "[0.9275842401521475]"
      ]
     },
     "execution_count": 62,
     "metadata": {},
     "output_type": "execute_result"
    }
   ],
   "source": [
    "# View the gender fixed effect\n",
    "phi"
   ]
  }
 ],
 "metadata": {
  "kernelspec": {
   "display_name": "Python 3",
   "language": "python",
   "name": "python3"
  },
  "language_info": {
   "codemirror_mode": {
    "name": "ipython",
    "version": 3
   },
   "file_extension": ".py",
   "mimetype": "text/x-python",
   "name": "python",
   "nbconvert_exporter": "python",
   "pygments_lexer": "ipython3",
   "version": "3.8.5"
  }
 },
 "nbformat": 4,
 "nbformat_minor": 4
}
