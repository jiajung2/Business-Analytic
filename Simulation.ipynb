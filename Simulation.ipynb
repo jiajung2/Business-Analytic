{
 "cells": [
  {
   "cell_type": "markdown",
   "metadata": {},
   "source": [
    "# Business Analytics\n",
    "## Simulation\n",
    "(C) 2021"
   ]
  },
  {
   "cell_type": "code",
   "execution_count": 1,
   "metadata": {},
   "outputs": [
    {
     "data": {
      "text/html": [
       "<img src onerror=\"var cell = this.closest('.code_cell');var editor = cell.querySelector('.input_area');editor.style.background='#bde4f0';this.parentNode.removeChild(this)\">"
      ],
      "text/plain": [
       "<IPython.core.display.HTML object>"
      ]
     },
     "metadata": {},
     "output_type": "display_data"
    },
    {
     "data": {
      "text/html": [
       "<style>.container { width:900px !important; }</style>"
      ],
      "text/plain": [
       "<IPython.core.display.HTML object>"
      ]
     },
     "metadata": {},
     "output_type": "display_data"
    }
   ],
   "source": [
    "from IPython.display import HTML, display\n",
    "\n",
    "def optional_material():\n",
    "    '''\n",
    "    When run in a cell, this function will color the cell blue to indicate\n",
    "    the material is optional\n",
    "    '''\n",
    "    script =  \"var cell = this.closest('.code_cell');\"\n",
    "    script += \"var editor = cell.querySelector('.input_area');\"\n",
    "    script += \"editor.style.background='#bde4f0';\"\n",
    "    script += \"this.parentNode.removeChild(this)\"\n",
    "    \n",
    "    display(HTML(f'<img src onerror=\"{script}\">'))\n",
    "    \n",
    "optional_material()\n",
    "\n",
    "from IPython.core.display import display, HTML\n",
    "display(HTML(\"<style>.container { width:900px !important; }</style>\"))"
   ]
  },
  {
   "cell_type": "markdown",
   "metadata": {},
   "source": [
    "# Random numbers in Python"
   ]
  },
  {
   "cell_type": "code",
   "execution_count": 2,
   "metadata": {},
   "outputs": [],
   "source": [
    "import numpy as np"
   ]
  },
  {
   "cell_type": "code",
   "execution_count": 3,
   "metadata": {},
   "outputs": [],
   "source": [
    "np.random.seed(123)"
   ]
  },
  {
   "cell_type": "code",
   "execution_count": 4,
   "metadata": {},
   "outputs": [
    {
     "data": {
      "text/plain": [
       "array([0.69646919, 0.28613933, 0.22685145, 0.55131477, 0.71946897,\n",
       "       0.42310646, 0.9807642 , 0.68482974, 0.4809319 , 0.39211752])"
      ]
     },
     "execution_count": 4,
     "metadata": {},
     "output_type": "execute_result"
    }
   ],
   "source": [
    "np.random.uniform(size=10)"
   ]
  },
  {
   "cell_type": "code",
   "execution_count": 5,
   "metadata": {},
   "outputs": [
    {
     "data": {
      "text/plain": [
       "array([0, 1, 0, 0, 0, 1, 0, 0, 0, 0])"
      ]
     },
     "execution_count": 5,
     "metadata": {},
     "output_type": "execute_result"
    }
   ],
   "source": [
    "np.random.binomial(n=1, p=0.4, size=10)"
   ]
  },
  {
   "cell_type": "code",
   "execution_count": 6,
   "metadata": {},
   "outputs": [
    {
     "data": {
      "text/plain": [
       "array([ 1.0040539 ,  0.3861864 ,  0.73736858,  1.49073203, -0.93583387,\n",
       "        1.17582904, -1.25388067, -0.6377515 ,  0.9071052 , -1.4286807 ])"
      ]
     },
     "execution_count": 6,
     "metadata": {},
     "output_type": "execute_result"
    }
   ],
   "source": [
    "np.random.normal(loc=0, scale=1, size=10)"
   ]
  },
  {
   "cell_type": "markdown",
   "metadata": {},
   "source": [
    "# Simulation in Python"
   ]
  },
  {
   "cell_type": "code",
   "execution_count": 7,
   "metadata": {},
   "outputs": [],
   "source": [
    "def average_n_tests(p, n=5000, seed=123):\n",
    "    '''\n",
    "    This function uses simulation to calculate the number of\n",
    "    COVID tests required per individual when using a pooled-\n",
    "    testing procedure, pooling 5 tests at once.\n",
    "    \n",
    "    It accepts four arguments:\n",
    "      - p: the proportion of the population that is COVID\n",
    "           positive\n",
    "      - n: the number of simulations to use\n",
    "      - seed: the seed to use for the simulation\n",
    "    \n",
    "    It returns the average number of tests required over all\n",
    "    simulations.\n",
    "    '''\n",
    "    \n",
    "    # Seed the random number generator\n",
    "    np.random.seed(seed)\n",
    "    \n",
    "    # Create a list to store the number of tests per person\n",
    "    # required in each of our simulations\n",
    "    n_tests = []\n",
    "\n",
    "    for i in range(n):\n",
    "        # Simulate the five people we're pooling; each will be\n",
    "        # drawn from a Bernoulli random variable with probability\n",
    "        # equal to the proportion of the population that is\n",
    "        # COVID +ive\n",
    "        s = np.random.binomial(n=1, p=p, size=5)\n",
    "        \n",
    "        if max(s) == 1:\n",
    "            # If max(s) is 1, then at least once person is +ve;\n",
    "            # the outcome of the test will be a bernouli RV\n",
    "            # with p=0.9 (the sensitivity of the test)\n",
    "            T = np.random.binomial(n=1, p=0.9)\n",
    "        else:\n",
    "            # If max(s) is 0, then everyone in the pool is\n",
    "            # negative\n",
    "            T = np.random.binomial(n=1, p=0.02)\n",
    "        \n",
    "        if T == 0:\n",
    "            # If the test was negative, it only takes one test\n",
    "            # to test someone\n",
    "            n_tests.append(0.2)\n",
    "        else:\n",
    "            # If the test was positive, we need to test every\n",
    "            # person again, so it takes 1.2 tests per person\n",
    "            n_tests.append(1.2)\n",
    "    \n",
    "    return np.mean(n_tests)"
   ]
  },
  {
   "cell_type": "code",
   "execution_count": 8,
   "metadata": {},
   "outputs": [
    {
     "data": {
      "text/plain": [
       "0.7999999999999999"
      ]
     },
     "execution_count": 8,
     "metadata": {},
     "output_type": "execute_result"
    }
   ],
   "source": [
    "average_n_tests(0.2)"
   ]
  },
  {
   "cell_type": "code",
   "execution_count": 9,
   "metadata": {},
   "outputs": [
    {
     "data": {
      "text/plain": [
       "1.0928"
      ]
     },
     "execution_count": 9,
     "metadata": {},
     "output_type": "execute_result"
    }
   ],
   "source": [
    "average_n_tests(0.9)"
   ]
  },
  {
   "cell_type": "code",
   "execution_count": 10,
   "metadata": {
    "scrolled": true
   },
   "outputs": [],
   "source": [
    "ps = np.linspace(0, 1, num=30)\n",
    "av_n_tests = [average_n_tests(p) for p in ps]"
   ]
  },
  {
   "cell_type": "code",
   "execution_count": 11,
   "metadata": {},
   "outputs": [
    {
     "data": {
      "image/png": "[encoded data removed]",
      "text/plain": [
       "<Figure size 720x432 with 1 Axes>"
      ]
     },
     "metadata": {
      "needs_background": "light"
     },
     "output_type": "display_data"
    }
   ],
   "source": [
    "import matplotlib.pyplot as plt\n",
    "import seaborn as sns\n",
    "\n",
    "plt.figure(figsize=(10, 6))\n",
    "plt.plot(ps, av_n_tests)\n",
    "plt.plot([0, 1], [1, 1], linestyle='--')\n",
    "plt.xlabel('Proportion of population infected', fontsize=20)\n",
    "plt.ylabel('Av. tests needed per person', fontsize=20)\n",
    "plt.xticks(fontsize=20)\n",
    "plt.yticks(fontsize=20)\n",
    "sns.despine()"
   ]
  },
  {
   "cell_type": "markdown",
   "metadata": {},
   "source": [
    "# Simulation Accuracy"
   ]
  },
  {
   "cell_type": "code",
   "execution_count": 12,
   "metadata": {},
   "outputs": [],
   "source": [
    "def average_n_tests(p, n=5000, seed=123):\n",
    "    '''\n",
    "    This function uses simulation to calculate the number of\n",
    "    COVID tests required per individual when using a pooled-\n",
    "    testing procedure, pooling 5 tests at once.\n",
    "    \n",
    "    It accepts four arguments:\n",
    "      - p: the proportion of the population that is COVID\n",
    "           positive\n",
    "      - n: the number of simulations to use\n",
    "      - seed: the seed to use for the simulation\n",
    "    \n",
    "    It returns a list containing the average number of tests\n",
    "    required over all simulations, as well as the standard\n",
    "    deviation of that number.\n",
    "    '''\n",
    "        \n",
    "    # Seed the random number generator\n",
    "    np.random.seed(seed)\n",
    "    \n",
    "    # Create a list to store the number of tests per person\n",
    "    # required in each of our simulations\n",
    "    n_tests = []\n",
    "\n",
    "    for i in range(n):\n",
    "        # Simulate the five people we're pooling; each will be\n",
    "        # drawn from a Bernoulli random variable with probability\n",
    "        # equal to the proportion of the population that is\n",
    "        # COVID +ive\n",
    "        s = np.random.binomial(n=1, p=p, size=5)\n",
    "        \n",
    "        if max(s) == 1:\n",
    "            # If max(s) is 1, then at least once person is +ve;\n",
    "            # the outcome of the test will be a bernouli RV\n",
    "            # with p=0.9 (the sensitivity of the test)\n",
    "            T = np.random.binomial(n=1, p=0.9)\n",
    "        else:\n",
    "            # If max(s) is 0, then everyone in the pool is\n",
    "            # negative\n",
    "            T = np.random.binomial(n=1, p=0.02)\n",
    "        \n",
    "        if T == 0:\n",
    "            # If the test was negative, it only takes one test\n",
    "            # to test someone\n",
    "            n_tests.append(0.2)\n",
    "        else:\n",
    "            # If the test was positive, we need to test every\n",
    "            # person again, so it takes 1.2 tests per person\n",
    "            n_tests.append(1.2)\n",
    "    \n",
    "    return [np.mean(n_tests), np.std(n_tests)]"
   ]
  },
  {
   "cell_type": "code",
   "execution_count": 13,
   "metadata": {},
   "outputs": [
    {
     "name": "stdout",
     "output_type": "stream",
     "text": [
      "95% CI: 0.7864-0.8136\n"
     ]
    }
   ],
   "source": [
    "n = 5000\n",
    "mu, sigma = average_n_tests(0.2, n=n)\n",
    "print(f'95% CI: {round(mu - 1.96*sigma/np.sqrt(n),4)}-{round(mu + 1.96*sigma/np.sqrt(n),4)}')"
   ]
  },
  {
   "cell_type": "code",
   "execution_count": 14,
   "metadata": {},
   "outputs": [
    {
     "name": "stderr",
     "output_type": "stream",
     "text": [
      "100%|██████████| 500/500 [00:13<00:00, 36.03it/s]\n"
     ]
    }
   ],
   "source": [
    "from tqdm import tqdm\n",
    "\n",
    "means = []\n",
    "\n",
    "for i in tqdm(range(500)):\n",
    "    mu, _ = average_n_tests(0.2, n=n, seed=i)\n",
    "    means.append(mu)"
   ]
  },
  {
   "cell_type": "code",
   "execution_count": 15,
   "metadata": {},
   "outputs": [
    {
     "data": {
      "text/plain": [
       "0.798295"
      ]
     },
     "execution_count": 15,
     "metadata": {},
     "output_type": "execute_result"
    }
   ],
   "source": [
    "np.quantile(means, 0.025)"
   ]
  },
  {
   "cell_type": "code",
   "execution_count": 16,
   "metadata": {},
   "outputs": [
    {
     "data": {
      "text/plain": [
       "0.8253050000000001"
      ]
     },
     "execution_count": 16,
     "metadata": {},
     "output_type": "execute_result"
    }
   ],
   "source": [
    "np.quantile(means, 0.975)"
   ]
  },
  {
   "cell_type": "code",
   "execution_count": 17,
   "metadata": {},
   "outputs": [
    {
     "data": {
      "image/png": "[encoded data removed]",
      "text/plain": [
       "<Figure size 936x576 with 1 Axes>"
      ]
     },
     "metadata": {
      "needs_background": "light"
     },
     "output_type": "display_data"
    }
   ],
   "source": [
    "import seaborn as sns\n",
    "\n",
    "plt.figure(figsize=(13, 8))\n",
    "sns.histplot(means, stat='density', kde=True)\n",
    "plt.xticks(fontsize=20)\n",
    "plt.yticks(fontsize=20)\n",
    "plt.ylabel('Density', fontsize=20)\n",
    "sns.despine()"
   ]
  },
  {
   "cell_type": "code",
   "execution_count": 18,
   "metadata": {},
   "outputs": [
    {
     "data": {
      "image/png": "[encoded data removed]",
      "text/plain": [
       "<Figure size 720x432 with 1 Axes>"
      ]
     },
     "metadata": {
      "needs_background": "light"
     },
     "output_type": "display_data"
    }
   ],
   "source": [
    "n = 1000\n",
    "\n",
    "ps = np.linspace(0, 1, num=30)\n",
    "sim_results = [average_n_tests(p, n = n) for p in ps]\n",
    "\n",
    "av_n_tests = [i[0] for i in sim_results]\n",
    "sd_n_tests = [i[1] for i in sim_results]\n",
    "\n",
    "ucl = [i + 1.96*j/np.sqrt(n) for i, j in zip(av_n_tests, sd_n_tests)]\n",
    "lcl = [i - 1.96*j/np.sqrt(n) for i, j in zip(av_n_tests, sd_n_tests)]\n",
    "\n",
    "plt.figure(figsize=(10, 6))\n",
    "plt.fill_between(ps, lcl, ucl)\n",
    "plt.plot([0, 1], [1, 1], linestyle='--', color='orange')\n",
    "plt.xlabel('Proportion of population infected', fontsize=20)\n",
    "plt.ylabel('Av. tests needed per person', fontsize=20)\n",
    "plt.xticks(fontsize=20)\n",
    "plt.yticks(fontsize=20)\n",
    "sns.despine()"
   ]
  },
  {
   "cell_type": "markdown",
   "metadata": {},
   "source": [
    "# Pension Liabilities at GM"
   ]
  },
  {
   "cell_type": "markdown",
   "metadata": {},
   "source": [
    "## Pro-forma analysis"
   ]
  },
  {
   "cell_type": "code",
   "execution_count": 19,
   "metadata": {},
   "outputs": [],
   "source": [
    "def pro_forma_liability(age_at_death):\n",
    "    '''\n",
    "    This function uses a pro-forma analysis to calculate the net-\n",
    "    present value of the pension healthcare liabilities for a\n",
    "    worker that is 65 in 2013 and dies at age_at_death\n",
    "    '''\n",
    "    \n",
    "    # Growth rate of healthcare costs\n",
    "    cost_growth = 0.085\n",
    "    \n",
    "    # Discount rate\n",
    "    discount_r  = 0.05\n",
    "    \n",
    "    # Initialize the variables with the first year, age, and cost\n",
    "    # The total liability starts at 0\n",
    "    year = 2013\n",
    "    age  = 45\n",
    "    cost = 10\n",
    "    total_liability = 0\n",
    "    \n",
    "    # Loop through all the years from now until the employee dies\n",
    "    for y in range(age_at_death - age):\n",
    "        # Only track costs if the age is >= 65; else the employer\n",
    "        # isn't paying for this liability\n",
    "        if age >= 65:\n",
    "            total_liability += cost/((1+discount_r)**y)\n",
    "        \n",
    "        # Update the year, age, and healthcare cost\n",
    "        year += 1\n",
    "        age  += 1\n",
    "        cost *= (1+cost_growth)\n",
    "            \n",
    "    return total_liability"
   ]
  },
  {
   "cell_type": "code",
   "execution_count": 20,
   "metadata": {},
   "outputs": [
    {
     "data": {
      "text/plain": [
       "307.22630336630107"
      ]
     },
     "execution_count": 20,
     "metadata": {},
     "output_type": "execute_result"
    }
   ],
   "source": [
    "pro_forma_liability(78)"
   ]
  },
  {
   "cell_type": "code",
   "execution_count": 21,
   "metadata": {},
   "outputs": [
    {
     "data": {
      "text/plain": [
       "19.26676420332768"
      ]
     },
     "execution_count": 21,
     "metadata": {},
     "output_type": "execute_result"
    }
   ],
   "source": [
    "pro_forma_liability(66)"
   ]
  },
  {
   "cell_type": "code",
   "execution_count": 22,
   "metadata": {},
   "outputs": [
    {
     "data": {
      "text/plain": [
       "734.0187643084853"
      ]
     },
     "execution_count": 22,
     "metadata": {},
     "output_type": "execute_result"
    }
   ],
   "source": [
    "pro_forma_liability(90)"
   ]
  },
  {
   "cell_type": "markdown",
   "metadata": {},
   "source": [
    "## Jensen's Inequality"
   ]
  },
  {
   "cell_type": "code",
   "execution_count": 23,
   "metadata": {},
   "outputs": [
    {
     "data": {
      "image/png": "[encoded data removed]",
      "text/plain": [
       "<Figure size 720x432 with 1 Axes>"
      ]
     },
     "metadata": {
      "needs_background": "light"
     },
     "output_type": "display_data"
    }
   ],
   "source": [
    "age_at_death = range(45,95)\n",
    "npv = [pro_forma_liability(i) for i in age_at_death]\n",
    "\n",
    "plt.figure(figsize=(10, 6))\n",
    "plt.plot(age_at_death, npv)\n",
    "plt.xlabel('Age at Death', fontsize=20)\n",
    "plt.ylabel('NPV of Liability', fontsize=20)\n",
    "plt.xticks(fontsize=20)\n",
    "plt.yticks(fontsize=20)\n",
    "sns.despine()"
   ]
  },
  {
   "cell_type": "markdown",
   "metadata": {},
   "source": [
    "## Simulating age of Death"
   ]
  },
  {
   "cell_type": "code",
   "execution_count": 24,
   "metadata": {},
   "outputs": [
    {
     "data": {
      "text/html": [
       "<div>\n",
       "<style scoped>\n",
       "    .dataframe tbody tr th:only-of-type {\n",
       "        vertical-align: middle;\n",
       "    }\n",
       "\n",
       "    .dataframe tbody tr th {\n",
       "        vertical-align: top;\n",
       "    }\n",
       "\n",
       "    .dataframe thead th {\n",
       "        text-align: right;\n",
       "    }\n",
       "</style>\n",
       "<table border=\"1\" class=\"dataframe\">\n",
       "  <thead>\n",
       "    <tr style=\"text-align: right;\">\n",
       "      <th></th>\n",
       "      <th>age</th>\n",
       "      <th>Death probability</th>\n",
       "      <th>Life expectancy</th>\n",
       "      <th>Death probability.1</th>\n",
       "      <th>Life expectancy.1</th>\n",
       "      <th>Unnamed: 5</th>\n",
       "      <th>Unnamed: 6</th>\n",
       "    </tr>\n",
       "  </thead>\n",
       "  <tbody>\n",
       "    <tr>\n",
       "      <th>0</th>\n",
       "      <td>0</td>\n",
       "      <td>0.006990</td>\n",
       "      <td>75.90</td>\n",
       "      <td>0.005728</td>\n",
       "      <td>80.81</td>\n",
       "      <td>NaN</td>\n",
       "      <td>a Probability of dying within one year.</td>\n",
       "    </tr>\n",
       "    <tr>\n",
       "      <th>1</th>\n",
       "      <td>1</td>\n",
       "      <td>0.000447</td>\n",
       "      <td>75.43</td>\n",
       "      <td>0.000373</td>\n",
       "      <td>80.28</td>\n",
       "      <td>NaN</td>\n",
       "      <td>Note: The period life expectancy at a given a...</td>\n",
       "    </tr>\n",
       "    <tr>\n",
       "      <th>2</th>\n",
       "      <td>2</td>\n",
       "      <td>0.000301</td>\n",
       "      <td>74.46</td>\n",
       "      <td>0.000241</td>\n",
       "      <td>79.31</td>\n",
       "      <td>NaN</td>\n",
       "      <td>The Social Security area population is compris...</td>\n",
       "    </tr>\n",
       "    <tr>\n",
       "      <th>3</th>\n",
       "      <td>3</td>\n",
       "      <td>0.000233</td>\n",
       "      <td>73.48</td>\n",
       "      <td>0.000186</td>\n",
       "      <td>78.32</td>\n",
       "      <td>NaN</td>\n",
       "      <td>NaN</td>\n",
       "    </tr>\n",
       "    <tr>\n",
       "      <th>4</th>\n",
       "      <td>4</td>\n",
       "      <td>0.000177</td>\n",
       "      <td>72.50</td>\n",
       "      <td>0.000150</td>\n",
       "      <td>77.34</td>\n",
       "      <td>NaN</td>\n",
       "      <td>NaN</td>\n",
       "    </tr>\n",
       "  </tbody>\n",
       "</table>\n",
       "</div>"
      ],
      "text/plain": [
       "   age  Death probability  Life expectancy  Death probability.1  \\\n",
       "0    0           0.006990            75.90             0.005728   \n",
       "1    1           0.000447            75.43             0.000373   \n",
       "2    2           0.000301            74.46             0.000241   \n",
       "3    3           0.000233            73.48             0.000186   \n",
       "4    4           0.000177            72.50             0.000150   \n",
       "\n",
       "   Life expectancy.1  Unnamed: 5  \\\n",
       "0              80.81         NaN   \n",
       "1              80.28         NaN   \n",
       "2              79.31         NaN   \n",
       "3              78.32         NaN   \n",
       "4              77.34         NaN   \n",
       "\n",
       "                                          Unnamed: 6  \n",
       "0            a Probability of dying within one year.  \n",
       "1   Note: The period life expectancy at a given a...  \n",
       "2  The Social Security area population is compris...  \n",
       "3                                                NaN  \n",
       "4                                                NaN  "
      ]
     },
     "execution_count": 24,
     "metadata": {},
     "output_type": "execute_result"
    }
   ],
   "source": [
    "import pandas as pd\n",
    "df_actuarial = pd.read_excel('/Users/gujiajun/Downloads/actuarial tables.xlsx', skiprows=3)\n",
    "df_actuarial.head()"
   ]
  },
  {
   "cell_type": "code",
   "execution_count": 25,
   "metadata": {},
   "outputs": [
    {
     "data": {
      "text/html": [
       "<div>\n",
       "<style scoped>\n",
       "    .dataframe tbody tr th:only-of-type {\n",
       "        vertical-align: middle;\n",
       "    }\n",
       "\n",
       "    .dataframe tbody tr th {\n",
       "        vertical-align: top;\n",
       "    }\n",
       "\n",
       "    .dataframe thead th {\n",
       "        text-align: right;\n",
       "    }\n",
       "</style>\n",
       "<table border=\"1\" class=\"dataframe\">\n",
       "  <thead>\n",
       "    <tr style=\"text-align: right;\">\n",
       "      <th></th>\n",
       "      <th>Death probability</th>\n",
       "      <th>Life expectancy</th>\n",
       "    </tr>\n",
       "    <tr>\n",
       "      <th>age</th>\n",
       "      <th></th>\n",
       "      <th></th>\n",
       "    </tr>\n",
       "  </thead>\n",
       "  <tbody>\n",
       "    <tr>\n",
       "      <th>0</th>\n",
       "      <td>0.006990</td>\n",
       "      <td>75.90</td>\n",
       "    </tr>\n",
       "    <tr>\n",
       "      <th>1</th>\n",
       "      <td>0.000447</td>\n",
       "      <td>75.43</td>\n",
       "    </tr>\n",
       "    <tr>\n",
       "      <th>2</th>\n",
       "      <td>0.000301</td>\n",
       "      <td>74.46</td>\n",
       "    </tr>\n",
       "    <tr>\n",
       "      <th>3</th>\n",
       "      <td>0.000233</td>\n",
       "      <td>73.48</td>\n",
       "    </tr>\n",
       "    <tr>\n",
       "      <th>4</th>\n",
       "      <td>0.000177</td>\n",
       "      <td>72.50</td>\n",
       "    </tr>\n",
       "  </tbody>\n",
       "</table>\n",
       "</div>"
      ],
      "text/plain": [
       "     Death probability  Life expectancy\n",
       "age                                    \n",
       "0             0.006990            75.90\n",
       "1             0.000447            75.43\n",
       "2             0.000301            74.46\n",
       "3             0.000233            73.48\n",
       "4             0.000177            72.50"
      ]
     },
     "execution_count": 25,
     "metadata": {},
     "output_type": "execute_result"
    }
   ],
   "source": [
    "df_actuarial = df_actuarial.iloc[:,:3]\n",
    "df_actuarial = df_actuarial.set_index('age')\n",
    "df_actuarial.head()"
   ]
  },
  {
   "cell_type": "code",
   "execution_count": 26,
   "metadata": {},
   "outputs": [],
   "source": [
    "def simulate_death_age():\n",
    "    '''\n",
    "    This function goes through every age from 45 to 119 and simulates\n",
    "    the probability of death at that age. As soon as one of the\n",
    "    simulations returns 1, that age is returned as the age of death\n",
    "    '''\n",
    "    \n",
    "    for age in range(45, 120):\n",
    "        if np.random.binomial(n=1, p=df_actuarial.loc[age, 'Death probability']) == 1:\n",
    "            return age"
   ]
  },
  {
   "cell_type": "code",
   "execution_count": 27,
   "metadata": {},
   "outputs": [
    {
     "name": "stdout",
     "output_type": "stream",
     "text": [
      "83\n",
      "90\n",
      "51\n"
     ]
    }
   ],
   "source": [
    "np.random.seed(123)\n",
    "print(simulate_death_age())\n",
    "print(simulate_death_age())\n",
    "print(simulate_death_age())"
   ]
  },
  {
   "cell_type": "code",
   "execution_count": 28,
   "metadata": {},
   "outputs": [
    {
     "data": {
      "text/plain": [
       "78.2484"
      ]
     },
     "execution_count": 28,
     "metadata": {},
     "output_type": "execute_result"
    }
   ],
   "source": [
    "np.mean([simulate_death_age() for i in range(5000)])"
   ]
  },
  {
   "cell_type": "markdown",
   "metadata": {},
   "source": [
    "### Back to GM"
   ]
  },
  {
   "cell_type": "code",
   "execution_count": 29,
   "metadata": {},
   "outputs": [
    {
     "name": "stderr",
     "output_type": "stream",
     "text": [
      "100%|██████████| 5000/5000 [00:01<00:00, 2600.64it/s]\n"
     ]
    }
   ],
   "source": [
    "n = 5000\n",
    "\n",
    "liability_npv = []\n",
    "\n",
    "np.random.seed(123)\n",
    "\n",
    "for i in tqdm(range(n)):\n",
    "    liability_npv.append(pro_forma_liability(simulate_death_age()))"
   ]
  },
  {
   "cell_type": "code",
   "execution_count": 30,
   "metadata": {},
   "outputs": [],
   "source": [
    "mean_liability = np.mean(liability_npv)\n",
    "se_liability = np.std(liability_npv)/np.sqrt(n)"
   ]
  },
  {
   "cell_type": "code",
   "execution_count": 31,
   "metadata": {},
   "outputs": [
    {
     "name": "stdout",
     "output_type": "stream",
     "text": [
      "95% CI: 392.55-410.08\n"
     ]
    }
   ],
   "source": [
    "print(f'95% CI: {round(mean_liability - 1.96*se_liability,2)}-{round(mean_liability + 1.96*se_liability,2)}')"
   ]
  },
  {
   "cell_type": "markdown",
   "metadata": {},
   "source": [
    "### Estimating probabilities"
   ]
  },
  {
   "cell_type": "code",
   "execution_count": 32,
   "metadata": {},
   "outputs": [
    {
     "name": "stderr",
     "output_type": "stream",
     "text": [
      "100%|██████████| 5000/5000 [00:01<00:00, 2696.21it/s]\n"
     ]
    }
   ],
   "source": [
    "n = 5000\n",
    "\n",
    "x = []\n",
    "\n",
    "np.random.seed(123)\n",
    "\n",
    "for i in tqdm(range(n)):\n",
    "    x.append(1 if simulate_death_age() >= 65 else 0)"
   ]
  },
  {
   "cell_type": "code",
   "execution_count": 33,
   "metadata": {},
   "outputs": [
    {
     "data": {
      "text/plain": [
       "0.8546"
      ]
     },
     "execution_count": 33,
     "metadata": {},
     "output_type": "execute_result"
    }
   ],
   "source": [
    "np.mean(x)"
   ]
  }
 ],
 "metadata": {
  "kernelspec": {
   "display_name": "Python 3",
   "language": "python",
   "name": "python3"
  },
  "language_info": {
   "codemirror_mode": {
    "name": "ipython",
    "version": 3
   },
   "file_extension": ".py",
   "mimetype": "text/x-python",
   "name": "python",
   "nbconvert_exporter": "python",
   "pygments_lexer": "ipython3",
   "version": "3.8.5"
  }
 },
 "nbformat": 4,
 "nbformat_minor": 4
}
